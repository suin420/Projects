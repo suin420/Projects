{
 "cells": [
  {
   "cell_type": "markdown",
   "metadata": {},
   "source": [
    "<font color='tomato'><font color=\"#CC3D3D\"><p>\n",
    "# Baseline for Competition #2"
   ]
  },
  {
   "cell_type": "markdown",
   "metadata": {},
   "source": [
    "- 백화점 구매이력에서 파생된 Feature를 사용하여 `고객의 성별(여자:0, 남자:1)을 예측`하는 문제\n",
    "- Feature Engineering 역량만을 평가하기 위한 Competition으로 사전 지정된 모델(`CatBoost`)만을 사용하여 예측 \n",
    "  - 모델링(X), 튜닝(X), 앙상블(X)\n",
    "  - CatBoost는 여러개의 의사결정나무를 앙상블하는 알고리즘의 일종"
   ]
  },
  {
   "cell_type": "markdown",
   "metadata": {},
   "source": [
    "### Import modules"
   ]
  },
  {
   "cell_type": "code",
   "execution_count": 2,
   "metadata": {},
   "outputs": [],
   "source": [
    "import pandas as pd\n",
    "import numpy as np\n",
    "import matplotlib.pylab as plt\n",
    "%matplotlib inline\n",
    "import pickle\n",
    "import warnings; warnings.filterwarnings(\"ignore\")\n",
    "\n",
    "from sklearn.metrics import roc_auc_score\n",
    "from sklearn.model_selection import cross_val_score\n",
    "# 이번 컴피티션에서는 CatBoost 모델만 사용하여 진행!!!\n",
    "from catboost import CatBoostClassifier"
   ]
  },
  {
   "cell_type": "markdown",
   "metadata": {},
   "source": [
    "## Step 1: Data Preprocessing"
   ]
  },
  {
   "cell_type": "markdown",
   "metadata": {},
   "source": [
    "##### Read data"
   ]
  },
  {
   "cell_type": "code",
   "execution_count": 3,
   "metadata": {},
   "outputs": [],
   "source": [
    "X_train = pd.read_csv('X_train.csv', encoding='cp949')\n",
    "y_train = pd.read_csv('y_train.csv').gender\n",
    "X_test = pd.read_csv('X_test.csv', encoding='cp949')\n",
    "\n",
    "# submission을 만들 때 사용하기 위해 ID 저정\n",
    "id_test = X_test.id"
   ]
  },
  {
   "cell_type": "code",
   "execution_count": 3,
   "metadata": {},
   "outputs": [],
   "source": [
    "X = X_train.columns "
   ]
  },
  {
   "cell_type": "markdown",
   "metadata": {},
   "source": [
    "##### Explore data"
   ]
  },
  {
   "cell_type": "code",
   "execution_count": 4,
   "metadata": {
    "scrolled": true
   },
   "outputs": [
    {
     "name": "stdout",
     "output_type": "stream",
     "text": [
      "<class 'pandas.core.frame.DataFrame'>\n",
      "RangeIndex: 3500 entries, 0 to 3499\n",
      "Data columns (total 67 columns):\n",
      " #   Column              Non-Null Count  Dtype  \n",
      "---  ------              --------------  -----  \n",
      " 0   id                  3500 non-null   int64  \n",
      " 1   총구매액                3500 non-null   int64  \n",
      " 2   구매건수                3500 non-null   int64  \n",
      " 3   평균구매액               3500 non-null   int64  \n",
      " 4   최대구매액               3500 non-null   int64  \n",
      " 5   구매상품종류1             3500 non-null   int64  \n",
      " 6   내점일수                3500 non-null   int64  \n",
      " 7   구매주기                3500 non-null   int64  \n",
      " 8   봄-구매비율              3500 non-null   float64\n",
      " 9   여름-구매비율             3500 non-null   float64\n",
      " 10  가을-구매비율             3500 non-null   float64\n",
      " 11  겨울-구매비율             3500 non-null   float64\n",
      " 12  환불금액                1205 non-null   float64\n",
      " 13  환불건수                1205 non-null   float64\n",
      " 14  내점당구매액              3500 non-null   float64\n",
      " 15  내점당구매건수             3500 non-null   float64\n",
      " 16  주구매상품               3500 non-null   object \n",
      " 17  주구매지점               3500 non-null   object \n",
      " 18  구매 추세 기울기           3500 non-null   float64\n",
      " 19  화장품구매주기             1614 non-null   float64\n",
      " 20  식료품구매액비율            3493 non-null   float64\n",
      " 21  평균식료품구매액분위          2525 non-null   float64\n",
      " 22  고가상품구매율             3500 non-null   float64\n",
      " 23  베스트셀러구매비율           3500 non-null   float64\n",
      " 24  환불비율                3500 non-null   float64\n",
      " 25  고객등급                3500 non-null   object \n",
      " 26  평일방문비율              3500 non-null   float64\n",
      " 27  평균대비구매비중            3500 non-null   float64\n",
      " 28  주환불상품               1205 non-null   object \n",
      " 29  남성포함상품구매건수          1077 non-null   float64\n",
      " 30  여성키워드상품구매건수         2089 non-null   float64\n",
      " 31  다양한 매장 방문           3500 non-null   int64  \n",
      " 32  가격선호도               3494 non-null   float64\n",
      " 33  라이프 스타일(평균)         3500 non-null   object \n",
      " 34  라이프 스타일(건수)         3500 non-null   object \n",
      " 35  주구매 요일              3500 non-null   object \n",
      " 36  선호방문계절              3500 non-null   object \n",
      " 37  선호방문월               3500 non-null   int64  \n",
      " 38  행사상품구매수             1589 non-null   float64\n",
      " 39  저가상품구매율             3500 non-null   float64\n",
      " 40  요일 간 구매건수 편차        3500 non-null   float64\n",
      " 41  충동지수                3493 non-null   float64\n",
      " 42  남성용품구매건수            3500 non-null   int64  \n",
      " 43  여성용품구매건수            3500 non-null   int64  \n",
      " 44  하루 최고 구매 건수         3500 non-null   int64  \n",
      " 45  만족도 떨어지는 제품 총 구입금액  1230 non-null   float64\n",
      " 46  만족도 떨어지는 제품 총 구매건수  3500 non-null   int64  \n",
      " 47  가성비 제품 총 구입금액       3192 non-null   float64\n",
      " 48  휴면일수                3500 non-null   int64  \n",
      " 49  취미용품 구매비율           3499 non-null   float64\n",
      " 50  아동용품 구매건수           3499 non-null   float64\n",
      " 51  명절식품비용              3500 non-null   int64  \n",
      " 52  발렌타인                3500 non-null   int64  \n",
      " 53  화이트                 3500 non-null   int64  \n",
      " 54  단독상품군구매율            3500 non-null   float64\n",
      " 55  구매액표준편차             3181 non-null   float64\n",
      " 56  중복구매배수              3500 non-null   float64\n",
      " 57  의류_거래율(의류+식품+생활잡화)  3500 non-null   float64\n",
      " 58  패션_대비_남성상품_거래율      3500 non-null   float64\n",
      " 59  패션_대비_여성상품_거래율      3500 non-null   float64\n",
      " 60  전체방문_중_환불방문(표준화)    3500 non-null   float64\n",
      " 61  월_재방문율              3500 non-null   float64\n",
      " 62  시즌 마감 방문비율          3500 non-null   float64\n",
      " 63  상반기 구매비율            3500 non-null   float64\n",
      " 64  구매 추세               3500 non-null   float64\n",
      " 65  주구매지점재방문률           3500 non-null   float64\n",
      " 66  내점시마다 구매액의 일관성      3500 non-null   float64\n",
      "dtypes: float64(41), int64(18), object(8)\n",
      "memory usage: 1.8+ MB\n"
     ]
    }
   ],
   "source": [
    "# 결측값 존재여부와 범주형 feature 확인\n",
    "X_train.info()"
   ]
  },
  {
   "cell_type": "code",
   "execution_count": 5,
   "metadata": {},
   "outputs": [],
   "source": [
    "# 환불금액, 환불건수, 화장품구매주기, 주환불상품, 남성포함상품구매건수\n",
    "# 행사상품구매수, 만족도 떨어지는 제품 총 구입금액\n",
    "\n",
    "X_train.drop(columns=['id','환불금액', '환불건수','화장품구매주기','주환불상품', '남성포함상품구매건수','행사상품구매수',\n",
    "                     '만족도 떨어지는 제품 총 구입금액'], axis=1, inplace=True)\n",
    "\n",
    "X_test.drop(columns=['id','환불금액', '환불건수','화장품구매주기','주환불상품', '남성포함상품구매건수','행사상품구매수',\n",
    "                     '만족도 떨어지는 제품 총 구입금액'], axis=1, inplace=True)"
   ]
  },
  {
   "cell_type": "code",
   "execution_count": 6,
   "metadata": {},
   "outputs": [],
   "source": [
    "# 범주형 변수와 수치형 변수를 분리\n",
    "cat_features = X_train.select_dtypes(include=['object']).columns.to_list()\n",
    "num_features = list(set(X_train.columns) - set(cat_features))"
   ]
  },
  {
   "cell_type": "markdown",
   "metadata": {},
   "source": [
    "##### Impute missing values"
   ]
  },
  {
   "cell_type": "code",
   "execution_count": 7,
   "metadata": {},
   "outputs": [],
   "source": [
    "from sklearn.impute import SimpleImputer \n",
    "\n",
    "if len(num_features) > 0:\n",
    "    imp = SimpleImputer(strategy='mean')\n",
    "    X_train[num_features] = imp.fit_transform(X_train[num_features])\n",
    "    X_test[num_features] = imp.transform(X_test[num_features])\n",
    "if len(cat_features) > 0:  \n",
    "    imp = SimpleImputer(strategy=\"most_frequent\")\n",
    "    X_train[cat_features] = imp.fit_transform(X_train[cat_features])\n",
    "    X_test[cat_features] = imp.transform(X_test[cat_features])"
   ]
  },
  {
   "cell_type": "code",
   "execution_count": 8,
   "metadata": {
    "scrolled": true
   },
   "outputs": [
    {
     "name": "stdout",
     "output_type": "stream",
     "text": [
      "<class 'pandas.core.frame.DataFrame'>\n",
      "RangeIndex: 3500 entries, 0 to 3499\n",
      "Data columns (total 52 columns):\n",
      " #   Column              Non-Null Count  Dtype  \n",
      "---  ------              --------------  -----  \n",
      " 0   의류_거래율(의류+식품+생활잡화)  3500 non-null   float64\n",
      " 1   명절식품비용              3500 non-null   float64\n",
      " 2   월_재방문율              3500 non-null   float64\n",
      " 3   여름-구매비율             3500 non-null   float64\n",
      " 4   시즌 마감 방문비율          3500 non-null   float64\n",
      " 5   베스트셀러구매비율           3500 non-null   float64\n",
      " 6   단독상품군구매율            3500 non-null   float64\n",
      " 7   구매 추세 기울기           3500 non-null   float64\n",
      " 8   다양한 매장 방문           3500 non-null   float64\n",
      " 9   상반기 구매비율            3500 non-null   float64\n",
      " 10  식료품구매액비율            3500 non-null   float64\n",
      " 11  총구매액                3500 non-null   float64\n",
      " 12  패션_대비_남성상품_거래율      3500 non-null   float64\n",
      " 13  평균구매액               3500 non-null   float64\n",
      " 14  구매 추세               3500 non-null   float64\n",
      " 15  남성용품구매건수            3500 non-null   float64\n",
      " 16  구매액표준편차             3500 non-null   float64\n",
      " 17  평균식료품구매액분위          3500 non-null   float64\n",
      " 18  중복구매배수              3500 non-null   float64\n",
      " 19  구매건수                3500 non-null   float64\n",
      " 20  평일방문비율              3500 non-null   float64\n",
      " 21  가을-구매비율             3500 non-null   float64\n",
      " 22  요일 간 구매건수 편차        3500 non-null   float64\n",
      " 23  가성비 제품 총 구입금액       3500 non-null   float64\n",
      " 24  발렌타인                3500 non-null   float64\n",
      " 25  내점시마다 구매액의 일관성      3500 non-null   float64\n",
      " 26  저가상품구매율             3500 non-null   float64\n",
      " 27  여성용품구매건수            3500 non-null   float64\n",
      " 28  봄-구매비율              3500 non-null   float64\n",
      " 29  내점당구매액              3500 non-null   float64\n",
      " 30  내점당구매건수             3500 non-null   float64\n",
      " 31  평균대비구매비중            3500 non-null   float64\n",
      " 32  여성키워드상품구매건수         3500 non-null   float64\n",
      " 33  만족도 떨어지는 제품 총 구매건수  3500 non-null   float64\n",
      " 34  휴면일수                3500 non-null   float64\n",
      " 35  아동용품 구매건수           3500 non-null   float64\n",
      " 36  전체방문_중_환불방문(표준화)    3500 non-null   float64\n",
      " 37  화이트                 3500 non-null   float64\n",
      " 38  주구매지점재방문률           3500 non-null   float64\n",
      " 39  가격선호도               3500 non-null   float64\n",
      " 40  최대구매액               3500 non-null   float64\n",
      " 41  내점일수                3500 non-null   float64\n",
      " 42  겨울-구매비율             3500 non-null   float64\n",
      " 43  취미용품 구매비율           3500 non-null   float64\n",
      " 44  구매상품종류1             3500 non-null   float64\n",
      " 45  고가상품구매율             3500 non-null   float64\n",
      " 46  충동지수                3500 non-null   float64\n",
      " 47  패션_대비_여성상품_거래율      3500 non-null   float64\n",
      " 48  환불비율                3500 non-null   float64\n",
      " 49  선호방문월               3500 non-null   float64\n",
      " 50  구매주기                3500 non-null   float64\n",
      " 51  하루 최고 구매 건수         3500 non-null   float64\n",
      "dtypes: float64(52)\n",
      "memory usage: 1.4 MB\n"
     ]
    }
   ],
   "source": [
    "X_train[num_features].info()"
   ]
  },
  {
   "cell_type": "markdown",
   "metadata": {},
   "source": [
    "##### Transform features (Feature Scaling)"
   ]
  },
  {
   "cell_type": "code",
   "execution_count": 9,
   "metadata": {},
   "outputs": [],
   "source": [
    "# DNN 모델링에서는 StandardScaler을 주로 사용\n",
    "from sklearn.preprocessing import StandardScaler\n",
    "\n",
    "scaler = StandardScaler()\n",
    "X_train[num_features] = scaler.fit_transform(X_train[num_features])\n",
    "X_test[num_features] = scaler.transform(X_test[num_features])"
   ]
  },
  {
   "cell_type": "markdown",
   "metadata": {},
   "source": [
    "##### Encode Categorical Variables"
   ]
  },
  {
   "cell_type": "code",
   "execution_count": 10,
   "metadata": {},
   "outputs": [],
   "source": [
    "df_encoded = pd.get_dummies(pd.concat([X_train, X_test]), columns=cat_features)\n",
    "X_train = df_encoded[:X_train.shape[0]]\n",
    "X_test = df_encoded[X_train.shape[0]:]"
   ]
  },
  {
   "cell_type": "markdown",
   "metadata": {},
   "source": [
    "#### Feature Importance"
   ]
  },
  {
   "cell_type": "code",
   "execution_count": 11,
   "metadata": {
    "scrolled": false
   },
   "outputs": [
    {
     "data": {
      "text/html": [
       "<div>\n",
       "<style scoped>\n",
       "    .dataframe tbody tr th:only-of-type {\n",
       "        vertical-align: middle;\n",
       "    }\n",
       "\n",
       "    .dataframe tbody tr th {\n",
       "        vertical-align: top;\n",
       "    }\n",
       "\n",
       "    .dataframe thead th {\n",
       "        text-align: right;\n",
       "    }\n",
       "</style>\n",
       "<table border=\"1\" class=\"dataframe\">\n",
       "  <thead>\n",
       "    <tr style=\"text-align: right;\">\n",
       "      <th></th>\n",
       "      <th>Feature</th>\n",
       "      <th>Importance</th>\n",
       "    </tr>\n",
       "  </thead>\n",
       "  <tbody>\n",
       "    <tr>\n",
       "      <th>115</th>\n",
       "      <td>주구매지점_전주점</td>\n",
       "      <td>1.154363</td>\n",
       "    </tr>\n",
       "    <tr>\n",
       "      <th>78</th>\n",
       "      <td>주구매상품_액세서리</td>\n",
       "      <td>0.956980</td>\n",
       "    </tr>\n",
       "    <tr>\n",
       "      <th>88</th>\n",
       "      <td>주구매상품_침구/수예</td>\n",
       "      <td>0.916825</td>\n",
       "    </tr>\n",
       "    <tr>\n",
       "      <th>53</th>\n",
       "      <td>주구매상품_가구</td>\n",
       "      <td>0.836387</td>\n",
       "    </tr>\n",
       "    <tr>\n",
       "      <th>99</th>\n",
       "      <td>주구매지점_대구점</td>\n",
       "      <td>0.808284</td>\n",
       "    </tr>\n",
       "    <tr>\n",
       "      <th>123</th>\n",
       "      <td>고객등급_vip고객</td>\n",
       "      <td>0.760808</td>\n",
       "    </tr>\n",
       "    <tr>\n",
       "      <th>76</th>\n",
       "      <td>주구매상품_아동</td>\n",
       "      <td>0.729170</td>\n",
       "    </tr>\n",
       "    <tr>\n",
       "      <th>95</th>\n",
       "      <td>주구매지점_강남점</td>\n",
       "      <td>0.656520</td>\n",
       "    </tr>\n",
       "    <tr>\n",
       "      <th>146</th>\n",
       "      <td>라이프 스타일(건수)_여성의류</td>\n",
       "      <td>0.653833</td>\n",
       "    </tr>\n",
       "    <tr>\n",
       "      <th>105</th>\n",
       "      <td>주구매지점_부평점</td>\n",
       "      <td>0.625919</td>\n",
       "    </tr>\n",
       "    <tr>\n",
       "      <th>93</th>\n",
       "      <td>주구매상품_피혁잡화</td>\n",
       "      <td>0.602847</td>\n",
       "    </tr>\n",
       "    <tr>\n",
       "      <th>129</th>\n",
       "      <td>라이프 스타일(평균)_기타</td>\n",
       "      <td>0.559292</td>\n",
       "    </tr>\n",
       "    <tr>\n",
       "      <th>116</th>\n",
       "      <td>주구매지점_창원점</td>\n",
       "      <td>0.552899</td>\n",
       "    </tr>\n",
       "    <tr>\n",
       "      <th>130</th>\n",
       "      <td>라이프 스타일(평균)_남성의류</td>\n",
       "      <td>0.522283</td>\n",
       "    </tr>\n",
       "    <tr>\n",
       "      <th>68</th>\n",
       "      <td>주구매상품_생활잡화</td>\n",
       "      <td>0.521954</td>\n",
       "    </tr>\n",
       "    <tr>\n",
       "      <th>58</th>\n",
       "      <td>주구매상품_남성 캐주얼</td>\n",
       "      <td>0.515172</td>\n",
       "    </tr>\n",
       "    <tr>\n",
       "      <th>98</th>\n",
       "      <td>주구매지점_노원점</td>\n",
       "      <td>0.489591</td>\n",
       "    </tr>\n",
       "    <tr>\n",
       "      <th>112</th>\n",
       "      <td>주구매지점_인천점</td>\n",
       "      <td>0.479379</td>\n",
       "    </tr>\n",
       "    <tr>\n",
       "      <th>79</th>\n",
       "      <td>주구매상품_육류</td>\n",
       "      <td>0.460533</td>\n",
       "    </tr>\n",
       "    <tr>\n",
       "      <th>46</th>\n",
       "      <td>월_재방문율</td>\n",
       "      <td>0.439681</td>\n",
       "    </tr>\n",
       "    <tr>\n",
       "      <th>114</th>\n",
       "      <td>주구매지점_잠실점</td>\n",
       "      <td>0.420013</td>\n",
       "    </tr>\n",
       "    <tr>\n",
       "      <th>143</th>\n",
       "      <td>라이프 스타일(건수)_생활용품</td>\n",
       "      <td>0.412031</td>\n",
       "    </tr>\n",
       "    <tr>\n",
       "      <th>132</th>\n",
       "      <td>라이프 스타일(평균)_생활용품</td>\n",
       "      <td>0.406898</td>\n",
       "    </tr>\n",
       "    <tr>\n",
       "      <th>125</th>\n",
       "      <td>고객등급_수면고객</td>\n",
       "      <td>0.406387</td>\n",
       "    </tr>\n",
       "    <tr>\n",
       "      <th>147</th>\n",
       "      <td>라이프 스타일(건수)_예체능</td>\n",
       "      <td>0.403567</td>\n",
       "    </tr>\n",
       "    <tr>\n",
       "      <th>67</th>\n",
       "      <td>주구매상품_보석</td>\n",
       "      <td>0.395736</td>\n",
       "    </tr>\n",
       "    <tr>\n",
       "      <th>138</th>\n",
       "      <td>라이프 스타일(평균)_화장품</td>\n",
       "      <td>0.389784</td>\n",
       "    </tr>\n",
       "    <tr>\n",
       "      <th>124</th>\n",
       "      <td>고객등급_관심대상고객</td>\n",
       "      <td>0.380635</td>\n",
       "    </tr>\n",
       "    <tr>\n",
       "      <th>52</th>\n",
       "      <td>주구매상품_가공식품</td>\n",
       "      <td>0.379855</td>\n",
       "    </tr>\n",
       "    <tr>\n",
       "      <th>134</th>\n",
       "      <td>라이프 스타일(평균)_아동용품</td>\n",
       "      <td>0.379825</td>\n",
       "    </tr>\n",
       "  </tbody>\n",
       "</table>\n",
       "</div>"
      ],
      "text/plain": [
       "              Feature  Importance\n",
       "115         주구매지점_전주점    1.154363\n",
       "78         주구매상품_액세서리    0.956980\n",
       "88        주구매상품_침구/수예    0.916825\n",
       "53           주구매상품_가구    0.836387\n",
       "99          주구매지점_대구점    0.808284\n",
       "123        고객등급_vip고객    0.760808\n",
       "76           주구매상품_아동    0.729170\n",
       "95          주구매지점_강남점    0.656520\n",
       "146  라이프 스타일(건수)_여성의류    0.653833\n",
       "105         주구매지점_부평점    0.625919\n",
       "93         주구매상품_피혁잡화    0.602847\n",
       "129    라이프 스타일(평균)_기타    0.559292\n",
       "116         주구매지점_창원점    0.552899\n",
       "130  라이프 스타일(평균)_남성의류    0.522283\n",
       "68         주구매상품_생활잡화    0.521954\n",
       "58       주구매상품_남성 캐주얼    0.515172\n",
       "98          주구매지점_노원점    0.489591\n",
       "112         주구매지점_인천점    0.479379\n",
       "79           주구매상품_육류    0.460533\n",
       "46             월_재방문율    0.439681\n",
       "114         주구매지점_잠실점    0.420013\n",
       "143  라이프 스타일(건수)_생활용품    0.412031\n",
       "132  라이프 스타일(평균)_생활용품    0.406898\n",
       "125         고객등급_수면고객    0.406387\n",
       "147   라이프 스타일(건수)_예체능    0.403567\n",
       "67           주구매상품_보석    0.395736\n",
       "138   라이프 스타일(평균)_화장품    0.389784\n",
       "124       고객등급_관심대상고객    0.380635\n",
       "52         주구매상품_가공식품    0.379855\n",
       "134  라이프 스타일(평균)_아동용품    0.379825"
      ]
     },
     "execution_count": 11,
     "metadata": {},
     "output_type": "execute_result"
    }
   ],
   "source": [
    "# 피처 중요도\n",
    "from sklearn.linear_model import LogisticRegression\n",
    "from sklearn.preprocessing import StandardScaler\n",
    "\n",
    "\n",
    "model = LogisticRegression()\n",
    "model.fit(X_train, y_train)\n",
    "\n",
    "\n",
    "coefficients = model.coef_[0]\n",
    "\n",
    "feature_importance = pd.DataFrame({'Feature': X_train.columns, 'Importance': np.abs(coefficients)})\n",
    "feature_importance = feature_importance.sort_values('Importance', ascending=False)\n",
    "feature_importance.head(30)"
   ]
  },
  {
   "cell_type": "code",
   "execution_count": 12,
   "metadata": {},
   "outputs": [],
   "source": [
    "X_train['g1'] = X_train.groupby('주구매지점_전주점')['주구매상품_액세서리'].transform('count')      \n",
    "X_test['g1'] = X_test.groupby('주구매지점_전주점')['주구매상품_액세서리'].transform('count') \n",
    "\n",
    "X_train['g2'] = X_train.groupby('주구매지점_전주점')['주구매상품_액세서리'].transform('sum')      \n",
    "X_test['g2'] = X_test.groupby('주구매지점_전주점')['주구매상품_액세서리'].transform('sum') \n",
    "\n",
    "X_train['g3'] = X_train.groupby('주구매지점_전주점')['주구매상품_액세서리'].transform('mean')      \n",
    "X_test['g3'] = X_test.groupby('주구매지점_전주점')['주구매상품_액세서리'].transform('mean') \n",
    "\n"
   ]
  },
  {
   "cell_type": "code",
   "execution_count": 13,
   "metadata": {},
   "outputs": [],
   "source": [
    "X_train['여성용품구매건수_라이프스타일'] = X_train['여성용품구매건수']+X_train['라이프 스타일(건수)_여성의류']\n",
    "X_test['여성용품구매건수_라이프스타일'] = X_test['여성용품구매건수']+X_test['라이프 스타일(건수)_여성의류']\n",
    "\n",
    "X_train['주구매지점_전주점_대구점'] = X_train['주구매지점_전주점']+X_train['주구매지점_대구점']\n",
    "X_test['주구매지점_전주점_대구점'] = X_test['주구매지점_전주점']+X_test['주구매지점_대구점']\n",
    "\n",
    "X_train['주구매상품/주구매건수_아동용품'] = X_train['주구매상품_아동']+X_train['아동용품 구매건수']\n",
    "X_test['주구매상품/주구매건수_아동용품'] = X_test['주구매상품_아동']+X_test['아동용품 구매건수']\n",
    "\n",
    "X_train['주구매지점_전주점_액세서리'] = X_train['주구매지점_전주점']+X_train['주구매상품_액세서리']\n",
    "X_test['주구매지점_전주점_액세서리'] = X_test['주구매지점_전주점']+X_test['주구매상품_액세서리']\n",
    "\n",
    "X_train['주구매상품_액세서리/침구'] = X_train['주구매상품_액세서리']+X_train['주구매상품_침구/수예']\n",
    "X_test['주구매상품_액세서리/침구'] = X_test['주구매상품_액세서리']+X_test['주구매상품_침구/수예']\n",
    "\n",
    "X_train['new_3'] = X_train['주구매지점_대구점']+X_train['고객등급_vip고객']\n",
    "X_test['new_3'] = X_test['주구매지점_대구점']+X_test['고객등급_vip고객']\n",
    "\n",
    "X_train['new_4'] = X_train['주구매상품_아동']+X_train['라이프 스타일(건수)_여성의류']\n",
    "X_test['new_4'] = X_test['주구매상품_아동']+X_test['라이프 스타일(건수)_여성의류']\n",
    "\n",
    "X_train['new_5'] = X_train['주구매지점_강남점']+X_train['주구매지점_부평점']\n",
    "X_test['new_5'] = X_test['주구매지점_강남점']+X_test['주구매지점_부평점']\n",
    "\n",
    "X_train['new_2'] = X_train['주구매상품_침구/수예']+X_train['주구매상품_가구']\n",
    "X_test['new_2'] = X_test['주구매상품_침구/수예']+X_test['주구매상품_가구']\n",
    "\n",
    "X_train['new_6'] = X_train['주구매상품_보석']+X_train['주구매상품_액세서리']\n",
    "X_test['new_6'] = X_test['주구매상품_보석']+X_test['주구매상품_액세서리']\n",
    "\n"
   ]
  },
  {
   "cell_type": "markdown",
   "metadata": {},
   "source": [
    "##### Select Features"
   ]
  },
  {
   "cell_type": "code",
   "execution_count": 14,
   "metadata": {
    "scrolled": true
   },
   "outputs": [
    {
     "data": {
      "application/vnd.jupyter.widget-view+json": {
       "model_id": "5830ad164bf942668291583b20e24021",
       "version_major": 2,
       "version_minor": 0
      },
      "text/plain": [
       "  0%|          | 0/95 [00:00<?, ?it/s]"
      ]
     },
     "metadata": {},
     "output_type": "display_data"
    },
    {
     "name": "stdout",
     "output_type": "stream",
     "text": [
      "(64, 0.7400849406381648)\n"
     ]
    },
    {
     "data": {
      "image/png": "[encoded data removed]",
      "text/plain": [
       "<Figure size 640x480 with 1 Axes>"
      ]
     },
     "metadata": {},
     "output_type": "display_data"
    }
   ],
   "source": [
    "from sklearn.linear_model import LogisticRegression\n",
    "from sklearn.feature_selection import SelectPercentile\n",
    "from sklearn.model_selection import cross_val_score\n",
    "from tqdm import tqdm, tqdm_notebook\n",
    "\n",
    "# 사용할 모델 설정 \n",
    "model = LogisticRegression(random_state=0)\n",
    "\n",
    "# 각 특성과 타깃(class) 사이에 유의한 통계적 관계가 있는지 계산하여 특성을 선택하는 방법 \n",
    "cv_scores = []\n",
    "for p in tqdm_notebook(range(5,100,1)):\n",
    "    X_new = SelectPercentile(percentile=p).fit_transform(X_train, y_train)    \n",
    "    cv_score = cross_val_score(model, X_new, y_train, scoring='roc_auc', cv=10).mean()\n",
    "    cv_scores.append((p,cv_score))\n",
    "\n",
    "# Print the best percentile\n",
    "best_score = cv_scores[np.argmax([score for _, score in cv_scores])]\n",
    "print(best_score)\n",
    "\n",
    "# Plot the performance change with p\n",
    "plt.plot([k for k, _ in cv_scores], [score for _, score in cv_scores])\n",
    "plt.xlabel('Percent of features')\n",
    "plt.grid()"
   ]
  },
  {
   "cell_type": "code",
   "execution_count": 15,
   "metadata": {},
   "outputs": [
    {
     "name": "stdout",
     "output_type": "stream",
     "text": [
      "(3500, 111)\n"
     ]
    }
   ],
   "source": [
    "fs = SelectPercentile(percentile=best_score[0]).fit(X_train, y_train)\n",
    "X_train = fs.transform(X_train)\n",
    "X_test = fs.transform(X_test)\n",
    "\n",
    "print(X_train.shape)"
   ]
  },
  {
   "cell_type": "markdown",
   "metadata": {},
   "source": [
    "<font color='tomato'><font color=\"#CC3D3D\"><p>\n",
    "### Step 2: Modeling\n",
    "아래 코드는 절대 수정하지 말것!!! 수정하여 submission 제출시 무조건 0점 처리함!!!"
   ]
  },
  {
   "cell_type": "markdown",
   "metadata": {},
   "source": [
    "##### Build models"
   ]
  },
  {
   "cell_type": "code",
   "execution_count": 16,
   "metadata": {},
   "outputs": [
    {
     "data": {
      "text/plain": [
       "<catboost.core.CatBoostClassifier at 0x1cbf6770be0>"
      ]
     },
     "execution_count": 16,
     "metadata": {},
     "output_type": "execute_result"
    }
   ],
   "source": [
    "model = CatBoostClassifier(random_state=0, silent=True)\n",
    "model.fit(X_train, y_train)"
   ]
  },
  {
   "cell_type": "markdown",
   "metadata": {},
   "source": [
    "##### Evaluate models"
   ]
  },
  {
   "cell_type": "code",
   "execution_count": 17,
   "metadata": {
    "scrolled": true
   },
   "outputs": [
    {
     "data": {
      "text/plain": [
       "(0.7399577491112768, 0.019340967158699585)"
      ]
     },
     "execution_count": 17,
     "metadata": {},
     "output_type": "execute_result"
    }
   ],
   "source": [
    "# 모델 성능 내부 검증\n",
    "scores = cross_val_score(model, X_train, y_train, scoring='roc_auc', cv=5)\n",
    "scores.mean(), scores.std()"
   ]
  },
  {
   "cell_type": "markdown",
   "metadata": {},
   "source": [
    "mean - (0.7407999474020514, 0.02058546640403137)  \n",
    "median - (0.7422868681441426, 0.021235942582327885)  \n",
    "피처3, cv=10 - (0.7436855003061186, 0.01944780364250979)\n",
    "\n",
    "수인+민지 : (0.7443580498572924, 0.019019630819702964)"
   ]
  },
  {
   "cell_type": "markdown",
   "metadata": {},
   "source": [
    "##### Make submissions & Save features"
   ]
  },
  {
   "cell_type": "code",
   "execution_count": 18,
   "metadata": {},
   "outputs": [
    {
     "name": "stdout",
     "output_type": "stream",
     "text": [
      "'submission_05192353.csv' is ready to submit.\n"
     ]
    }
   ],
   "source": [
    "# 만들어진 csv화일 => 캐글에 submission\n",
    "t = pd.Timestamp.now()\n",
    "fname = f\"submission_{t.month:02}{t.day:02}{t.hour:02}{t.minute:02}.csv\"\n",
    "pd.DataFrame({'id': id_test, 'gender': model.predict_proba(X_test)[:,1]}).to_csv(fname, index=False)\n",
    "print(f\"'{fname}' is ready to submit.\")\n",
    "\n",
    "# pickle 형식으로 저장 => 컴피티션 종료 후 가장 성능이 높은 화일을 담당교수 이메일로 제출\n",
    "fname = f\"features_{t.month:02}{t.day:02}{t.hour:02}{t.minute:02}.pkl\"\n",
    "with open(fname, 'wb') as f:\n",
    "    pickle.dump((X_train, X_test, model), f)"
   ]
  },
  {
   "cell_type": "markdown",
   "metadata": {},
   "source": [
    "<font color=\"#CC3D3D\"><p>\n",
    "# End"
   ]
  }
 ],
 "metadata": {
  "kernelspec": {
   "display_name": "Python 3 (ipykernel)",
   "language": "python",
   "name": "python3"
  },
  "language_info": {
   "codemirror_mode": {
    "name": "ipython",
    "version": 3
   },
   "file_extension": ".py",
   "mimetype": "text/x-python",
   "name": "python",
   "nbconvert_exporter": "python",
   "pygments_lexer": "ipython3",
   "version": "3.11.5"
  },
  "toc": {
   "base_numbering": 1,
   "nav_menu": {},
   "number_sections": true,
   "sideBar": true,
   "skip_h1_title": false,
   "title_cell": "Table of Contents",
   "title_sidebar": "Contents",
   "toc_cell": false,
   "toc_position": {},
   "toc_section_display": true,
   "toc_window_display": false
  }
 },
 "nbformat": 4,
 "nbformat_minor": 4
}
