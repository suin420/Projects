{
 "cells": [
  {
   "cell_type": "markdown",
   "id": "1430b5a7",
   "metadata": {
    "papermill": {
     "duration": 0.007529,
     "end_time": "2023-06-20T07:53:44.101146",
     "exception": false,
     "start_time": "2023-06-20T07:53:44.093617",
     "status": "completed"
    },
    "tags": []
   },
   "source": [
    "<font color='tomato'><font color=\"#CC3D3D\"><p>\n",
    "# DNN Modeling for Multiclass Classification"
   ]
  },
  {
   "cell_type": "markdown",
   "id": "12f25620",
   "metadata": {
    "papermill": {
     "duration": 0.00673,
     "end_time": "2023-06-20T07:53:44.114894",
     "exception": false,
     "start_time": "2023-06-20T07:53:44.108164",
     "status": "completed"
    },
    "tags": []
   },
   "source": [
    "**전역변수 설정**"
   ]
  },
  {
   "cell_type": "code",
   "execution_count": 1,
   "id": "6eec410b",
   "metadata": {
    "execution": {
     "iopub.execute_input": "2023-06-20T07:53:44.130493Z",
     "iopub.status.busy": "2023-06-20T07:53:44.129818Z",
     "iopub.status.idle": "2023-06-20T07:53:44.141335Z",
     "shell.execute_reply": "2023-06-20T07:53:44.140523Z"
    },
    "papermill": {
     "duration": 0.021575,
     "end_time": "2023-06-20T07:53:44.143272",
     "exception": false,
     "start_time": "2023-06-20T07:53:44.121697",
     "status": "completed"
    },
    "tags": []
   },
   "outputs": [],
   "source": [
    "DNN_VERSION = 2.0  # submission 화일명에 사용\n",
    "SEED = 0          # random_state 지정\n",
    "BATCH_SIZE = 42    # batch size 지정"
   ]
  },
  {
   "cell_type": "markdown",
   "id": "adf64e74",
   "metadata": {
    "papermill": {
     "duration": 0.006675,
     "end_time": "2023-06-20T07:53:44.156752",
     "exception": false,
     "start_time": "2023-06-20T07:53:44.150077",
     "status": "completed"
    },
    "tags": []
   },
   "source": [
    "##### Import modules"
   ]
  },
  {
   "cell_type": "markdown",
   "id": "b6fc7154",
   "metadata": {},
   "source": [
    "!pip install tensorflow"
   ]
  },
  {
   "cell_type": "markdown",
   "id": "8858f42a",
   "metadata": {},
   "source": [
    "!pip install -q -U keras-tuner"
   ]
  },
  {
   "cell_type": "code",
   "execution_count": 1,
   "id": "bbf5e23a",
   "metadata": {
    "execution": {
     "iopub.execute_input": "2023-06-20T07:53:44.174892Z",
     "iopub.status.busy": "2023-06-20T07:53:44.174137Z",
     "iopub.status.idle": "2023-06-20T07:53:53.109311Z",
     "shell.execute_reply": "2023-06-20T07:53:53.107609Z"
    },
    "papermill": {
     "duration": 8.945436,
     "end_time": "2023-06-20T07:53:53.111711",
     "exception": false,
     "start_time": "2023-06-20T07:53:44.166275",
     "status": "completed"
    },
    "tags": []
   },
   "outputs": [
    {
     "name": "stdout",
     "output_type": "stream",
     "text": [
      "2.9.3\n"
     ]
    }
   ],
   "source": [
    "import pandas as pd\n",
    "import numpy as np\n",
    "import os\n",
    "import random\n",
    "from IPython.display import Image, clear_output\n",
    "import seaborn as sns\n",
    "import matplotlib.pylab as plt\n",
    "from matplotlib import font_manager, rc\n",
    "%matplotlib inline\n",
    "from sklearn.preprocessing import StandardScaler\n",
    "from sklearn.model_selection import train_test_split\n",
    "import tensorflow as tf\n",
    "from tensorflow import keras\n",
    "import keras_tuner as kt\n",
    "print(tf.__version__)"
   ]
  },
  {
   "cell_type": "markdown",
   "id": "8e66e9b1",
   "metadata": {
    "papermill": {
     "duration": 0.007263,
     "end_time": "2023-06-20T07:53:53.126593",
     "exception": false,
     "start_time": "2023-06-20T07:53:53.119330",
     "status": "completed"
    },
    "tags": []
   },
   "source": [
    "##### Set random seeds to make your results reproducible"
   ]
  },
  {
   "cell_type": "code",
   "execution_count": 3,
   "id": "8bc1ef4e",
   "metadata": {
    "execution": {
     "iopub.execute_input": "2023-06-20T07:53:53.142597Z",
     "iopub.status.busy": "2023-06-20T07:53:53.142053Z",
     "iopub.status.idle": "2023-06-20T07:53:53.148245Z",
     "shell.execute_reply": "2023-06-20T07:53:53.147359Z"
    },
    "papermill": {
     "duration": 0.016449,
     "end_time": "2023-06-20T07:53:53.150313",
     "exception": false,
     "start_time": "2023-06-20T07:53:53.133864",
     "status": "completed"
    },
    "tags": []
   },
   "outputs": [],
   "source": [
    "# 매번 모델링을 할 때마다 동일한 결과를 얻으려면 아래 코드를 실행해야 함.\n",
    "\n",
    "def reset_seeds(seed, reset_graph_with_backend=None):\n",
    "    if reset_graph_with_backend is not None:\n",
    "        K = reset_graph_with_backend\n",
    "        K.clear_session()\n",
    "        tf.compat.v1.reset_default_graph()\n",
    "        print(\"KERAS AND TENSORFLOW GRAPHS RESET\")  # optional\n",
    "\n",
    "    np.random.seed(seed)\n",
    "    random.seed(seed)\n",
    "    tf.compat.v1.set_random_seed(seed)\n",
    "#    os.environ['CUDA_VISIBLE_DEVICES'] = ''  # for GPU\n",
    "reset_seeds(0)"
   ]
  },
  {
   "cell_type": "markdown",
   "id": "5b078531",
   "metadata": {
    "papermill": {
     "duration": 0.006966,
     "end_time": "2023-06-20T07:53:53.164387",
     "exception": false,
     "start_time": "2023-06-20T07:53:53.157421",
     "status": "completed"
    },
    "tags": []
   },
   "source": [
    "### Step 1: Load and process the data"
   ]
  },
  {
   "cell_type": "markdown",
   "id": "42e35496",
   "metadata": {
    "papermill": {
     "duration": 0.0069,
     "end_time": "2023-06-20T07:53:53.178328",
     "exception": false,
     "start_time": "2023-06-20T07:53:53.171428",
     "status": "completed"
    },
    "tags": []
   },
   "source": [
    "##### Read data"
   ]
  },
  {
   "cell_type": "code",
   "execution_count": 4,
   "id": "cf68fde7",
   "metadata": {
    "execution": {
     "iopub.execute_input": "2023-06-20T07:53:53.194375Z",
     "iopub.status.busy": "2023-06-20T07:53:53.193538Z",
     "iopub.status.idle": "2023-06-20T07:53:55.325754Z",
     "shell.execute_reply": "2023-06-20T07:53:55.324809Z"
    },
    "papermill": {
     "duration": 2.14271,
     "end_time": "2023-06-20T07:53:55.328076",
     "exception": false,
     "start_time": "2023-06-20T07:53:53.185366",
     "status": "completed"
    },
    "tags": []
   },
   "outputs": [
    {
     "data": {
      "text/html": [
       "<div>\n",
       "<style scoped>\n",
       "    .dataframe tbody tr th:only-of-type {\n",
       "        vertical-align: middle;\n",
       "    }\n",
       "\n",
       "    .dataframe tbody tr th {\n",
       "        vertical-align: top;\n",
       "    }\n",
       "\n",
       "    .dataframe thead th {\n",
       "        text-align: right;\n",
       "    }\n",
       "</style>\n",
       "<table border=\"1\" class=\"dataframe\">\n",
       "  <thead>\n",
       "    <tr style=\"text-align: right;\">\n",
       "      <th></th>\n",
       "      <th>f000</th>\n",
       "      <th>f001</th>\n",
       "      <th>f002</th>\n",
       "      <th>f003</th>\n",
       "      <th>f004</th>\n",
       "      <th>f005</th>\n",
       "      <th>f006</th>\n",
       "      <th>f007</th>\n",
       "      <th>f008</th>\n",
       "      <th>f009</th>\n",
       "      <th>...</th>\n",
       "      <th>f118</th>\n",
       "      <th>f119</th>\n",
       "      <th>f120</th>\n",
       "      <th>f121</th>\n",
       "      <th>f122</th>\n",
       "      <th>f123</th>\n",
       "      <th>f124</th>\n",
       "      <th>f125</th>\n",
       "      <th>f126</th>\n",
       "      <th>f127</th>\n",
       "    </tr>\n",
       "  </thead>\n",
       "  <tbody>\n",
       "    <tr>\n",
       "      <th>0</th>\n",
       "      <td>0.154932</td>\n",
       "      <td>0.105392</td>\n",
       "      <td>0.068760</td>\n",
       "      <td>0.213738</td>\n",
       "      <td>0.178632</td>\n",
       "      <td>0.185432</td>\n",
       "      <td>0.115931</td>\n",
       "      <td>0.220182</td>\n",
       "      <td>0.049942</td>\n",
       "      <td>0.053519</td>\n",
       "      <td>...</td>\n",
       "      <td>0.129909</td>\n",
       "      <td>0.019110</td>\n",
       "      <td>0.155175</td>\n",
       "      <td>0.118905</td>\n",
       "      <td>0.128475</td>\n",
       "      <td>0.194789</td>\n",
       "      <td>0.250839</td>\n",
       "      <td>0.114440</td>\n",
       "      <td>0.188980</td>\n",
       "      <td>0.124858</td>\n",
       "    </tr>\n",
       "    <tr>\n",
       "      <th>1</th>\n",
       "      <td>0.150265</td>\n",
       "      <td>0.113493</td>\n",
       "      <td>0.053723</td>\n",
       "      <td>0.279898</td>\n",
       "      <td>0.220548</td>\n",
       "      <td>0.216846</td>\n",
       "      <td>0.142696</td>\n",
       "      <td>0.249474</td>\n",
       "      <td>0.080952</td>\n",
       "      <td>0.048257</td>\n",
       "      <td>...</td>\n",
       "      <td>0.147738</td>\n",
       "      <td>0.064068</td>\n",
       "      <td>0.207723</td>\n",
       "      <td>0.158806</td>\n",
       "      <td>0.149532</td>\n",
       "      <td>0.215697</td>\n",
       "      <td>0.397651</td>\n",
       "      <td>0.184792</td>\n",
       "      <td>0.182523</td>\n",
       "      <td>0.161461</td>\n",
       "    </tr>\n",
       "    <tr>\n",
       "      <th>2</th>\n",
       "      <td>0.163253</td>\n",
       "      <td>0.206024</td>\n",
       "      <td>0.179661</td>\n",
       "      <td>0.253725</td>\n",
       "      <td>0.175406</td>\n",
       "      <td>0.261342</td>\n",
       "      <td>0.212712</td>\n",
       "      <td>0.190733</td>\n",
       "      <td>0.200579</td>\n",
       "      <td>0.076563</td>\n",
       "      <td>...</td>\n",
       "      <td>0.178145</td>\n",
       "      <td>0.087018</td>\n",
       "      <td>0.246528</td>\n",
       "      <td>0.208857</td>\n",
       "      <td>0.079992</td>\n",
       "      <td>0.257902</td>\n",
       "      <td>0.419524</td>\n",
       "      <td>0.318593</td>\n",
       "      <td>0.067054</td>\n",
       "      <td>0.224041</td>\n",
       "    </tr>\n",
       "    <tr>\n",
       "      <th>3</th>\n",
       "      <td>0.119036</td>\n",
       "      <td>0.094877</td>\n",
       "      <td>0.061333</td>\n",
       "      <td>0.186340</td>\n",
       "      <td>0.070998</td>\n",
       "      <td>0.166113</td>\n",
       "      <td>0.163255</td>\n",
       "      <td>0.219687</td>\n",
       "      <td>0.068889</td>\n",
       "      <td>0.096517</td>\n",
       "      <td>...</td>\n",
       "      <td>0.057782</td>\n",
       "      <td>0.054187</td>\n",
       "      <td>0.218044</td>\n",
       "      <td>0.099540</td>\n",
       "      <td>0.154490</td>\n",
       "      <td>0.144451</td>\n",
       "      <td>0.194623</td>\n",
       "      <td>0.195095</td>\n",
       "      <td>0.159906</td>\n",
       "      <td>0.086877</td>\n",
       "    </tr>\n",
       "    <tr>\n",
       "      <th>4</th>\n",
       "      <td>0.216432</td>\n",
       "      <td>0.172594</td>\n",
       "      <td>0.221798</td>\n",
       "      <td>0.295499</td>\n",
       "      <td>0.245131</td>\n",
       "      <td>0.402211</td>\n",
       "      <td>0.161807</td>\n",
       "      <td>0.313463</td>\n",
       "      <td>0.118416</td>\n",
       "      <td>0.073019</td>\n",
       "      <td>...</td>\n",
       "      <td>0.261979</td>\n",
       "      <td>0.078613</td>\n",
       "      <td>0.318539</td>\n",
       "      <td>0.224083</td>\n",
       "      <td>0.143784</td>\n",
       "      <td>0.372206</td>\n",
       "      <td>0.367924</td>\n",
       "      <td>0.301673</td>\n",
       "      <td>0.187598</td>\n",
       "      <td>0.246487</td>\n",
       "    </tr>\n",
       "  </tbody>\n",
       "</table>\n",
       "<p>5 rows × 128 columns</p>\n",
       "</div>"
      ],
      "text/plain": [
       "       f000      f001      f002      f003      f004      f005      f006  \\\n",
       "0  0.154932  0.105392  0.068760  0.213738  0.178632  0.185432  0.115931   \n",
       "1  0.150265  0.113493  0.053723  0.279898  0.220548  0.216846  0.142696   \n",
       "2  0.163253  0.206024  0.179661  0.253725  0.175406  0.261342  0.212712   \n",
       "3  0.119036  0.094877  0.061333  0.186340  0.070998  0.166113  0.163255   \n",
       "4  0.216432  0.172594  0.221798  0.295499  0.245131  0.402211  0.161807   \n",
       "\n",
       "       f007      f008      f009  ...      f118      f119      f120      f121  \\\n",
       "0  0.220182  0.049942  0.053519  ...  0.129909  0.019110  0.155175  0.118905   \n",
       "1  0.249474  0.080952  0.048257  ...  0.147738  0.064068  0.207723  0.158806   \n",
       "2  0.190733  0.200579  0.076563  ...  0.178145  0.087018  0.246528  0.208857   \n",
       "3  0.219687  0.068889  0.096517  ...  0.057782  0.054187  0.218044  0.099540   \n",
       "4  0.313463  0.118416  0.073019  ...  0.261979  0.078613  0.318539  0.224083   \n",
       "\n",
       "       f122      f123      f124      f125      f126      f127  \n",
       "0  0.128475  0.194789  0.250839  0.114440  0.188980  0.124858  \n",
       "1  0.149532  0.215697  0.397651  0.184792  0.182523  0.161461  \n",
       "2  0.079992  0.257902  0.419524  0.318593  0.067054  0.224041  \n",
       "3  0.154490  0.144451  0.194623  0.195095  0.159906  0.086877  \n",
       "4  0.143784  0.372206  0.367924  0.301673  0.187598  0.246487  \n",
       "\n",
       "[5 rows x 128 columns]"
      ]
     },
     "execution_count": 4,
     "metadata": {},
     "output_type": "execute_result"
    }
   ],
   "source": [
    "X_train = pd.read_csv('/kaggle/input/ml-final-exam-type-01/X_train_exam_01.csv', encoding='cp949').drop('custid', axis=1)\n",
    "y_train = pd.read_csv('/kaggle/input/ml-final-exam-type-01/y_train_exam_01.csv').group\n",
    "X_test = pd.read_csv('/kaggle/input/ml-final-exam-type-01/X_test_exam_01.csv', encoding='cp949')\n",
    "IDtest = X_test.ID.unique()\n",
    "X_test = X_test.drop('ID', axis=1)\n",
    "\n",
    "X_train.head()"
   ]
  },
  {
   "cell_type": "code",
   "execution_count": 5,
   "id": "ce065a0a",
   "metadata": {
    "execution": {
     "iopub.execute_input": "2023-06-20T07:53:55.344876Z",
     "iopub.status.busy": "2023-06-20T07:53:55.344583Z",
     "iopub.status.idle": "2023-06-20T07:53:55.350270Z",
     "shell.execute_reply": "2023-06-20T07:53:55.349325Z"
    },
    "papermill": {
     "duration": 0.016388,
     "end_time": "2023-06-20T07:53:55.352538",
     "exception": false,
     "start_time": "2023-06-20T07:53:55.336150",
     "status": "completed"
    },
    "tags": []
   },
   "outputs": [],
   "source": [
    "num_categories = y_train.nunique()"
   ]
  },
  {
   "cell_type": "code",
   "execution_count": 6,
   "id": "3fbc989d",
   "metadata": {
    "execution": {
     "iopub.execute_input": "2023-06-20T07:53:55.369420Z",
     "iopub.status.busy": "2023-06-20T07:53:55.369164Z",
     "iopub.status.idle": "2023-06-20T07:53:55.376911Z",
     "shell.execute_reply": "2023-06-20T07:53:55.376078Z"
    },
    "papermill": {
     "duration": 0.018416,
     "end_time": "2023-06-20T07:53:55.378814",
     "exception": false,
     "start_time": "2023-06-20T07:53:55.360398",
     "status": "completed"
    },
    "tags": []
   },
   "outputs": [],
   "source": [
    "categories = y_train.astype('category').cat.categories"
   ]
  },
  {
   "cell_type": "markdown",
   "id": "505ba672",
   "metadata": {
    "papermill": {
     "duration": 0.007744,
     "end_time": "2023-06-20T07:53:55.394451",
     "exception": false,
     "start_time": "2023-06-20T07:53:55.386707",
     "status": "completed"
    },
    "tags": []
   },
   "source": [
    "##### One-hot-encode Target variable "
   ]
  },
  {
   "cell_type": "code",
   "execution_count": 7,
   "id": "28e7b2cc",
   "metadata": {
    "execution": {
     "iopub.execute_input": "2023-06-20T07:53:55.411442Z",
     "iopub.status.busy": "2023-06-20T07:53:55.411173Z",
     "iopub.status.idle": "2023-06-20T07:53:55.419746Z",
     "shell.execute_reply": "2023-06-20T07:53:55.418788Z"
    },
    "papermill": {
     "duration": 0.019526,
     "end_time": "2023-06-20T07:53:55.421979",
     "exception": false,
     "start_time": "2023-06-20T07:53:55.402453",
     "status": "completed"
    },
    "tags": []
   },
   "outputs": [],
   "source": [
    "# 8개의 범주형 타겟 값을 one-hot-encoding을 통해 8개의 컬럼으로 만들어야 함.\n",
    "y_train = keras.utils.to_categorical(y_train.astype('category').cat.codes)"
   ]
  },
  {
   "cell_type": "code",
   "execution_count": 8,
   "id": "7f78c023",
   "metadata": {
    "execution": {
     "iopub.execute_input": "2023-06-20T07:53:55.439668Z",
     "iopub.status.busy": "2023-06-20T07:53:55.439405Z",
     "iopub.status.idle": "2023-06-20T07:53:55.444225Z",
     "shell.execute_reply": "2023-06-20T07:53:55.443345Z"
    },
    "papermill": {
     "duration": 0.016088,
     "end_time": "2023-06-20T07:53:55.446918",
     "exception": false,
     "start_time": "2023-06-20T07:53:55.430830",
     "status": "completed"
    },
    "tags": []
   },
   "outputs": [
    {
     "name": "stdout",
     "output_type": "stream",
     "text": [
      "0: F20\n",
      "1: F30\n",
      "2: F40\n",
      "3: F50\n",
      "4: M20\n",
      "5: M30\n",
      "6: M40\n",
      "7: M50\n"
     ]
    }
   ],
   "source": [
    "for i in range(num_categories):\n",
    "    print(f\"{i}: {categories[i]}\")"
   ]
  },
  {
   "cell_type": "markdown",
   "id": "6754cbf4",
   "metadata": {
    "papermill": {
     "duration": 0.007568,
     "end_time": "2023-06-20T07:53:55.462039",
     "exception": false,
     "start_time": "2023-06-20T07:53:55.454471",
     "status": "completed"
    },
    "tags": []
   },
   "source": [
    "##### Split data into train & validation set "
   ]
  },
  {
   "cell_type": "code",
   "execution_count": 9,
   "id": "88b2832c",
   "metadata": {
    "execution": {
     "iopub.execute_input": "2023-06-20T07:53:55.479228Z",
     "iopub.status.busy": "2023-06-20T07:53:55.478499Z",
     "iopub.status.idle": "2023-06-20T07:53:55.500523Z",
     "shell.execute_reply": "2023-06-20T07:53:55.499701Z"
    },
    "papermill": {
     "duration": 0.032467,
     "end_time": "2023-06-20T07:53:55.502452",
     "exception": false,
     "start_time": "2023-06-20T07:53:55.469985",
     "status": "completed"
    },
    "tags": []
   },
   "outputs": [],
   "source": [
    "# 학습 데이터를 다시 학습과 검증 데이터로 분할\n",
    "X_train, X_valid, y_train, y_valid = train_test_split(X_train, y_train, test_size=0.2, random_state=0)"
   ]
  },
  {
   "cell_type": "markdown",
   "id": "e5695042",
   "metadata": {
    "papermill": {
     "duration": 0.007605,
     "end_time": "2023-06-20T07:53:55.517761",
     "exception": false,
     "start_time": "2023-06-20T07:53:55.510156",
     "status": "completed"
    },
    "tags": []
   },
   "source": [
    "##### Feature scaling"
   ]
  },
  {
   "cell_type": "code",
   "execution_count": 10,
   "id": "bdfb569f",
   "metadata": {
    "execution": {
     "iopub.execute_input": "2023-06-20T07:53:55.534137Z",
     "iopub.status.busy": "2023-06-20T07:53:55.533885Z",
     "iopub.status.idle": "2023-06-20T07:53:55.578080Z",
     "shell.execute_reply": "2023-06-20T07:53:55.577147Z"
    },
    "papermill": {
     "duration": 0.055118,
     "end_time": "2023-06-20T07:53:55.580564",
     "exception": false,
     "start_time": "2023-06-20T07:53:55.525446",
     "status": "completed"
    },
    "tags": []
   },
   "outputs": [],
   "source": [
    "# DNN은 scale된 값을 입력값으로 사용해야 함.\n",
    "scaler = StandardScaler()\n",
    "X_train = scaler.fit_transform(X_train)\n",
    "X_valid = scaler.transform(X_valid)\n",
    "X_test = scaler.transform(X_test)"
   ]
  },
  {
   "cell_type": "markdown",
   "id": "7c484c8a",
   "metadata": {
    "papermill": {
     "duration": 0.007639,
     "end_time": "2023-06-20T07:53:55.596859",
     "exception": false,
     "start_time": "2023-06-20T07:53:55.589220",
     "status": "completed"
    },
    "tags": []
   },
   "source": [
    "### Step 2: Define the hyper-model"
   ]
  },
  {
   "cell_type": "markdown",
   "id": "cea79789",
   "metadata": {
    "papermill": {
     "duration": 0.007677,
     "end_time": "2023-06-20T07:53:55.612529",
     "exception": false,
     "start_time": "2023-06-20T07:53:55.604852",
     "status": "completed"
    },
    "tags": []
   },
   "source": [
    "<font color=\"blue\"><p>\n",
    "- 모형 정의하기 (입력층/은익층/출력층 쌓기)"
   ]
  },
  {
   "cell_type": "code",
   "execution_count": 11,
   "id": "b7f4f476",
   "metadata": {
    "execution": {
     "iopub.execute_input": "2023-06-20T07:53:55.630040Z",
     "iopub.status.busy": "2023-06-20T07:53:55.629214Z",
     "iopub.status.idle": "2023-06-20T07:53:58.447567Z",
     "shell.execute_reply": "2023-06-20T07:53:58.446590Z"
    },
    "papermill": {
     "duration": 2.829438,
     "end_time": "2023-06-20T07:53:58.449904",
     "exception": false,
     "start_time": "2023-06-20T07:53:55.620466",
     "status": "completed"
    },
    "tags": []
   },
   "outputs": [],
   "source": [
    "inputs = keras.Input(shape=(X_train.shape[1],))\n",
    "x = inputs\n",
    "x = keras.layers.Dense(32, activation='relu')(x)\n",
    "x = keras.layers.Dropout(0.2)(x)\n",
    "outputs = keras.layers.Dense(8, activation='softmax')(x) # 예측값이 8종류이므로 8개 출력 뉴런 필요\n",
    "model = keras.Model(inputs, outputs)"
   ]
  },
  {
   "cell_type": "code",
   "execution_count": 12,
   "id": "c7bdefeb",
   "metadata": {
    "execution": {
     "iopub.execute_input": "2023-06-20T07:53:58.468863Z",
     "iopub.status.busy": "2023-06-20T07:53:58.468020Z",
     "iopub.status.idle": "2023-06-20T07:53:58.626612Z",
     "shell.execute_reply": "2023-06-20T07:53:58.625678Z"
    },
    "papermill": {
     "duration": 0.170442,
     "end_time": "2023-06-20T07:53:58.628813",
     "exception": false,
     "start_time": "2023-06-20T07:53:58.458371",
     "status": "completed"
    },
    "tags": []
   },
   "outputs": [
    {
     "name": "stdout",
     "output_type": "stream",
     "text": [
      "Model: \"model\"\n",
      "_________________________________________________________________\n",
      " Layer (type)                Output Shape              Param #   \n",
      "=================================================================\n",
      " input_1 (InputLayer)        [(None, 128)]             0         \n",
      "                                                                 \n",
      " dense (Dense)               (None, 32)                4128      \n",
      "                                                                 \n",
      " dropout (Dropout)           (None, 32)                0         \n",
      "                                                                 \n",
      " dense_1 (Dense)             (None, 8)                 264       \n",
      "                                                                 \n",
      "=================================================================\n",
      "Total params: 4,392\n",
      "Trainable params: 4,392\n",
      "Non-trainable params: 0\n",
      "_________________________________________________________________\n",
      "None\n"
     ]
    },
    {
     "data": {
      "image/png": "[encoded data removed]",
      "text/plain": [
       "<IPython.core.display.Image object>"
      ]
     },
     "execution_count": 12,
     "metadata": {},
     "output_type": "execute_result"
    }
   ],
   "source": [
    "# 모형 구조 출력\n",
    "print(model.summary())\n",
    "\n",
    "# 연결 그래프 시각화\n",
    "keras.utils.plot_model(model, show_shapes=True, show_layer_names=False, show_layer_activations=True)"
   ]
  },
  {
   "cell_type": "markdown",
   "id": "24cca903",
   "metadata": {
    "papermill": {
     "duration": 0.010204,
     "end_time": "2023-06-20T07:53:58.649479",
     "exception": false,
     "start_time": "2023-06-20T07:53:58.639275",
     "status": "completed"
    },
    "tags": []
   },
   "source": [
    "<font color=\"blue\"><p>\n",
    "- 하이퍼모델 정의하기"
   ]
  },
  {
   "cell_type": "raw",
   "id": "9f71c889",
   "metadata": {
    "papermill": {
     "duration": 0.009711,
     "end_time": "2023-06-20T07:53:58.669218",
     "exception": false,
     "start_time": "2023-06-20T07:53:58.659507",
     "status": "completed"
    },
    "tags": []
   },
   "source": [
    "def model_fn(hp):\n",
    "    inputs = keras.Input(shape=(X_train.shape[1],))\n",
    "    x = inputs\n",
    "    for i in range(hp.Int('num_layers', 2, 3)):\n",
    "        x = keras.layers.Dense(hp.Int('unit_'+str(i), 16, 64, step=16), activation='relu')(x)\n",
    "        x = keras.layers.Dropout(hp.Float('dropout_'+str(i), 0, 0.5, step=0.25, default=0.5))(x)\n",
    "    outputs = keras.layers.Dense(8, activation='softmax')(x) # 예측값이 8종류이므로 8개 출력 뉴런 필요\n",
    "    model = keras.Model(inputs, outputs)\n",
    "    model.compile(loss='categorical_crossentropy', # Multiclass Classification에서 사용하는 loss function\n",
    "                  optimizer=tf.keras.optimizers.Adam(hp.Choice('learning_rate', [1e-2, 1e-3, 1e-4])), \n",
    "                  metrics=[keras.metrics.CategoricalCrossentropy()]) # Multiclass Classification에서 사용하는 평가지표\n",
    "    return model"
   ]
  },
  {
   "cell_type": "code",
   "execution_count": 13,
   "id": "07d53020",
   "metadata": {
    "execution": {
     "iopub.execute_input": "2023-06-20T07:53:58.690564Z",
     "iopub.status.busy": "2023-06-20T07:53:58.690242Z",
     "iopub.status.idle": "2023-06-20T07:53:58.695593Z",
     "shell.execute_reply": "2023-06-20T07:53:58.694638Z"
    },
    "papermill": {
     "duration": 0.018321,
     "end_time": "2023-06-20T07:53:58.697579",
     "exception": false,
     "start_time": "2023-06-20T07:53:58.679258",
     "status": "completed"
    },
    "tags": []
   },
   "outputs": [],
   "source": [
    "def model_fn(hp):\n",
    "    model.compile(loss='categorical_crossentropy', # Multiclass Classification에서 사용하는 loss function\n",
    "                  optimizer=tf.keras.optimizers.Adam(hp.Choice('learning_rate', [1e-2, 1e-3, 1e-4])), \n",
    "                  metrics=[keras.metrics.CategoricalCrossentropy()]) # Multiclass Classification에서 사용하는 평가지표\n",
    "    return model"
   ]
  },
  {
   "cell_type": "markdown",
   "id": "8c39e74b",
   "metadata": {
    "papermill": {
     "duration": 0.009965,
     "end_time": "2023-06-20T07:53:58.717271",
     "exception": false,
     "start_time": "2023-06-20T07:53:58.707306",
     "status": "completed"
    },
    "tags": []
   },
   "source": [
    "### Step 3: Build multiple hyper-tuned models"
   ]
  },
  {
   "cell_type": "markdown",
   "id": "9c52dd3b",
   "metadata": {
    "papermill": {
     "duration": 0.009564,
     "end_time": "2023-06-20T07:53:58.736767",
     "exception": false,
     "start_time": "2023-06-20T07:53:58.727203",
     "status": "completed"
    },
    "tags": []
   },
   "source": [
    "<font color=\"blue\"><p>\n",
    "- Tuner 설정 & 하이퍼튜닝 수행하기"
   ]
  },
  {
   "cell_type": "code",
   "execution_count": 14,
   "id": "468bc281",
   "metadata": {
    "execution": {
     "iopub.execute_input": "2023-06-20T07:53:58.757774Z",
     "iopub.status.busy": "2023-06-20T07:53:58.756970Z",
     "iopub.status.idle": "2023-06-20T07:53:58.778462Z",
     "shell.execute_reply": "2023-06-20T07:53:58.777512Z"
    },
    "papermill": {
     "duration": 0.034219,
     "end_time": "2023-06-20T07:53:58.780625",
     "exception": false,
     "start_time": "2023-06-20T07:53:58.746406",
     "status": "completed"
    },
    "scrolled": true,
    "tags": []
   },
   "outputs": [
    {
     "name": "stdout",
     "output_type": "stream",
     "text": [
      "Results summary\n",
      "Results in dnn_tuning/untitled_project\n",
      "Showing 1 best trials\n",
      "Objective(name=\"val_categorical_crossentropy\", direction=\"min\")\n"
     ]
    }
   ],
   "source": [
    "tuner = kt.Hyperband(model_fn,\n",
    "                     objective=kt.Objective('val_categorical_crossentropy', direction=\"min\"), \n",
    "                     max_epochs=100,\n",
    "                     hyperband_iterations=2,\n",
    "                     seed=SEED,\n",
    "                     overwrite=True,\n",
    "                     directory='dnn_tuning')\n",
    "\n",
    "tuner.results_summary(1)"
   ]
  },
  {
   "cell_type": "code",
   "execution_count": 15,
   "id": "aa98e256",
   "metadata": {
    "execution": {
     "iopub.execute_input": "2023-06-20T07:53:58.802268Z",
     "iopub.status.busy": "2023-06-20T07:53:58.801514Z",
     "iopub.status.idle": "2023-06-20T07:54:17.922157Z",
     "shell.execute_reply": "2023-06-20T07:54:17.921122Z"
    },
    "papermill": {
     "duration": 19.133378,
     "end_time": "2023-06-20T07:54:17.924203",
     "exception": false,
     "start_time": "2023-06-20T07:53:58.790825",
     "status": "completed"
    },
    "tags": []
   },
   "outputs": [
    {
     "name": "stdout",
     "output_type": "stream",
     "text": [
      "Trial 3 Complete [00h 00m 05s]\n",
      "val_categorical_crossentropy: 1.5790338516235352\n",
      "\n",
      "Best val_categorical_crossentropy So Far: 1.5790338516235352\n",
      "Total elapsed time: 00h 00m 19s\n",
      "Results summary\n",
      "Results in dnn_tuning/untitled_project\n",
      "Showing 1 best trials\n",
      "Objective(name=\"val_categorical_crossentropy\", direction=\"min\")\n",
      "\n",
      "Trial 0002 summary\n",
      "Hyperparameters:\n",
      "learning_rate: 0.001\n",
      "tuner/epochs: 2\n",
      "tuner/initial_epoch: 0\n",
      "tuner/bracket: 4\n",
      "tuner/round: 0\n",
      "Score: 1.5790338516235352\n",
      "CPU times: user 17.4 s, sys: 1.89 s, total: 19.3 s\n",
      "Wall time: 19.1 s\n"
     ]
    }
   ],
   "source": [
    "%%time\n",
    "\n",
    "# 하이퍼튜닝 수행: tuner.search()의 파라미터는 Keras의 model.fit() 파라미터와 동일\n",
    "tuner.search(X_train, y_train, validation_data=(X_valid, y_valid), \n",
    "             callbacks=[tf.keras.callbacks.EarlyStopping(patience=3)])\n",
    "\n",
    "# 튜닝결과 요약\n",
    "tuner.results_summary(num_trials=1)"
   ]
  },
  {
   "cell_type": "markdown",
   "id": "34d53c90",
   "metadata": {
    "papermill": {
     "duration": 0.009788,
     "end_time": "2023-06-20T07:54:17.944649",
     "exception": false,
     "start_time": "2023-06-20T07:54:17.934861",
     "status": "completed"
    },
    "tags": []
   },
   "source": [
    "<font color=\"blue\"><p>\n",
    "- 최적의 하이퍼파라미터로 모델 재학습하기"
   ]
  },
  {
   "cell_type": "code",
   "execution_count": 16,
   "id": "b829cba1",
   "metadata": {
    "execution": {
     "iopub.execute_input": "2023-06-20T07:54:17.966476Z",
     "iopub.status.busy": "2023-06-20T07:54:17.965690Z",
     "iopub.status.idle": "2023-06-20T07:54:39.744920Z",
     "shell.execute_reply": "2023-06-20T07:54:39.743650Z"
    },
    "papermill": {
     "duration": 21.793677,
     "end_time": "2023-06-20T07:54:39.748317",
     "exception": false,
     "start_time": "2023-06-20T07:54:17.954640",
     "status": "completed"
    },
    "tags": []
   },
   "outputs": [
    {
     "name": "stdout",
     "output_type": "stream",
     "text": [
      "Epoch 1/16\n",
      "257/257 [==============================] - 2s 3ms/step - loss: 1.5633 - categorical_crossentropy: 1.5633\n",
      "Epoch 2/16\n",
      "257/257 [==============================] - 1s 3ms/step - loss: 1.5593 - categorical_crossentropy: 1.5593\n",
      "Epoch 3/16\n",
      "257/257 [==============================] - 1s 3ms/step - loss: 1.5595 - categorical_crossentropy: 1.5595\n",
      "Epoch 4/16\n",
      "257/257 [==============================] - 1s 3ms/step - loss: 1.5560 - categorical_crossentropy: 1.5560\n",
      "Epoch 5/16\n",
      "257/257 [==============================] - 1s 3ms/step - loss: 1.5560 - categorical_crossentropy: 1.5560\n",
      "Epoch 6/16\n",
      "257/257 [==============================] - 1s 3ms/step - loss: 1.5544 - categorical_crossentropy: 1.5544\n",
      "Epoch 7/16\n",
      "257/257 [==============================] - 1s 3ms/step - loss: 1.5533 - categorical_crossentropy: 1.5533\n",
      "Epoch 8/16\n",
      "257/257 [==============================] - 1s 3ms/step - loss: 1.5545 - categorical_crossentropy: 1.5545\n",
      "Epoch 9/16\n",
      "257/257 [==============================] - 1s 3ms/step - loss: 1.5501 - categorical_crossentropy: 1.5501\n",
      "Epoch 10/16\n",
      "257/257 [==============================] - 1s 3ms/step - loss: 1.5498 - categorical_crossentropy: 1.5498\n",
      "Epoch 11/16\n",
      "257/257 [==============================] - 1s 3ms/step - loss: 1.5455 - categorical_crossentropy: 1.5455\n",
      "Epoch 12/16\n",
      "257/257 [==============================] - 1s 3ms/step - loss: 1.5463 - categorical_crossentropy: 1.5463\n",
      "Epoch 13/16\n",
      "257/257 [==============================] - 1s 3ms/step - loss: 1.5458 - categorical_crossentropy: 1.5458\n",
      "Epoch 14/16\n",
      "257/257 [==============================] - 1s 3ms/step - loss: 1.5424 - categorical_crossentropy: 1.5424\n",
      "Epoch 15/16\n",
      "257/257 [==============================] - 1s 3ms/step - loss: 1.5448 - categorical_crossentropy: 1.5448\n",
      "Epoch 16/16\n",
      "257/257 [==============================] - 1s 3ms/step - loss: 1.5452 - categorical_crossentropy: 1.5452\n"
     ]
    }
   ],
   "source": [
    "# 모델 재현시 Seed 고정 필요\n",
    "reset_seeds(SEED)\n",
    "\n",
    "# 베스트 모델 사용\n",
    "model = tuner.get_best_models(1)[0]\n",
    "# submission 화일명에 사용\n",
    "val_rmse = model.evaluate(X_valid, y_valid, verbose=0)[1]\n",
    "\n",
    "# 전체 데이터로 재학습\n",
    "hist = model.fit(\n",
    "    x=np.concatenate((X_train, X_valid)),\n",
    "    y=np.concatenate((y_train, y_valid)),\n",
    "    batch_size=BATCH_SIZE*2, # 튜닝할 때 사용한 값과 다른 값으로 설정하는 것이 좋을 수 있음 \n",
    "    epochs=16,                # 작은값으로 설정\n",
    "    shuffle=False,      \n",
    "    verbose=1,\n",
    ")"
   ]
  },
  {
   "cell_type": "markdown",
   "id": "45cc9648",
   "metadata": {
    "papermill": {
     "duration": 0.041546,
     "end_time": "2023-06-20T07:54:39.840212",
     "exception": false,
     "start_time": "2023-06-20T07:54:39.798666",
     "status": "completed"
    },
    "tags": []
   },
   "source": [
    "### Step 4: Make submissions"
   ]
  },
  {
   "cell_type": "code",
   "execution_count": 17,
   "id": "10f5a5fe",
   "metadata": {
    "execution": {
     "iopub.execute_input": "2023-06-20T07:54:39.925719Z",
     "iopub.status.busy": "2023-06-20T07:54:39.925270Z",
     "iopub.status.idle": "2023-06-20T07:54:41.582061Z",
     "shell.execute_reply": "2023-06-20T07:54:41.580097Z"
    },
    "papermill": {
     "duration": 1.70397,
     "end_time": "2023-06-20T07:54:41.584532",
     "exception": false,
     "start_time": "2023-06-20T07:54:39.880562",
     "status": "completed"
    },
    "tags": []
   },
   "outputs": [
    {
     "name": "stdout",
     "output_type": "stream",
     "text": [
      "450/450 [==============================] - 1s 2ms/step\n",
      "'dnn_submission_06200754.csv' is ready to submit.\n"
     ]
    }
   ],
   "source": [
    "# 예측값 얻기\n",
    "pred = pd.DataFrame(model.predict(X_test))\n",
    "pred.columns = ['F20','F30','F40','F50','M20','M30','M40','M50']\n",
    "\n",
    "# submission 화일 생성\n",
    "t = pd.Timestamp.now()\n",
    "filename = f\"dnn_submission_{t.month:02}{t.day:02}{t.hour:02}{t.minute:02}.csv\"\n",
    "pd.concat([pd.Series(IDtest, name=\"ID\"), pred] ,axis=1).to_csv(filename, index=False)\n",
    "\n",
    "print(f\"'{filename}' is ready to submit.\")"
   ]
  },
  {
   "cell_type": "markdown",
   "id": "4b182370",
   "metadata": {
    "papermill": {
     "duration": 0.030651,
     "end_time": "2023-06-20T07:54:41.646940",
     "exception": false,
     "start_time": "2023-06-20T07:54:41.616289",
     "status": "completed"
    },
    "tags": []
   },
   "source": [
    "<font color=\"#CC3D3D\"><p>\n",
    "# End"
   ]
  }
 ],
 "metadata": {
  "kernelspec": {
   "display_name": "Python 3 (ipykernel)",
   "language": "python",
   "name": "python3"
  },
  "language_info": {
   "codemirror_mode": {
    "name": "ipython",
    "version": 3
   },
   "file_extension": ".py",
   "mimetype": "text/x-python",
   "name": "python",
   "nbconvert_exporter": "python",
   "pygments_lexer": "ipython3",
   "version": "3.8.16"
  },
  "papermill": {
   "default_parameters": {},
   "duration": 71.747432,
   "end_time": "2023-06-20T07:54:44.911341",
   "environment_variables": {},
   "exception": null,
   "input_path": "__notebook__.ipynb",
   "output_path": "__notebook__.ipynb",
   "parameters": {},
   "start_time": "2023-06-20T07:53:33.163909",
   "version": "2.4.0"
  }
 },
 "nbformat": 4,
 "nbformat_minor": 5
}
