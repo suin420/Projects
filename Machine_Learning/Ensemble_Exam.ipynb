{
 "cells": [
  {
   "cell_type": "markdown",
   "id": "59643684",
   "metadata": {},
   "source": [
    "### 사용할 수 있는 모델들\n",
    "로지스틱회귀, 디시젼트리, MLP분류모델, KNN, SVC, lightGBM, XGBoost, catBoost"
   ]
  },
  {
   "cell_type": "code",
   "execution_count": null,
   "id": "6c022b72",
   "metadata": {},
   "outputs": [],
   "source": [
    "import pandas as pd\n",
    "import pickle\n",
    "import numpy as np\n",
    "import seaborn as sns\n",
    "import matplotlib.pylab as plt\n",
    "%matplotlib inline\n",
    "import warnings\n",
    "warnings.filterwarnings(\"ignore\")"
   ]
  },
  {
   "cell_type": "code",
   "execution_count": null,
   "id": "cb28b6ce",
   "metadata": {},
   "outputs": [],
   "source": [
    "from sklearn.linear_model import LogisticRegression\n",
    "from sklearn.neighbors import KNeighborsClassifier\n",
    "from sklearn.tree import DecisionTreeClassifier\n",
    "from sklearn.neural_network import MLPClassifier  # 뉴럴넷. 대표적인 비선형 모델\n",
    "from sklearn.svm import SVC # 선형 모델. 서포트 벡터머신. 직선을 그어서 두 개의 클래스를 나눔. \n",
    "from xgboost import XGBClassifier\n",
    "from lightgbm import LGBMClassifier\n",
    "from catboost import CatBoostClassifier\n",
    "from sklearn.ensemble import RandomForestClassifier, AdaBoostClassifier, GradientBoostingClassifier, ExtraTreesClassifier, VotingClassifier\n",
    "from sklearn.ensemble import BaggingClassifier\n",
    "from sklearn.ensemble import StackingClassifier\n",
    "from ngboost import NGBClassifier\n",
    "from ngboost.distns import k_categorical, Bernoulli\n",
    "\n",
    "from sklearn.model_selection import cross_validate\n",
    "from sklearn.model_selection import GridSearchCV, cross_val_score, StratifiedKFold, learning_curve\n",
    "from sklearn.metrics import accuracy_score\n",
    "from sklearn.metrics import roc_auc_score\n",
    "from sklearn.metrics import auc\n",
    "import optuna"
   ]
  },
  {
   "cell_type": "code",
   "execution_count": null,
   "id": "a17f1087",
   "metadata": {
    "scrolled": true
   },
   "outputs": [],
   "source": [
    "# Read Data\n",
    "\n",
    "# 분류용\n",
    "X_train = pd.read_csv('X_train_preprocessed.csv', encoding='utf-8') # 저번 컴페티션 데이터\n",
    "y_train = pd.read_csv('y_train.csv', encoding='utf-8')\n",
    "X_test = pd.read_csv('X_test_preprocessed.csv', encoding='utf-8')"
   ]
  },
  {
   "cell_type": "code",
   "execution_count": null,
   "id": "d059d382",
   "metadata": {},
   "outputs": [],
   "source": [
    "id_test = X_test.custid"
   ]
  },
  {
   "cell_type": "code",
   "execution_count": null,
   "id": "4d919a5c",
   "metadata": {},
   "outputs": [],
   "source": [
    "X_train.drop(columns='custid', inplace=True)\n",
    "X_test.drop(columns='custid', inplace=True)\n",
    "y_train.drop(columns='custid', inplace=True)"
   ]
  },
  {
   "cell_type": "code",
   "execution_count": null,
   "id": "4c69f55d",
   "metadata": {
    "scrolled": true
   },
   "outputs": [],
   "source": [
    "X_train"
   ]
  },
  {
   "cell_type": "markdown",
   "id": "ef41479d",
   "metadata": {},
   "source": [
    "## 모델링"
   ]
  },
  {
   "cell_type": "markdown",
   "id": "dd1bb007",
   "metadata": {},
   "source": [
    "#### LogisticRegression"
   ]
  },
  {
   "cell_type": "code",
   "execution_count": null,
   "id": "bff321e9",
   "metadata": {
    "scrolled": true
   },
   "outputs": [],
   "source": [
    "def lr_objective(trial):\n",
    "    lr_C = trial.suggest_int('C', 50000, 100000, step=1)\n",
    "    lr_penalty = trial.suggest_categorical('penalty', ['l2'])\n",
    "    \n",
    "    classifier_obj = LogisticRegression(\n",
    "        random_state = 0,\n",
    "        penalty = lr_penalty,\n",
    "        C = lr_C,\n",
    "        n_jobs = -1,\n",
    "        solver = 'lbfgs',\n",
    "        warm_start = True)\n",
    "    \n",
    "    score = cross_val_score(classifier_obj, X_train, y_train, cv = 4, scoring = 'roc_auc', n_jobs = -1)\n",
    "    roc_auc = score.mean()\n",
    "    return roc_auc\n",
    "\n",
    "lr_study = optuna.create_study(direction=\"maximize\")\n",
    "lr_study.optimize(lr_objective, n_trials = 12)\n",
    "\n",
    "print(\"Best score:\", lr_study.best_value)\n",
    "print(\"Best parameters:\", lr_study.best_params)\n",
    "\n",
    "lr_model = LogisticRegression(**lr_study.best_params, random_state=0)"
   ]
  },
  {
   "cell_type": "markdown",
   "id": "bac86f86",
   "metadata": {},
   "source": [
    "#### CatBoostClassifier"
   ]
  },
  {
   "cell_type": "code",
   "execution_count": null,
   "id": "af099552",
   "metadata": {},
   "outputs": [],
   "source": [
    "cat_model = CatBoostClassifier(random_state =0, iterations =7000, learning_rate =0.01)\n",
    "cat_model.fit(X_train, y_train)"
   ]
  },
  {
   "cell_type": "markdown",
   "id": "cef8f1cd",
   "metadata": {},
   "source": [
    "#### XGBClassifier"
   ]
  },
  {
   "cell_type": "code",
   "execution_count": null,
   "id": "bb0441e5",
   "metadata": {
    "scrolled": true
   },
   "outputs": [],
   "source": [
    "def xgb_objective(trial):\n",
    "    xgb_learning_rate = trial.suggest_loguniform('learning_rate', 0.01, 0.1)\n",
    "    xgb_max_depth = trial.suggest_int('max_depth', 3, 10)\n",
    "    xgb_subsample = trial.suggest_discrete_uniform('subsample', 0.6, 1.0, 0.1)\n",
    "    xgb_colsample_bytree = trial.suggest_discrete_uniform('colsample_bytree', 0.6, 1.0, 0.1)\n",
    "    \n",
    "    classifier_obj = XGBClassifier(\n",
    "        learning_rate=xgb_learning_rate,\n",
    "        max_depth=xgb_max_depth,\n",
    "        subsample=xgb_subsample,\n",
    "        colsample_bytree=xgb_colsample_bytree,\n",
    "        random_state=0\n",
    "    )\n",
    "    \n",
    "    score = cross_val_score(classifier_obj, X_train, y_train, cv=4, scoring='roc_auc', n_jobs=-1)\n",
    "    roc_auc = score.mean()\n",
    "    return roc_auc\n",
    "\n",
    "xgb_study = optuna.create_study(direction=\"maximize\")\n",
    "xgb_study.optimize(xgb_objective, n_trials=12)\n",
    "\n",
    "print(\"Best score:\", xgb_study.best_value)\n",
    "print(\"Best parameters:\", xgb_study.best_params)\n",
    "\n",
    "xgb_model = XGBClassifier(**xgb_study.best_params, random_state=0)"
   ]
  },
  {
   "cell_type": "markdown",
   "id": "8ef008ce",
   "metadata": {},
   "source": [
    "#### RandomForestClassifier"
   ]
  },
  {
   "cell_type": "code",
   "execution_count": null,
   "id": "78a395e1",
   "metadata": {},
   "outputs": [],
   "source": [
    "def rf_objective(trial):\n",
    "    rf_max_depth = trial.suggest_categorical('max_depth', [None])\n",
    "    rf_max_features = trial.suggest_categorical('max_features', [1, 3, 10])\n",
    "    rf_min_samples_split = trial.suggest_categorical('min_samples_split', [2, 3, 10])\n",
    "    rf_min_samples_leaf = trial.suggest_categorical('min_samples_leaf', [1, 3, 10])\n",
    "    rf_bootstrap = trial.suggest_categorical('bootstrap', [False])\n",
    "    rf_n_estimators = trial.suggest_categorical('n_estimators', [100, 300])\n",
    "    rf_criterion = trial.suggest_categorical('criterion', ['gini'])\n",
    "    \n",
    "    classifier_obj = RandomForestClassifier(\n",
    "        max_depth=rf_max_depth,\n",
    "        max_features=rf_max_features,\n",
    "        min_samples_split=rf_min_samples_split,\n",
    "        min_samples_leaf=rf_min_samples_leaf,\n",
    "        bootstrap=rf_bootstrap,\n",
    "        n_estimators=rf_n_estimators,\n",
    "        criterion=rf_criterion,\n",
    "        random_state=0\n",
    "    )\n",
    "    \n",
    "    score = cross_val_score(classifier_obj, X_train, y_train, cv=4, scoring='roc_auc', n_jobs=4)\n",
    "    accuracy = score.mean()\n",
    "    return accuracy\n",
    "\n",
    "rf_study = optuna.create_study(direction=\"maximize\")\n",
    "rf_study.optimize(rf_objective, n_trials=12)\n",
    "\n",
    "print(\"Best score:\", rf_study.best_value)\n",
    "print(\"Best parameters:\", rf_study.best_params)\n",
    "\n",
    "rf_model = RandomForestClassifier(**rf_study.best_params, random_state=0)"
   ]
  },
  {
   "cell_type": "markdown",
   "id": "c64663a5",
   "metadata": {},
   "source": [
    "#### GradientBoostingClassifier"
   ]
  },
  {
   "cell_type": "code",
   "execution_count": null,
   "id": "bce5bcf2",
   "metadata": {
    "scrolled": true
   },
   "outputs": [],
   "source": [
    "# Gradient Boosting\n",
    "\n",
    "def gb_objective(trial):\n",
    "    gb_loss = trial.suggest_categorical('loss', [\"deviance\"])\n",
    "    gb_n_estimators = trial.suggest_categorical('n_estimators', [100, 200, 300])\n",
    "    gb_learning_rate = trial.suggest_categorical('learning_rate', [0.1, 0.05, 0.01])\n",
    "    gb_max_depth = trial.suggest_categorical('max_depth', [4, 8])\n",
    "    gb_min_samples_leaf = trial.suggest_categorical('min_samples_leaf', [100, 150])\n",
    "    gb_max_features = trial.suggest_categorical('max_features', [0.3, 0.1])\n",
    "    \n",
    "    classifier_obj = GradientBoostingClassifier(\n",
    "        loss=gb_loss,\n",
    "        n_estimators=gb_n_estimators,\n",
    "        learning_rate=gb_learning_rate,\n",
    "        max_depth=gb_max_depth,\n",
    "        min_samples_leaf=gb_min_samples_leaf,\n",
    "        max_features=gb_max_features,\n",
    "        random_state=0\n",
    "    )\n",
    "    \n",
    "    score = cross_val_score(classifier_obj, X_train, y_train, cv=4, scoring='accuracy', n_jobs=4)\n",
    "    accuracy = score.mean()\n",
    "    return accuracy\n",
    "\n",
    "gb_study = optuna.create_study(direction=\"maximize\")\n",
    "gb_study.optimize(gb_objective, n_trials=12)\n",
    "\n",
    "print(\"Best score:\", gb_study.best_value)\n",
    "print(\"Best parameters:\", gb_study.best_params)\n",
    "\n",
    "gb_model = GradientBoostingClassifier(**gb_study.best_params, random_state=0)"
   ]
  },
  {
   "cell_type": "markdown",
   "id": "116cb485",
   "metadata": {},
   "source": [
    "### 튜닝한 모델 파라미터들 아래에 입력"
   ]
  },
  {
   "cell_type": "code",
   "execution_count": null,
   "id": "5dc79742",
   "metadata": {},
   "outputs": [],
   "source": [
    "clfs = [lr_model, xgb_model, rf_model, gb_model]"
   ]
  },
  {
   "cell_type": "markdown",
   "id": "b3f524e5",
   "metadata": {},
   "source": [
    "cat_model = 0.7265681369577974"
   ]
  },
  {
   "cell_type": "markdown",
   "id": "d9aa82b1",
   "metadata": {},
   "source": [
    "### 유사도 측정"
   ]
  },
  {
   "cell_type": "code",
   "execution_count": null,
   "id": "ed90044e",
   "metadata": {},
   "outputs": [],
   "source": [
    "pred_results = []\n",
    "for clf in clfs :\n",
    "    pred = clf.fit(X_train, y_train).predict_proba(X_test)[:,1]\n",
    "    name = type(clf).__name__ # 이름 그대로 가져옴\n",
    "    score = (cross_val_score(clf, X_train, y_train, cv=4, scoring='roc_auc', n_jobs=-1)).mean()\n",
    "    pred_results.append(pd.Series(pred, name=f'{name} \\n({score:.4f})'))\n",
    "    print(\"{:30s} {}\".format(name, score))\n",
    "\n",
    "ensemble_results = pd.concat(pred_results, axis=1)"
   ]
  },
  {
   "cell_type": "code",
   "execution_count": null,
   "id": "38eaa007",
   "metadata": {},
   "outputs": [],
   "source": [
    "corr = (ensemble_results.corr().sum()-1)/(ensemble_results.corr().shape[0]-1)\n",
    "names = corr.index.str[:-10]\n",
    "aucs = np.array(corr.index.str[-7:-1]).astype(float)\n",
    "df = pd.DataFrame({'model': names, 'auc': aucs, 'cor': corr})        \n",
    "\n",
    "plt.figure(figsize=(8,6))\n",
    "g = sns.scatterplot(x=\"cor\", y=\"auc\", data=df, s=40, color='red')\n",
    "for line in range(0, df.shape[0]):\n",
    "     g.text(df.cor[line]+0.003, df.auc[line]-0.001, \n",
    "            df.model[line], horizontalalignment='left', \n",
    "            size='medium', color='black', weight='semibold')\n",
    "        \n",
    "plt.xlim((df.cor.min()-0.01,df.cor.max()+0.01))\n",
    "plt.ylim((df.auc.min()-0.01,df.auc.max()+0.01))\n",
    "plt.xlabel('Mean Agreement')\n",
    "plt.ylabel('ROC-AUC')\n",
    "plt.grid()\n",
    "plt.show()"
   ]
  },
  {
   "cell_type": "markdown",
   "id": "8db682ea",
   "metadata": {},
   "source": [
    "## 앙상블 시작\n",
    "voting: 평가지표가 accuracy, recall, precision 등일 경우 사용  \n",
    "averaging: 평가지표가 roc-auc, logloss 등일 경우 사용"
   ]
  },
  {
   "cell_type": "markdown",
   "id": "6e7defcd",
   "metadata": {},
   "source": [
    "### voting : soft  - 개별 모델 가중치 조정 가능"
   ]
  },
  {
   "cell_type": "code",
   "execution_count": null,
   "id": "fd895014",
   "metadata": {
    "scrolled": true
   },
   "outputs": [],
   "source": [
    "#임계값 조정!!\n",
    "w_weights = [0.2, 0.1, 0.3, 0.4]\n",
    "e_estimators = [('lr', lr_model),('rf', rf_model), ('xgb', xgb_model), ('cat', cat_model)]\n",
    "\n",
    "averaging = VotingClassifier(\n",
    "    estimators = e_estimators,\n",
    "    voting='soft',\n",
    "    weights=w_weights)\n",
    "\n",
    "averaging.fit(X_train, y_train)\n",
    "\n",
    "\n",
    "# print('AUC =', (cross_val_score(averaging, X_train, y_train, cv=4, scoring='roc_auc', n_jobs=-1)).mean())"
   ]
  },
  {
   "cell_type": "markdown",
   "id": "6a446a99",
   "metadata": {},
   "source": [
    "### Make submissions & Save features"
   ]
  },
  {
   "cell_type": "code",
   "execution_count": null,
   "id": "feeb3dac",
   "metadata": {},
   "outputs": [],
   "source": [
    "# 만들어진 csv화일 => 캐글에 submission\n",
    "t = pd.Timestamp.now()\n",
    "fname = f\"submission_{t.month:02}{t.day:02}{t.hour:02}{t.minute:02}.csv\"\n",
    "pd.DataFrame({'custid': id_test, 'gender': averaging.predict_proba(X_test)[:,1]}).to_csv(fname, index=False)\n",
    "print(f\"'{fname}' is ready to submit.\")\n",
    "\n",
    "# pickle 형식으로 저장 => 컴피티션 종료 후 가장 성능이 높은 화일을 담당교수 이메일로 제출\n",
    "fname = f\"features_{t.month:02}{t.day:02}{t.hour:02}{t.minute:02}.pkl\"\n",
    "with open(fname, 'wb') as f:\n",
    "    pickle.dump((X_train, X_test, averaging), f)"
   ]
  },
  {
   "cell_type": "code",
   "execution_count": null,
   "id": "3361c555",
   "metadata": {},
   "outputs": [],
   "source": []
  }
 ],
 "metadata": {
  "kernelspec": {
   "display_name": "Python 3 (ipykernel)",
   "language": "python",
   "name": "python3"
  },
  "language_info": {
   "codemirror_mode": {
    "name": "ipython",
    "version": 3
   },
   "file_extension": ".py",
   "mimetype": "text/x-python",
   "name": "python",
   "nbconvert_exporter": "python",
   "pygments_lexer": "ipython3",
   "version": "3.11.5"
  },
  "toc": {
   "base_numbering": 1,
   "nav_menu": {},
   "number_sections": true,
   "sideBar": true,
   "skip_h1_title": false,
   "title_cell": "Table of Contents",
   "title_sidebar": "Contents",
   "toc_cell": false,
   "toc_position": {},
   "toc_section_display": true,
   "toc_window_display": false
  }
 },
 "nbformat": 4,
 "nbformat_minor": 5
}
