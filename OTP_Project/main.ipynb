{
 "cells": [
  {
   "cell_type": "markdown",
   "id": "705d3491",
   "metadata": {},
   "source": [
    "# Client"
   ]
  },
  {
   "cell_type": "markdown",
   "id": "73d2cfc8",
   "metadata": {},
   "source": [
    "##### import"
   ]
  },
  {
   "cell_type": "code",
   "execution_count": 1,
   "id": "dec64f5f",
   "metadata": {},
   "outputs": [],
   "source": [
    "import socket\n",
    "import hashlib\n",
    "import time\n",
    "import qrcode\n",
    "import matplotlib.pyplot as plt\n",
    "from PIL import Image"
   ]
  },
  {
   "cell_type": "markdown",
   "id": "35435bdb",
   "metadata": {},
   "source": [
    "### App"
   ]
  },
  {
   "cell_type": "code",
   "execution_count": 2,
   "id": "4dfd70ca",
   "metadata": {
    "scrolled": false
   },
   "outputs": [
    {
     "name": "stdout",
     "output_type": "stream",
     "text": [
      "서버에 연결되었습니다.\n",
      "Enter your ID: 01012345678\n",
      "\n",
      "아이디 확인 중 ...\n",
      "아이디 확인이 완료되었습니다.\n",
      "Server sent random data (RV): b'\\xe1-\\xfe|\\xf7\\xc8\\x16\\xa2\\xd8\\x00\\x80\\xf1\\xd0bvC'\n",
      "\n",
      "지문을 등록하세요.\n"
     ]
    },
    {
     "data": {
      "image/png": "[encoded data removed]",
      "text/plain": [
       "<Figure size 108x108 with 1 Axes>"
      ]
     },
     "metadata": {
      "needs_background": "light"
     },
     "output_type": "display_data"
    },
    {
     "name": "stdout",
     "output_type": "stream",
     "text": [
      "K값: f59ecdf26cb91b476bbc9dde2fe3440ce1368cce0e73320b4066be8378dafff5\n"
     ]
    }
   ],
   "source": [
    "# Server address and port\n",
    "server_address = ('localhost', 12347)\n",
    "\n",
    "# Connect to the server\n",
    "client_socket = socket.socket(socket.AF_INET, socket.SOCK_STREAM)\n",
    "client_socket.connect(server_address)\n",
    "\n",
    "# Receive and print the welcome message\n",
    "welcome_message = client_socket.recv(1024).decode('utf-8')\n",
    "print(welcome_message)\n",
    "time.sleep(1)\n",
    "\n",
    "# Get user's ID and send it to the server\n",
    "client_id = input(\"Enter your ID: \")\n",
    "client_socket.send(client_id.encode('utf-8'))\n",
    "\n",
    "# Receive and print the ID confirmation message\n",
    "id_confirmation_message = client_socket.recv(1024).decode('utf-8')\n",
    "print()\n",
    "print(\"아이디 확인 중 ...\")\n",
    "time.sleep(2)\n",
    "print(id_confirmation_message)\n",
    "time.sleep(2)\n",
    "\n",
    "# Receive random data (RV) from the server\n",
    "RV = client_socket.recv(16)\n",
    "print(\"Server sent random data (RV):\", RV)\n",
    "time.sleep(2)\n",
    "\n",
    "# Read fingerprint from file and calculate its SHA-256 hash\n",
    "def get_fingerprint():\n",
    "    # 파일에서 지문값을 읽어온다고 가정\n",
    "    with open('fingerprint.jpg', 'rb') as file:\n",
    "        fingerprint_data = file.read()\n",
    "    return fingerprint_data\n",
    "\n",
    "# ID와 지문값을 이용 -> K 생성\n",
    "def generate_K(my_phone_number, fingerprint_data):\n",
    "    concatenated_data = my_phone_number.encode('utf-8') + fingerprint_data\n",
    "    K = hashlib.sha256(concatenated_data).hexdigest()\n",
    "    return K\n",
    "\n",
    "print()\n",
    "print(\"지문을 등록하세요.\")\n",
    "time.sleep(2)\n",
    "image = Image.open('fingerprint.jpg')\n",
    "plt.figure(figsize=(1.5, 1.5))\n",
    "plt.imshow(image)\n",
    "plt.grid(False)\n",
    "plt.axis('off')\n",
    "plt.show()\n",
    "\n",
    "fingerprint_data=get_fingerprint()\n",
    "K = generate_K(client_id, fingerprint_data)\n",
    "time.sleep(1)\n",
    "print('K값:',K)"
   ]
  },
  {
   "cell_type": "markdown",
   "id": "30f24959",
   "metadata": {},
   "source": [
    "### OTP 생성기"
   ]
  },
  {
   "cell_type": "code",
   "execution_count": 3,
   "id": "68895eb5",
   "metadata": {},
   "outputs": [
    {
     "name": "stdout",
     "output_type": "stream",
     "text": [
      "OTP calculated: 46766c8fe60a3f40bbec5d1ecfada170fe5560e8964145b188c51041a08dbc83\n",
      "Enter a message (type 'exit' to close the connection): exit\n"
     ]
    }
   ],
   "source": [
    "# Combine RV and the fingerprint hash for OTP calculation using XOR\n",
    "otp_combined_data = bytes(x ^ y for x, y in zip(RV, bytes.fromhex(K)))\n",
    "client_otp = hashlib.sha256(otp_combined_data).hexdigest()\n",
    "client_socket.send(client_otp.encode('utf-8'))\n",
    "print(\"OTP calculated:\", client_otp)\n",
    "\n",
    "# Message loop to keep the connection alive\n",
    "while True:\n",
    "    message = input(\"Enter a message (type 'exit' to close the connection): \")\n",
    "    client_socket.send(message.encode('utf-8'))\n",
    "\n",
    "    if message.lower() == 'exit':\n",
    "        break\n",
    "\n",
    "    response = client_socket.recv(1024).decode('utf-8')\n",
    "    print(f\"Response from the server: {response}\")\n",
    "\n",
    "# Close the connection\n",
    "client_socket.close()"
   ]
  },
  {
   "cell_type": "markdown",
   "id": "630d6740",
   "metadata": {},
   "source": [
    "### App"
   ]
  },
  {
   "cell_type": "code",
   "execution_count": 4,
   "id": "3258d9d8",
   "metadata": {},
   "outputs": [
    {
     "name": "stdout",
     "output_type": "stream",
     "text": [
      "생성된 안심번호: 318711366225\n"
     ]
    }
   ],
   "source": [
    "# OTP에 의해 파생된 안심번호 만들기\n",
    "def hash_to_number(hash_value):\n",
    "    # 해시 값을 16진수에서 10진수로 변환\n",
    "    decimal_number = int(hash_value, 16)\n",
    "    return decimal_number\n",
    "\n",
    "#해시된 값을 10진수로 변환, 안심\n",
    "safe_number = str(hash_to_number(client_otp))\n",
    "safe_phone = safe_number[:12]\n",
    "time.sleep(2)\n",
    "print(\"생성된 안심번호:\", safe_phone)"
   ]
  },
  {
   "cell_type": "markdown",
   "id": "fa68cba3",
   "metadata": {},
   "source": [
    "### 차량용 주차 안심번호판"
   ]
  },
  {
   "cell_type": "code",
   "execution_count": 5,
   "id": "aa98f6a3",
   "metadata": {},
   "outputs": [
    {
     "name": "stdout",
     "output_type": "stream",
     "text": [
      "QR코드가 생성되었습니다.\n"
     ]
    },
    {
     "data": {
      "image/png": "[encoded data removed]",
      "text/plain": [
       "<Figure size 144x144 with 1 Axes>"
      ]
     },
     "metadata": {
      "needs_background": "light"
     },
     "output_type": "display_data"
    }
   ],
   "source": [
    "# OTP를 QR 코드 데이터로 변환하여 QR 코드 생성\n",
    "def generate_qr_code(data):\n",
    "    qr = qrcode.QRCode(\n",
    "        version=1,\n",
    "        error_correction=qrcode.constants.ERROR_CORRECT_H,\n",
    "        box_size=10,\n",
    "        border=1,\n",
    "    )\n",
    "    \n",
    "    qr.add_data(data)\n",
    "    qr.make(fit=True)\n",
    "    \n",
    "    img = qr.make_image(fill_color=\"darkorange\", back_color=\"white\")\n",
    "    img.save(\"safe_phone_qr_code.png\")\n",
    "    \n",
    "generate_qr_code(safe_phone)\n",
    "\n",
    "img = Image.open('safe_phone_qr_code.png')\n",
    "plt.figure(figsize=(2, 2))\n",
    "plt.imshow(img)\n",
    "plt.grid(False)\n",
    "plt.axis('off')\n",
    "print(\"QR코드가 생성되었습니다.\")\n",
    "plt.show()"
   ]
  },
  {
   "cell_type": "code",
   "execution_count": null,
   "id": "69b233e2",
   "metadata": {},
   "outputs": [],
   "source": [
    "THE END!"
   ]
  }
 ],
 "metadata": {
  "kernelspec": {
   "display_name": "Python 3 (ipykernel)",
   "language": "python",
   "name": "python3"
  },
  "language_info": {
   "codemirror_mode": {
    "name": "ipython",
    "version": 3
   },
   "file_extension": ".py",
   "mimetype": "text/x-python",
   "name": "python",
   "nbconvert_exporter": "python",
   "pygments_lexer": "ipython3",
   "version": "3.9.12"
  }
 },
 "nbformat": 4,
 "nbformat_minor": 5
}
