{
 "cells": [
  {
   "cell_type": "markdown",
   "id": "ab132c84",
   "metadata": {},
   "source": [
    "## Server"
   ]
  },
  {
   "cell_type": "code",
   "execution_count": null,
   "id": "480b1599",
   "metadata": {},
   "outputs": [
    {
     "name": "stdout",
     "output_type": "stream",
     "text": [
      "서버가 포트 12347에서 대기 중입니다...\n",
      "('127.0.0.1', 54732)에서의 연결이 성공적으로 이루어졌습니다.\n",
      "('127.0.0.1', 54732)의 ID: 01012345678\n",
      "Server OTP calculated: 46766c8fe60a3f40bbec5d1ecfada170fe5560e8964145b188c51041a08dbc83\n",
      "OTP 확인이 완료되었습니다.\n",
      "01012345678(('127.0.0.1', 54732))로부터의 메시지: exit\n",
      "('127.0.0.1', 54732)와의 연결이 강제로 종료되었습니다.\n"
     ]
    }
   ],
   "source": [
    "import socket\n",
    "import threading\n",
    "import os\n",
    "import hashlib\n",
    "\n",
    "# 미리 저장된 아이디 목록\n",
    "valid_ids = [\"user1\", \"01047034826\", \"01012345678\"]\n",
    "\n",
    "# 서버에서 사용할 고정 비밀 값\n",
    "server_PW = \"f59ecdf26cb91b476bbc9dde2fe3440ce1368cce0e73320b4066be8378dafff5\"\n",
    "\n",
    "# 클라이언트 연결을 처리하는 함수\n",
    "def handle_client(client_socket, address):\n",
    "    print(f\"{address}에서의 연결이 성공적으로 이루어졌습니다.\")\n",
    "    \n",
    "    # ID를 입력받음\n",
    "    client_socket.send(\"서버에 연결되었습니다.\".encode('utf-8'))\n",
    "    client_id = client_socket.recv(1024).decode('utf-8').strip()\n",
    "    \n",
    "    if client_id in valid_ids:\n",
    "        print(f\"{address}의 ID: {client_id}\")\n",
    "        \n",
    "        # 아이디 확인이 완료되었다는 메시지와 랜덤 데이터를 전송\n",
    "        client_socket.send(\"아이디 확인이 완료되었습니다.\".encode('utf-8'))\n",
    "        random_data = os.urandom(16)\n",
    "        client_socket.send(random_data)\n",
    "\n",
    "        # 클라이언트로부터 OTP를 받기\n",
    "        client_otp = client_socket.recv(1024).decode('utf-8')\n",
    "        \n",
    "        # otp유효성 확인을 위한 otp를 서버에서 생성\n",
    "        server_otp = generate_server_otp(random_data)\n",
    "\n",
    "        # 비교 후 결과를 출력하고 클라이언트에게 전송\n",
    "        if server_otp == client_otp:\n",
    "            print(\"OTP 확인이 완료되었습니다.\")\n",
    "            client_socket.send(\"OTP 확인이 완료되었습니다\".encode('utf-8'))\n",
    "        else:\n",
    "            print(\"OTP가 일치하지 않습니다.\")\n",
    "            client_socket.send(\"OTP 확인에 실패하였습니다\".encode('utf-8'))\n",
    "\n",
    "        while True:\n",
    "            try:\n",
    "                message = client_socket.recv(1024).decode('utf-8')\n",
    "                if not message:\n",
    "                    break\n",
    "                print(f\"{client_id}({address})로부터의 메시지: {message}\")\n",
    "                #response = input(\"답변을 입력하세요: \")\n",
    "                #client_socket.send(response.encode('utf-8'))\n",
    "            except ConnectionResetError:\n",
    "                print(f\"{address}와의 연결이 강제로 종료되었습니다.\")\n",
    "                break\n",
    "    else:\n",
    "        print(f\"{address}의 ID({client_id})가 유효하지 않습니다. 연결을 종료합니다.\")\n",
    "    \n",
    "    client_socket.close()\n",
    "\n",
    "# 서버에서 OTP 생성 함수\n",
    "def generate_server_otp(random_data):\n",
    "    # 클라이언트와 동일한 방식으로 OTP 생성\n",
    "    otp_combined_data = bytes(x ^ y for x, y in zip(random_data, bytes.fromhex(server_PW)))\n",
    "    server_otp = hashlib.sha256(otp_combined_data).hexdigest()\n",
    "    print(\"Server OTP calculated:\", server_otp)\n",
    "    return server_otp\n",
    "\n",
    "# 서버 설정\n",
    "server_socket = socket.socket(socket.AF_INET, socket.SOCK_STREAM)\n",
    "server_socket.bind(('localhost', 12347))\n",
    "server_socket.listen(5)\n",
    "\n",
    "print(\"서버가 포트 12347에서 대기 중입니다...\")\n",
    "\n",
    "# 스레드를 사용하여 수신된 클라이언트 연결을 처리\n",
    "while True:\n",
    "    client, address = server_socket.accept()\n",
    "    client_handler = threading.Thread(target=handle_client, args=(client, address))\n",
    "    client_handler.start()\n"
   ]
  },
  {
   "cell_type": "code",
   "execution_count": null,
   "id": "2895d6be",
   "metadata": {},
   "outputs": [],
   "source": []
  }
 ],
 "metadata": {
  "kernelspec": {
   "display_name": "Python 3 (ipykernel)",
   "language": "python",
   "name": "python3"
  },
  "language_info": {
   "codemirror_mode": {
    "name": "ipython",
    "version": 3
   },
   "file_extension": ".py",
   "mimetype": "text/x-python",
   "name": "python",
   "nbconvert_exporter": "python",
   "pygments_lexer": "ipython3",
   "version": "3.9.12"
  }
 },
 "nbformat": 4,
 "nbformat_minor": 5
}
