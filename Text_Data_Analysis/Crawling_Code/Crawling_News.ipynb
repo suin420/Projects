{
 "cells": [
  {
   "cell_type": "markdown",
   "id": "bad34778",
   "metadata": {},
   "source": [
    "***import***"
   ]
  },
  {
   "cell_type": "code",
   "execution_count": null,
   "id": "fe6b91f4",
   "metadata": {},
   "outputs": [],
   "source": [
    "import os\n",
    "import sys\n",
    "import time\n",
    "import urllib.request\n",
    "import datetime\n",
    "import time\n",
    "import json\n",
    "import pandas as pd\n",
    "import re\n",
    "\n",
    "from urllib.request import urlopen\n",
    "from bs4 import BeautifulSoup\n",
    "import urllib\n",
    "import requests"
   ]
  },
  {
   "cell_type": "code",
   "execution_count": null,
   "id": "b65d2aa8",
   "metadata": {},
   "outputs": [],
   "source": [
    "client_id = 'client_id'\n",
    "client_secret = 'client_secret'"
   ]
  },
  {
   "cell_type": "markdown",
   "id": "a86838fc",
   "metadata": {},
   "source": [
    "네이버 API는 한번 호출에 100개를 반환한다.  \n",
    "한번의 코드에 500개 이상을 반환하도록 구현(하지만 이 코드도 한번에 1000개 까지만 가능)  \n",
    "참고자료: https://yenpa.tistory.com/3"
   ]
  },
  {
   "cell_type": "code",
   "execution_count": null,
   "id": "d6856e2a",
   "metadata": {},
   "outputs": [],
   "source": [
    "def getresult(client_id,client_secret,query,display=100,start=1,sort='sim'):\n",
    "    \n",
    "    encText = urllib.parse.quote(query)\n",
    "    \n",
    "    url = \"https://openapi.naver.com/v1/search/news?query=\" + encText + \\\n",
    "    \"&display=\" + str(display) + \"&start=\" + str(start) + \"&sort=\" + sort\n",
    "    \n",
    "    request = urllib.request.Request(url)\n",
    "    request.add_header(\"X-Naver-Client-Id\",client_id)\n",
    "    request.add_header(\"X-Naver-Client-Secret\",client_secret)\n",
    "    response = urllib.request.urlopen(request)\n",
    "    # HTTP 응답 상태코드 확인\n",
    "    rescode = response.getcode()\n",
    "    if(rescode==200):\n",
    "        # HTTP 응답 바디 읽기\n",
    "        response_body = response.read()\n",
    "        response_str = response_body.decode('utf-8')\n",
    "        # JSON 문자열을 Python 객체로 변환\n",
    "        response_json = json.loads(response_str)\n",
    "    else:\n",
    "        print(\"Error Code:\" + rescode)\n",
    "    # 검색 결과 아이템 리스트 반환\n",
    "    return response_json['items']"
   ]
  },
  {
   "cell_type": "code",
   "execution_count": null,
   "id": "1b60657c",
   "metadata": {},
   "outputs": [],
   "source": [
    "def remove_tag(my_str):\n",
    "    ## 태그를 지우는 함수\n",
    "    p = re.compile('(<([^>]+)>)')\n",
    "    return p.sub('', my_str)\n",
    "\n",
    "def sub_html_special_char(my_str):\n",
    "    ## 특수문자를 나타내는 &apos;, &quot를 실제 특수문자로 변환\n",
    "    p1 = re.compile('&lt;')\n",
    "    p2 = re.compile('&gt;')\n",
    "    p3 = re.compile('&amp;')\n",
    "    p4 = re.compile('&apos;')\n",
    "    p5 = re.compile('&quot;')\n",
    "\n",
    "    result = p1.sub('\\<', my_str)\n",
    "    result = p2.sub('\\>', result)\n",
    "    result = p3.sub('\\&', result)\n",
    "    result = p4.sub('\\'', result)\n",
    "    result = p5.sub('\\\"', result)\n",
    "    return result"
   ]
  },
  {
   "cell_type": "markdown",
   "id": "737464e8",
   "metadata": {},
   "source": [
    "### 주제: 미국 - 네이버뉴스"
   ]
  },
  {
   "cell_type": "code",
   "execution_count": null,
   "id": "7a9324b5",
   "metadata": {},
   "outputs": [],
   "source": [
    "query = '미국'\n",
    "display = 100\n",
    "start = 1\n",
    "sort = 'sim'\n",
    "\n",
    "result_USA = [] \n",
    "for i in range(0,10): \n",
    "    start = 1 + 100*i # (1)\n",
    "    result_usa = getresult(client_id, client_secret, query, display, start, sort) # (2)\n",
    "    result_USA.append(result_usa)\n",
    "\n",
    "result_USA"
   ]
  },
  {
   "cell_type": "code",
   "execution_count": null,
   "id": "5827d07c",
   "metadata": {},
   "outputs": [],
   "source": [
    "# 리스트 컴프리헨션을 사용하여 이중 리스트 풀기\n",
    "result_USA = [item for sublist in result_USA for item in sublist]\n",
    "\n",
    "print(result_USA)"
   ]
  },
  {
   "cell_type": "code",
   "execution_count": null,
   "id": "50df1561",
   "metadata": {},
   "outputs": [],
   "source": [
    "len(result_USA)"
   ]
  },
  {
   "attachments": {},
   "cell_type": "markdown",
   "id": "26a18af5",
   "metadata": {},
   "source": [
    "수집한 뉴스 데이터 중 p에 맞는 링크를 찾기 위한 정규 표현식 패턴 컴파일"
   ]
  },
  {
   "cell_type": "code",
   "execution_count": null,
   "id": "f176a37f",
   "metadata": {},
   "outputs": [],
   "source": [
    "p = re.compile('https://n.news.naver.com/.+')\n",
    "links = []\n",
    "for item in result_USA:\n",
    "    link = item['link']\n",
    "    if p.search(link):\n",
    "        links.append(link)"
   ]
  },
  {
   "cell_type": "code",
   "execution_count": null,
   "id": "d4324792",
   "metadata": {},
   "outputs": [],
   "source": [
    "len(links)"
   ]
  },
  {
   "cell_type": "code",
   "execution_count": null,
   "id": "eca4ddbe",
   "metadata": {},
   "outputs": [],
   "source": [
    "article_ids = ['newsct_article', 'articeBody']\n",
    "title_id = 'title_area'"
   ]
  },
  {
   "cell_type": "code",
   "execution_count": null,
   "id": "83bb5a77",
   "metadata": {},
   "outputs": [],
   "source": [
    "titles = []\n",
    "descriptions = []\n",
    "\n",
    "# links 리스트의 각 링크를 순회하면서 웹 페이지를 가져와서 제목과 설명을 추출\n",
    "for i, link in enumerate(links):\n",
    "    html = urllib.request.urlopen(link) # (1)\n",
    "    bs_obj = BeautifulSoup(html, 'html.parser') # (2)\n",
    "    \n",
    "    # 제목 추출\n",
    "    title = bs_obj.find_all('h2', {'id':title_id}) # (3)\n",
    "    if len(title) > 0:\n",
    "        titles.append(title[0].text)\n",
    "    else:\n",
    "        titles.append('')\n",
    "    \n",
    "    # 설명 추출\n",
    "    description = bs_obj.find_all('div', {'id':article_ids}) # (4)\n",
    "    if len(description) > 0:\n",
    "        descriptions.append(description[0].text)\n",
    "    else:\n",
    "        descriptions.append('')\n",
    "    time.sleep(1) "
   ]
  },
  {
   "cell_type": "markdown",
   "id": "51809d91",
   "metadata": {},
   "source": [
    "#(1) link에 지정된 URL로 HTTP 요청을 보내고 응답을 받아옴\n",
    "\n",
    "#(2) 받아온 HTML을 BeautifulSoup 객체로 파싱\n",
    "\n",
    "#(3) h2 태그 중에서 title_id에 해당하는 속성을 가진 요소를 찾음\n",
    "\n",
    "#(4) div 태그 중에서 article_ids에 해당하는 속성을 가진 요소를 찾음"
   ]
  },
  {
   "cell_type": "code",
   "execution_count": null,
   "id": "eb6015fb",
   "metadata": {},
   "outputs": [],
   "source": [
    "len(descriptions)"
   ]
  },
  {
   "cell_type": "code",
   "execution_count": null,
   "id": "bfccc491",
   "metadata": {},
   "outputs": [],
   "source": [
    "result_dict_USA = {'title': titles, 'link': links, 'description': descriptions}\n",
    "df_USA = pd.DataFrame.from_dict(result_dict_USA)"
   ]
  },
  {
   "cell_type": "code",
   "execution_count": null,
   "id": "50d34657",
   "metadata": {
    "scrolled": true
   },
   "outputs": [],
   "source": [
    "df_USA"
   ]
  },
  {
   "cell_type": "raw",
   "id": "cda99178",
   "metadata": {},
   "source": [
    "# CSV 파일로 저장\n",
    "df_USA.to_csv('미국(뉴스)1-745row.csv', index=False)"
   ]
  },
  {
   "cell_type": "raw",
   "id": "02b7c5a8",
   "metadata": {},
   "source": [
    "# CSV 파일로 저장\n",
    "df_USA.to_csv('미국(뉴스)2-718row.csv', index=False)"
   ]
  },
  {
   "cell_type": "raw",
   "id": "b078646e",
   "metadata": {},
   "source": [
    "# CSV 파일로 저장\n",
    "df_USA.to_csv('미국(뉴스)3-696row.csv', index=False)"
   ]
  },
  {
   "cell_type": "raw",
   "id": "6ec59038",
   "metadata": {},
   "source": [
    "# CSV 파일로 저장\n",
    "df_USA.to_csv('미국(뉴스)4-697row.csv', index=False)"
   ]
  },
  {
   "cell_type": "raw",
   "id": "1afc3bec",
   "metadata": {},
   "source": [
    "# CSV 파일로 저장\n",
    "df_USA.to_csv('미국(뉴스)5-648row.csv', index=False)"
   ]
  },
  {
   "cell_type": "markdown",
   "id": "88b596c4",
   "metadata": {},
   "source": [
    "**주제: 미국 - 데이터프레임 중복 제거**"
   ]
  },
  {
   "cell_type": "code",
   "execution_count": null,
   "id": "4c5a2105",
   "metadata": {},
   "outputs": [],
   "source": [
    "df_USA_1 = pd.read_csv('미국(뉴스)1-745row.csv')\n",
    "df_USA_2 = pd.read_csv('미국(뉴스)2-718row.csv')\n",
    "df_USA_3 = pd.read_csv('미국(뉴스)3-696row.csv')\n",
    "df_USA_4 = pd.read_csv('미국(뉴스)4-697row.csv')\n",
    "df_USA_5 = pd.read_csv('미국(뉴스)5-648row.csv')"
   ]
  },
  {
   "cell_type": "code",
   "execution_count": null,
   "id": "59259547",
   "metadata": {},
   "outputs": [],
   "source": [
    "merged_df_USA = pd.merge(df_USA_1, df_USA_2, on=['title', 'link', 'description'], how='outer')\n",
    "df_USA_12 = merged_df_USA.drop_duplicates()"
   ]
  },
  {
   "cell_type": "code",
   "execution_count": null,
   "id": "aa3854e9",
   "metadata": {},
   "outputs": [],
   "source": [
    "merged_df_USA = pd.merge(df_USA_3, df_USA_4, on=['title', 'link', 'description'], how='outer')\n",
    "df_USA_34 = merged_df_USA.drop_duplicates()"
   ]
  },
  {
   "cell_type": "code",
   "execution_count": null,
   "id": "68e75239",
   "metadata": {},
   "outputs": [],
   "source": [
    "merged_df_USA = pd.merge(df_USA12, df_USA345, on=['title', 'link', 'description'], how='outer')\n",
    "df_USA = merged_df_USA.drop_duplicates()"
   ]
  },
  {
   "cell_type": "code",
   "execution_count": null,
   "id": "bbd4d8e7",
   "metadata": {
    "scrolled": true
   },
   "outputs": [],
   "source": [
    "df_USA"
   ]
  },
  {
   "cell_type": "raw",
   "id": "315fef54",
   "metadata": {},
   "source": [
    "# CSV 파일로 저장\n",
    "df_USA.to_csv('미국(뉴스)-1042row.csv', index=False)"
   ]
  },
  {
   "cell_type": "markdown",
   "id": "b5c7c8db",
   "metadata": {},
   "source": [
    "### 주제: 여행 - 네이버뉴스"
   ]
  },
  {
   "cell_type": "code",
   "execution_count": null,
   "id": "72f50783",
   "metadata": {},
   "outputs": [],
   "source": [
    "query = '여행'\n",
    "display = 100\n",
    "start = 1000\n",
    "sort = 'sim'\n",
    "\n",
    "result_TRIP = []\n",
    "for i in range(0,10):\n",
    "    start = 1 + 100*i\n",
    "    result_trip = getresult(client_id, client_secret, query, display, start, sort)\n",
    "    result_TRIP.append(result_trip)\n",
    "\n",
    "result_TRIP"
   ]
  },
  {
   "cell_type": "code",
   "execution_count": null,
   "id": "038ef894",
   "metadata": {},
   "outputs": [],
   "source": [
    "result_TRIP = [item for sublist in result_TRIP for item in sublist]\n",
    "\n",
    "print(result_TRIP)"
   ]
  },
  {
   "cell_type": "code",
   "execution_count": null,
   "id": "39e0f3ad",
   "metadata": {},
   "outputs": [],
   "source": [
    "len(result_TRIP)"
   ]
  },
  {
   "cell_type": "code",
   "execution_count": null,
   "id": "143135e9",
   "metadata": {},
   "outputs": [],
   "source": [
    "p = re.compile('https://n.news.naver.com/.+')\n",
    "links = []\n",
    "for item in result_TRIP:\n",
    "    link = item['link']\n",
    "    if p.search(link):\n",
    "        links.append(link)"
   ]
  },
  {
   "cell_type": "code",
   "execution_count": null,
   "id": "445f3c08",
   "metadata": {},
   "outputs": [],
   "source": [
    "len(links)"
   ]
  },
  {
   "cell_type": "code",
   "execution_count": null,
   "id": "12b30efb",
   "metadata": {},
   "outputs": [],
   "source": [
    "article_ids = ['newsct_article', 'articeBody']\n",
    "title_id = 'title_area'"
   ]
  },
  {
   "cell_type": "code",
   "execution_count": null,
   "id": "f7ddf4e2",
   "metadata": {},
   "outputs": [],
   "source": [
    "titles = []\n",
    "descriptions = []\n",
    "\n",
    "for i, link in enumerate(links):\n",
    "    html = urllib.request.urlopen(link)\n",
    "    bs_obj = BeautifulSoup(html, 'html.parser')\n",
    "    title = bs_obj.find_all('h2', {'id':title_id})\n",
    "    description = bs_obj.find_all('div', {'id':article_ids})\n",
    "    if len(title) > 0:\n",
    "        titles.append(title[0].text)\n",
    "    else:\n",
    "        titles.append('')\n",
    "    \n",
    "    if len(description) > 0:\n",
    "        descriptions.append(description[0].text)\n",
    "    else:\n",
    "        descriptions.append('')\n",
    "    time.sleep(1) "
   ]
  },
  {
   "cell_type": "code",
   "execution_count": null,
   "id": "7772c3aa",
   "metadata": {},
   "outputs": [],
   "source": [
    "len(descriptions)"
   ]
  },
  {
   "cell_type": "code",
   "execution_count": null,
   "id": "c10c9cb2",
   "metadata": {},
   "outputs": [],
   "source": [
    "result_dict_TRIP = {'title': titles, 'link': links, 'description': descriptions}\n",
    "df_TRIP = pd.DataFrame.from_dict(result_dict_TRIP)"
   ]
  },
  {
   "cell_type": "code",
   "execution_count": null,
   "id": "d82b5f55",
   "metadata": {
    "scrolled": true
   },
   "outputs": [],
   "source": [
    "df_TRIP # "
   ]
  },
  {
   "cell_type": "raw",
   "id": "50c22df7",
   "metadata": {},
   "source": [
    "# CSV 파일로 저장\n",
    "df_TRIP.to_csv('여행(뉴스)1-704row.csv', index=False)"
   ]
  },
  {
   "cell_type": "raw",
   "id": "2b9762af",
   "metadata": {},
   "source": [
    "# CSV 파일로 저장\n",
    "df_TRIP.to_csv('여행(뉴스)2-666row.csv', index=False)"
   ]
  },
  {
   "cell_type": "raw",
   "id": "166af4a3",
   "metadata": {},
   "source": [
    "# CSV 파일로 저장\n",
    "df_TRIP.to_csv('여행(뉴스)3-665row.csv', index=False)"
   ]
  },
  {
   "cell_type": "raw",
   "id": "946bf189",
   "metadata": {},
   "source": [
    "# CSV 파일로 저장\n",
    "df_TRIP.to_csv('여행(뉴스)4-661row.csv', index=False)"
   ]
  },
  {
   "cell_type": "raw",
   "id": "4b6b4d82",
   "metadata": {},
   "source": [
    "# CSV 파일로 저장\n",
    "df_TRIP.to_csv('여행(뉴스)5-603row.csv', index=False)"
   ]
  },
  {
   "cell_type": "raw",
   "id": "3e34d99a",
   "metadata": {},
   "source": [
    "# CSV 파일로 저장\n",
    "df_TRIP.to_csv('여행(뉴스)6-567row.csv', index=False)"
   ]
  },
  {
   "cell_type": "markdown",
   "id": "8dc80001",
   "metadata": {},
   "source": [
    "**주제: 여행 - 데이터프레임 중복 제거**"
   ]
  },
  {
   "cell_type": "code",
   "execution_count": null,
   "id": "410b1ac6",
   "metadata": {},
   "outputs": [],
   "source": [
    "df_TRIP_1 = pd.read_csv('여행(뉴스)1-704row.csv')\n",
    "df_TRIP_2 = pd.read_csv('여행(뉴스)2-666row.csv')\n",
    "df_TRIP_3 = pd.read_csv('여행(뉴스)3-665row.csv')\n",
    "df_TRIP_4 = pd.read_csv('여행(뉴스)4-661row.csv')\n",
    "df_TRIP_5 = pd.read_csv('여행(뉴스)5-603row.csv')\n",
    "df_TRIP_6 = pd.read_csv('여행(뉴스)6-567row.csv')"
   ]
  },
  {
   "cell_type": "code",
   "execution_count": null,
   "id": "00bef741",
   "metadata": {},
   "outputs": [],
   "source": [
    "merged_df_TRIP = pd.merge(df_TRIP_1, df_TRIP_2, on=['title', 'link', 'description'], how='outer')\n",
    "df_TRIP_12 = merged_df_TRIP.drop_duplicates()"
   ]
  },
  {
   "cell_type": "code",
   "execution_count": null,
   "id": "49811ec2",
   "metadata": {},
   "outputs": [],
   "source": [
    "merged_df_TRIP = pd.merge(df_TRIP_3, df_TRIP_4, on=['title', 'link', 'description'], how='outer')\n",
    "df_TRIP_34 = merged_df_TRIP.drop_duplicates()"
   ]
  },
  {
   "cell_type": "code",
   "execution_count": null,
   "id": "91132fed",
   "metadata": {},
   "outputs": [],
   "source": [
    "merged_df_TRIP = pd.merge(df_TRIP_12, df_TRIP_34, on=['title', 'link', 'description'], how='outer')\n",
    "df_TRIP_1234 = merged_df_TRIP.drop_duplicates()"
   ]
  },
  {
   "cell_type": "code",
   "execution_count": null,
   "id": "3fe4bf31",
   "metadata": {},
   "outputs": [],
   "source": [
    "merged_df_TRIP = pd.merge(df_TRIP_5, df_TRIP_6, on=['title', 'link', 'description'], how='outer')\n",
    "df_TRIP_56 = merged_df_TRIP.drop_duplicates()"
   ]
  },
  {
   "cell_type": "code",
   "execution_count": null,
   "id": "410089ff",
   "metadata": {},
   "outputs": [],
   "source": [
    "merged_df_TRIP = pd.merge(df_TRIP_1234, df_TRIP_56, on=['title', 'link', 'description'], how='outer')\n",
    "df_TRIP = merged_df_TRIP.drop_duplicates()"
   ]
  },
  {
   "cell_type": "code",
   "execution_count": null,
   "id": "c123b457",
   "metadata": {
    "scrolled": true
   },
   "outputs": [],
   "source": [
    "df_TRIP"
   ]
  },
  {
   "cell_type": "raw",
   "id": "e3e9f4e7",
   "metadata": {},
   "source": [
    "# CSV 파일로 저장\n",
    "df_TRIP.to_csv('여행(뉴스)-991row.csv', index=False)"
   ]
  },
  {
   "cell_type": "markdown",
   "id": "26c1f663",
   "metadata": {},
   "source": [
    "### 주제: 네이버 - 네이버뉴스"
   ]
  },
  {
   "cell_type": "code",
   "execution_count": null,
   "id": "195e232d",
   "metadata": {},
   "outputs": [],
   "source": [
    "query = '네이버'\n",
    "display = 100\n",
    "start = 1000\n",
    "sort = 'sim'\n",
    "\n",
    "result_NAVER = []\n",
    "for i in range(0,10):\n",
    "    start = 1 + 100*i\n",
    "    result_naver = getresult(client_id, client_secret, query, display, start, sort)\n",
    "    result_NAVER.append(result_naver)\n",
    "\n",
    "result_NAVER"
   ]
  },
  {
   "cell_type": "code",
   "execution_count": null,
   "id": "56f2e9cf",
   "metadata": {},
   "outputs": [],
   "source": [
    "# 리스트 컴프리헨션을 사용하여 이중 리스트 풀기\n",
    "result_NAVER = [item for sublist in result_NAVER for item in sublist]\n",
    "\n",
    "print(result_NAVER)"
   ]
  },
  {
   "cell_type": "code",
   "execution_count": null,
   "id": "c8269a5c",
   "metadata": {},
   "outputs": [],
   "source": [
    "len(result_NAVER)"
   ]
  },
  {
   "cell_type": "code",
   "execution_count": null,
   "id": "b5d43a4b",
   "metadata": {},
   "outputs": [],
   "source": [
    "p = re.compile('https://n.news.naver.com/.+')\n",
    "links = []\n",
    "for item in result_NAVER:\n",
    "    link = item['link']\n",
    "    if p.search(link):\n",
    "        links.append(link)"
   ]
  },
  {
   "cell_type": "code",
   "execution_count": null,
   "id": "8d42c7ec",
   "metadata": {},
   "outputs": [],
   "source": [
    "len(links)"
   ]
  },
  {
   "cell_type": "code",
   "execution_count": null,
   "id": "db84affc",
   "metadata": {},
   "outputs": [],
   "source": [
    "article_ids = ['newsct_article', 'articeBody']\n",
    "title_id = 'title_area'"
   ]
  },
  {
   "cell_type": "code",
   "execution_count": null,
   "id": "ce161a5b",
   "metadata": {},
   "outputs": [],
   "source": [
    "titles = []\n",
    "descriptions = []\n",
    "\n",
    "for i, link in enumerate(links):\n",
    "    html = urllib.request.urlopen(link)\n",
    "    bs_obj = BeautifulSoup(html, 'html.parser')\n",
    "    title = bs_obj.find_all('h2', {'id':title_id})\n",
    "    description = bs_obj.find_all('div', {'id':article_ids})\n",
    "    if len(title) > 0:\n",
    "        titles.append(title[0].text)\n",
    "    else:\n",
    "        titles.append('')\n",
    "    \n",
    "    if len(description) > 0:\n",
    "        descriptions.append(description[0].text)\n",
    "    else:\n",
    "        descriptions.append('')\n",
    "    time.sleep(1) "
   ]
  },
  {
   "cell_type": "code",
   "execution_count": null,
   "id": "04488276",
   "metadata": {},
   "outputs": [],
   "source": [
    "len(descriptions)"
   ]
  },
  {
   "cell_type": "code",
   "execution_count": null,
   "id": "ffd0f328",
   "metadata": {},
   "outputs": [],
   "source": [
    "result_dict_NAVER = {'title': titles, 'link': links, 'description': descriptions}\n",
    "df_NAVER = pd.DataFrame.from_dict(result_dict_NAVER)"
   ]
  },
  {
   "cell_type": "code",
   "execution_count": null,
   "id": "85decaf2",
   "metadata": {
    "scrolled": true
   },
   "outputs": [],
   "source": [
    "df_NAVER"
   ]
  },
  {
   "cell_type": "raw",
   "id": "a44a91a0",
   "metadata": {},
   "source": [
    "# CSV 파일로 저장\n",
    "df_NAVER.to_csv('네이버(뉴스)1-547row.csv', index=False)"
   ]
  },
  {
   "cell_type": "raw",
   "id": "934b025a",
   "metadata": {},
   "source": [
    "# CSV 파일로 저장\n",
    "df_NAVER.to_csv('네이버(뉴스)2-546row.csv', index=False)"
   ]
  },
  {
   "cell_type": "raw",
   "id": "2fcc3e39",
   "metadata": {},
   "source": [
    "# CSV 파일로 저장\n",
    "df_NAVER.to_csv('네이버(뉴스)3-547row.csv', index=False)"
   ]
  },
  {
   "cell_type": "raw",
   "id": "a1ccadb5",
   "metadata": {},
   "source": [
    "# CSV 파일로 저장\n",
    "df_NAVER.to_csv('네이버(뉴스)4-585row.csv', index=False)"
   ]
  },
  {
   "cell_type": "raw",
   "id": "73ea44df",
   "metadata": {},
   "source": [
    "# CSV 파일로 저장\n",
    "df_NAVER.to_csv('네이버(뉴스)5-605row.csv', index=False)"
   ]
  },
  {
   "cell_type": "markdown",
   "id": "82489039",
   "metadata": {},
   "source": [
    "**주제: 네이버 - 데이터프레임 중복 제거**"
   ]
  },
  {
   "cell_type": "code",
   "execution_count": null,
   "id": "352340d5",
   "metadata": {},
   "outputs": [],
   "source": [
    "df_NAVER_1 = pd.read_csv('네이버(뉴스)1-547row.csv')\n",
    "df_NAVER_2 = pd.read_csv('네이버(뉴스)2-546row.csv')\n",
    "df_NAVER_3 = pd.read_csv('네이버(뉴스)3-547row.csv')\n",
    "df_NAVER_4 = pd.read_csv('네이버(뉴스)4-585row.csv')\n",
    "df_NAVER_5 = pd.read_csv('네이버(뉴스)5-605row.csv')"
   ]
  },
  {
   "cell_type": "code",
   "execution_count": null,
   "id": "f41ddfc7",
   "metadata": {
    "scrolled": true
   },
   "outputs": [],
   "source": [
    "merged_df_NAVER = pd.merge(df_NAVER_1, df_NAVER_2, on=['title', 'link', 'description'], how='outer')\n",
    "df_NAVER_12 = merged_df_NAVER.drop_duplicates()"
   ]
  },
  {
   "cell_type": "code",
   "execution_count": null,
   "id": "966762e1",
   "metadata": {},
   "outputs": [],
   "source": [
    "merged_df_NAVER = pd.merge(df_NAVER_3, df_NAVER_4, on=['title', 'link', 'description'], how='outer')\n",
    "df_NAVER_34 = merged_df_NAVER.drop_duplicates()"
   ]
  },
  {
   "cell_type": "code",
   "execution_count": null,
   "id": "ebb1e990",
   "metadata": {
    "scrolled": false
   },
   "outputs": [],
   "source": [
    "merged_df_NAVER = pd.merge(df_NAVER_12, df_NAVER_34, on=['title', 'link', 'description'], how='outer')\n",
    "df_NAVER_1234 = merged_df_NAVER.drop_duplicates()"
   ]
  },
  {
   "cell_type": "code",
   "execution_count": null,
   "id": "40ef2fcd",
   "metadata": {},
   "outputs": [],
   "source": [
    "merged_df_NAVER = pd.merge(df_NAVER_1234, df_NAVER_5, on=['title', 'link', 'description'], how='outer')\n",
    "df_NAVER = merged_df_NAVER.drop_duplicates()"
   ]
  },
  {
   "cell_type": "code",
   "execution_count": null,
   "id": "c3856a3a",
   "metadata": {
    "scrolled": true
   },
   "outputs": [],
   "source": [
    "df_NAVER"
   ]
  },
  {
   "cell_type": "raw",
   "id": "e330419b",
   "metadata": {},
   "source": [
    "# CSV 파일로 저장\n",
    "df_NAVER.to_csv('네이버(뉴스)-815row.csv', index=False)"
   ]
  },
  {
   "cell_type": "markdown",
   "id": "33dd4598",
   "metadata": {},
   "source": [
    "### 주제: 네이버지도 - 네이버뉴스"
   ]
  },
  {
   "cell_type": "code",
   "execution_count": null,
   "id": "1e00dd42",
   "metadata": {},
   "outputs": [],
   "source": [
    "query = '네이버지도'\n",
    "display = 100\n",
    "start = 1000\n",
    "sort = 'sim'\n",
    "\n",
    "result_NAVER_MAP = []\n",
    "for i in range(0,10):\n",
    "    start = 1 + 100*i\n",
    "    result_naver_MAP = getresult(client_id, client_secret, query, display, start, sort)\n",
    "    result_NAVER_MAP.append(result_naver_MAP)\n",
    "\n",
    "result_NAVER_MAP"
   ]
  },
  {
   "cell_type": "code",
   "execution_count": null,
   "id": "0078a147",
   "metadata": {},
   "outputs": [],
   "source": [
    "# 리스트 컴프리헨션을 사용하여 이중 리스트 풀기\n",
    "result_NAVER_MAP = [item for sublist in result_NAVER_MAP for item in sublist]\n",
    "\n",
    "print(result_NAVER_MAP)"
   ]
  },
  {
   "cell_type": "code",
   "execution_count": null,
   "id": "66416e47",
   "metadata": {},
   "outputs": [],
   "source": [
    "len(result_NAVER_MAP)"
   ]
  },
  {
   "cell_type": "code",
   "execution_count": null,
   "id": "65232d7a",
   "metadata": {},
   "outputs": [],
   "source": [
    "p = re.compile('https://n.news.naver.com/.+')\n",
    "links = []\n",
    "for item in result_NAVER_MAP:\n",
    "    link = item['link']\n",
    "    if p.search(link):\n",
    "        links.append(link)"
   ]
  },
  {
   "cell_type": "code",
   "execution_count": null,
   "id": "d0d52506",
   "metadata": {},
   "outputs": [],
   "source": [
    "len(links)"
   ]
  },
  {
   "cell_type": "code",
   "execution_count": null,
   "id": "fa6e93a1",
   "metadata": {},
   "outputs": [],
   "source": [
    "article_ids = ['newsct_article', 'articeBody']\n",
    "title_id = 'title_area'"
   ]
  },
  {
   "cell_type": "code",
   "execution_count": null,
   "id": "f44f1e85",
   "metadata": {},
   "outputs": [],
   "source": [
    "titles = []\n",
    "descriptions = []\n",
    "\n",
    "for i, link in enumerate(links):\n",
    "    html = urllib.request.urlopen(link)\n",
    "    bs_obj = BeautifulSoup(html, 'html.parser')\n",
    "    title = bs_obj.find_all('h2', {'id':title_id})\n",
    "    description = bs_obj.find_all('div', {'id':article_ids})\n",
    "    if len(title) > 0:\n",
    "        titles.append(title[0].text)\n",
    "    else:\n",
    "        titles.append('')\n",
    "    \n",
    "    if len(description) > 0:\n",
    "        descriptions.append(description[0].text)\n",
    "    else:\n",
    "        descriptions.append('')\n",
    "    time.sleep(1) "
   ]
  },
  {
   "cell_type": "code",
   "execution_count": null,
   "id": "25b1976f",
   "metadata": {},
   "outputs": [],
   "source": [
    "len(descriptions)"
   ]
  },
  {
   "cell_type": "code",
   "execution_count": null,
   "id": "e2ef800d",
   "metadata": {},
   "outputs": [],
   "source": [
    "result_dict_NAVER_MAP = {'title': titles, 'link': links, 'description': descriptions}\n",
    "df_NAVER_MAP = pd.DataFrame.from_dict(result_dict_NAVER_MAP)"
   ]
  },
  {
   "cell_type": "code",
   "execution_count": null,
   "id": "0f3cc80c",
   "metadata": {},
   "outputs": [],
   "source": [
    "df_NAVER_MAP"
   ]
  },
  {
   "cell_type": "raw",
   "id": "c03b9fae",
   "metadata": {},
   "source": [
    "# CSV 파일로 저장\n",
    "df_NAVER_MAP.to_csv('네이버지도(뉴스)-508row.csv', index=False)"
   ]
  },
  {
   "cell_type": "markdown",
   "id": "a3559237",
   "metadata": {},
   "source": [
    "### 주제: 네이버쇼핑 - 네이버뉴스"
   ]
  },
  {
   "cell_type": "code",
   "execution_count": null,
   "id": "9285e676",
   "metadata": {},
   "outputs": [],
   "source": [
    "query = '네이버쇼핑'\n",
    "display = 100\n",
    "start = 1000\n",
    "sort = 'sim'\n",
    "\n",
    "result_NAVER_SHOP = []\n",
    "for i in range(0,10):\n",
    "    start = 1 + 100*i\n",
    "    result_naver_SHOP = getresult(client_id, client_secret, query, display, start, sort)\n",
    "    result_NAVER_SHOP.append(result_naver_SHOP)\n",
    "\n",
    "result_NAVER_SHOP"
   ]
  },
  {
   "cell_type": "code",
   "execution_count": null,
   "id": "4b0083ab",
   "metadata": {},
   "outputs": [],
   "source": [
    "# 리스트 컴프리헨션을 사용하여 이중 리스트 풀기\n",
    "result_NAVER_SHOP = [item for sublist in result_NAVER_SHOP for item in sublist]\n",
    "\n",
    "print(result_NAVER_SHOP)"
   ]
  },
  {
   "cell_type": "code",
   "execution_count": null,
   "id": "0346f62c",
   "metadata": {},
   "outputs": [],
   "source": [
    "len(result_NAVER_SHOP)"
   ]
  },
  {
   "cell_type": "code",
   "execution_count": null,
   "id": "93ae6855",
   "metadata": {},
   "outputs": [],
   "source": [
    "p = re.compile('https://n.news.naver.com/.+')\n",
    "links = []\n",
    "for item in result_NAVER_SHOP:\n",
    "    link = item['link']\n",
    "    if p.search(link):\n",
    "        links.append(link)"
   ]
  },
  {
   "cell_type": "code",
   "execution_count": null,
   "id": "d0c13223",
   "metadata": {},
   "outputs": [],
   "source": [
    "len(links)"
   ]
  },
  {
   "cell_type": "code",
   "execution_count": null,
   "id": "c5679960",
   "metadata": {},
   "outputs": [],
   "source": [
    "article_ids = ['newsct_article', 'articeBody']\n",
    "title_id = 'title_area'"
   ]
  },
  {
   "cell_type": "code",
   "execution_count": null,
   "id": "febbc1f8",
   "metadata": {},
   "outputs": [],
   "source": [
    "titles = []\n",
    "descriptions = []\n",
    "\n",
    "for i, link in enumerate(links):\n",
    "    html = urllib.request.urlopen(link)\n",
    "    bs_obj = BeautifulSoup(html, 'html.parser')\n",
    "    title = bs_obj.find_all('h2', {'id':title_id})\n",
    "    description = bs_obj.find_all('div', {'id':article_ids})\n",
    "    if len(title) > 0:\n",
    "        titles.append(title[0].text)\n",
    "    else:\n",
    "        titles.append('')\n",
    "    \n",
    "    if len(description) > 0:\n",
    "        descriptions.append(description[0].text)\n",
    "    else:\n",
    "        descriptions.append('')\n",
    "    time.sleep(1) "
   ]
  },
  {
   "cell_type": "code",
   "execution_count": null,
   "id": "9bb67077",
   "metadata": {},
   "outputs": [],
   "source": [
    "len(descriptions)"
   ]
  },
  {
   "cell_type": "code",
   "execution_count": null,
   "id": "c401951e",
   "metadata": {},
   "outputs": [],
   "source": [
    "result_dict_NAVER_SHOP = {'title': titles, 'link': links, 'description': descriptions}\n",
    "df_NAVER_SHOP = pd.DataFrame.from_dict(result_dict_NAVER_SHOP)"
   ]
  },
  {
   "cell_type": "code",
   "execution_count": null,
   "id": "cfa18730",
   "metadata": {},
   "outputs": [],
   "source": [
    "df_NAVER_SHOP"
   ]
  },
  {
   "cell_type": "raw",
   "id": "d8d58df7",
   "metadata": {},
   "source": [
    "# CSV 파일로 저장\n",
    "df_NAVER_SHOP.to_csv('네이버쇼핑(뉴스)-300row.csv', index=False)"
   ]
  },
  {
   "cell_type": "markdown",
   "id": "14b15b96",
   "metadata": {},
   "source": [
    "### 주제: 네이버블로그 - 네이버뉴스"
   ]
  },
  {
   "cell_type": "code",
   "execution_count": null,
   "id": "c1ffea2b",
   "metadata": {},
   "outputs": [],
   "source": [
    "query = '네이버블로그'\n",
    "display = 100\n",
    "start = 1000\n",
    "sort = 'sim'\n",
    "\n",
    "result_NAVER_BLOG = []\n",
    "for i in range(0,10):\n",
    "    start = 1 + 100*i\n",
    "    result_naver_BLOG = getresult(client_id, client_secret, query, display, start, sort)\n",
    "    result_NAVER_BLOG.append(result_naver_BLOG)\n",
    "\n",
    "result_NAVER_BLOG"
   ]
  },
  {
   "cell_type": "code",
   "execution_count": null,
   "id": "1368c8f1",
   "metadata": {},
   "outputs": [],
   "source": [
    "# 리스트 컴프리헨션을 사용하여 이중 리스트 풀기\n",
    "result_NAVER_BLOG = [item for sublist in result_NAVER_BLOG for item in sublist]\n",
    "\n",
    "print(result_NAVER_BLOG)"
   ]
  },
  {
   "cell_type": "code",
   "execution_count": null,
   "id": "9ad1b9a0",
   "metadata": {},
   "outputs": [],
   "source": [
    "len(result_NAVER_BLOG)"
   ]
  },
  {
   "cell_type": "code",
   "execution_count": null,
   "id": "a63a983f",
   "metadata": {},
   "outputs": [],
   "source": [
    "p = re.compile('https://n.news.naver.com/.+')\n",
    "links = []\n",
    "for item in result_NAVER_BLOG:\n",
    "    link = item['link']\n",
    "    if p.search(link):\n",
    "        links.append(link)"
   ]
  },
  {
   "cell_type": "code",
   "execution_count": null,
   "id": "fac406cd",
   "metadata": {},
   "outputs": [],
   "source": [
    "len(links)"
   ]
  },
  {
   "cell_type": "code",
   "execution_count": null,
   "id": "138f00c2",
   "metadata": {},
   "outputs": [],
   "source": [
    "article_ids = ['newsct_article', 'articeBody']\n",
    "title_id = 'title_area'"
   ]
  },
  {
   "cell_type": "code",
   "execution_count": null,
   "id": "93248793",
   "metadata": {},
   "outputs": [],
   "source": [
    "titles = []\n",
    "descriptions = []\n",
    "\n",
    "for i, link in enumerate(links):\n",
    "    html = urllib.request.urlopen(link)\n",
    "    bs_obj = BeautifulSoup(html, 'html.parser')\n",
    "    title = bs_obj.find_all('h2', {'id':title_id})\n",
    "    description = bs_obj.find_all('div', {'id':article_ids})\n",
    "    if len(title) > 0:\n",
    "        titles.append(title[0].text)\n",
    "    else:\n",
    "        titles.append('')\n",
    "    \n",
    "    if len(description) > 0:\n",
    "        descriptions.append(description[0].text)\n",
    "    else:\n",
    "        descriptions.append('')\n",
    "    time.sleep(1) "
   ]
  },
  {
   "cell_type": "code",
   "execution_count": null,
   "id": "e11042a9",
   "metadata": {},
   "outputs": [],
   "source": [
    "len(descriptions)"
   ]
  },
  {
   "cell_type": "code",
   "execution_count": null,
   "id": "e60e9232",
   "metadata": {},
   "outputs": [],
   "source": [
    "result_dict_NAVER_BLOG = {'title': titles, 'link': links, 'description': descriptions}\n",
    "df_NAVER_BLOG = pd.DataFrame.from_dict(result_dict_NAVER_BLOG)"
   ]
  },
  {
   "cell_type": "code",
   "execution_count": null,
   "id": "d87a4633",
   "metadata": {},
   "outputs": [],
   "source": [
    "df_NAVER_BLOG"
   ]
  },
  {
   "cell_type": "raw",
   "id": "d9a525bb",
   "metadata": {},
   "source": [
    "# CSV 파일로 저장\n",
    "df_NAVER_BLOG.to_csv('네이버블로그(뉴스)-453row.csv', index=False)"
   ]
  },
  {
   "cell_type": "markdown",
   "id": "4e0f1a14",
   "metadata": {},
   "source": [
    "### 주제: 네이버클라우드 - 네이버뉴스"
   ]
  },
  {
   "cell_type": "code",
   "execution_count": null,
   "id": "797f3a71",
   "metadata": {},
   "outputs": [],
   "source": [
    "query = '네이버클라우드'\n",
    "display = 100\n",
    "start = 1000\n",
    "sort = 'sim'\n",
    "\n",
    "result_NAVER_CLOUD = []\n",
    "for i in range(0,10):\n",
    "    start = 1 + 100*i\n",
    "    result_naver_CLOUD = getresult(client_id, client_secret, query, display, start, sort)\n",
    "    result_NAVER_CLOUD.append(result_naver_CLOUD)\n",
    "\n",
    "result_NAVER_CLOUD"
   ]
  },
  {
   "cell_type": "code",
   "execution_count": null,
   "id": "b11e8cc8",
   "metadata": {},
   "outputs": [],
   "source": [
    "# 리스트 컴프리헨션을 사용하여 이중 리스트 풀기\n",
    "result_NAVER_CLOUD = [item for sublist in result_NAVER_CLOUD for item in sublist]\n",
    "\n",
    "print(result_NAVER_CLOUD)"
   ]
  },
  {
   "cell_type": "code",
   "execution_count": null,
   "id": "4ba46c4c",
   "metadata": {},
   "outputs": [],
   "source": [
    "len(result_NAVER_CLOUD)"
   ]
  },
  {
   "cell_type": "code",
   "execution_count": null,
   "id": "69a3914b",
   "metadata": {},
   "outputs": [],
   "source": [
    "p = re.compile('https://n.news.naver.com/.+')\n",
    "links = []\n",
    "for item in result_NAVER_CLOUD:\n",
    "    link = item['link']\n",
    "    if p.search(link):\n",
    "        links.append(link)"
   ]
  },
  {
   "cell_type": "code",
   "execution_count": null,
   "id": "757a5f32",
   "metadata": {},
   "outputs": [],
   "source": [
    "len(links)"
   ]
  },
  {
   "cell_type": "code",
   "execution_count": null,
   "id": "18653239",
   "metadata": {},
   "outputs": [],
   "source": [
    "article_ids = ['newsct_article', 'articeBody']\n",
    "title_id = 'title_area'"
   ]
  },
  {
   "cell_type": "code",
   "execution_count": null,
   "id": "eea83453",
   "metadata": {},
   "outputs": [],
   "source": [
    "titles = []\n",
    "descriptions = []\n",
    "\n",
    "for i, link in enumerate(links):\n",
    "    html = urllib.request.urlopen(link)\n",
    "    bs_obj = BeautifulSoup(html, 'html.parser')\n",
    "    title = bs_obj.find_all('h2', {'id':title_id})\n",
    "    description = bs_obj.find_all('div', {'id':article_ids})\n",
    "    if len(title) > 0:\n",
    "        titles.append(title[0].text)\n",
    "    else:\n",
    "        titles.append('')\n",
    "    \n",
    "    if len(description) > 0:\n",
    "        descriptions.append(description[0].text)\n",
    "    else:\n",
    "        descriptions.append('')\n",
    "    time.sleep(1) "
   ]
  },
  {
   "cell_type": "code",
   "execution_count": null,
   "id": "1fec9e08",
   "metadata": {},
   "outputs": [],
   "source": [
    "len(descriptions)"
   ]
  },
  {
   "cell_type": "code",
   "execution_count": null,
   "id": "7cdcc919",
   "metadata": {},
   "outputs": [],
   "source": [
    "result_dict_NAVER_CLOUD = {'title': titles, 'link': links, 'description': descriptions}\n",
    "df_NAVER_CLOUD = pd.DataFrame.from_dict(result_dict_NAVER_CLOUD)"
   ]
  },
  {
   "cell_type": "code",
   "execution_count": null,
   "id": "cfb945ad",
   "metadata": {
    "scrolled": true
   },
   "outputs": [],
   "source": [
    "df_NAVER_CLOUD"
   ]
  },
  {
   "cell_type": "raw",
   "id": "fcb73438",
   "metadata": {},
   "source": [
    "# CSV 파일로 저장\n",
    "df_NAVER_CLOUD.to_csv('네이버클라우드(뉴스)-376row.csv', index=False)"
   ]
  },
  {
   "cell_type": "code",
   "execution_count": null,
   "id": "b1e65a97",
   "metadata": {},
   "outputs": [],
   "source": []
  }
 ],
 "metadata": {
  "kernelspec": {
   "display_name": "Python 3 (ipykernel)",
   "language": "python",
   "name": "python3"
  },
  "language_info": {
   "codemirror_mode": {
    "name": "ipython",
    "version": 3
   },
   "file_extension": ".py",
   "mimetype": "text/x-python",
   "name": "python",
   "nbconvert_exporter": "python",
   "pygments_lexer": "ipython3",
   "version": "3.10.9"
  }
 },
 "nbformat": 4,
 "nbformat_minor": 5
}
