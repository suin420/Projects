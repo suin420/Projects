{
 "cells": [
  {
   "cell_type": "markdown",
   "id": "bad34778",
   "metadata": {},
   "source": [
    "***import***"
   ]
  },
  {
   "cell_type": "code",
   "execution_count": null,
   "id": "fe6b91f4",
   "metadata": {},
   "outputs": [],
   "source": [
    "import os\n",
    "import sys\n",
    "import time\n",
    "import urllib.request\n",
    "import datetime\n",
    "import time\n",
    "import json\n",
    "import pandas as pd\n",
    "import re\n",
    "\n",
    "from urllib.request import urlopen\n",
    "from bs4 import BeautifulSoup\n",
    "import urllib\n",
    "import requests"
   ]
  },
  {
   "cell_type": "code",
   "execution_count": null,
   "id": "b65d2aa8",
   "metadata": {},
   "outputs": [],
   "source": [
    "client_id = 'client_id'\n",
    "client_secret = 'client_secret'"
   ]
  },
  {
   "cell_type": "markdown",
   "id": "916338c3",
   "metadata": {},
   "source": [
    "**기본 코드**"
   ]
  },
  {
   "cell_type": "raw",
   "id": "9157a01b",
   "metadata": {},
   "source": [
    "base_url = 'https://openapi.naver.com/v1/search/blog.json'\n",
    "query = '미국'\n",
    "encQuery = urllib.parse.quote(query)\n",
    "n_display = 100\n",
    "start = 1\n",
    "sort = 'sim'\n",
    "\n",
    "# 총 검색 결과 수 계산\n",
    "url = f'{base_url}?query={encQuery}&display={n_display}&start={start}&sort={sort}'\n",
    "\n",
    "my_request = urllib.request.Request(url)\n",
    "my_request.add_header(\"X-Naver-Client-Id\",client_id)\n",
    "my_request.add_header(\"X-Naver-Client-Secret\",client_secret)\n",
    "\n",
    "response = urllib.request.urlopen(my_request)\n",
    "\n",
    "rescode = response.getcode()\n",
    "if(rescode==200):\n",
    "    response_body = response.read()\n",
    "#     print(response_body.decode('utf-8'))\n",
    "else:\n",
    "    print(\"Error Code:\" + rescode)\n",
    "\n",
    "search_result_str = response_body.decode('utf-8')\n",
    "\n",
    "search_results = json.loads(search_result_str)\n",
    "\n",
    "total_results.append(search_results['items'])"
   ]
  },
  {
   "cell_type": "markdown",
   "id": "a86838fc",
   "metadata": {},
   "source": [
    "네이버 API는 한번 호출에 100개를 반환한다.  \n",
    "한번의 코드에 500개 이상을 반환하도록 구현(하지만 이 코드도 한번에 1000개 까지만 가능)  \n",
    "참고자료: https://yenpa.tistory.com/3"
   ]
  },
  {
   "cell_type": "code",
   "execution_count": null,
   "id": "d6856e2a",
   "metadata": {},
   "outputs": [],
   "source": [
    "def getresult(client_id,client_secret,query,display=100,start=1,sort='sim'):\n",
    "    encText = urllib.parse.quote(query)\n",
    "    url = \"https://openapi.naver.com/v1/search/blog?query=\" + encText + \\\n",
    "    \"&display=\" + str(display) + \"&start=\" + str(start) + \"&sort=\" + sort\n",
    "    \n",
    "    request = urllib.request.Request(url)\n",
    "    request.add_header(\"X-Naver-Client-Id\",client_id)\n",
    "    request.add_header(\"X-Naver-Client-Secret\",client_secret)\n",
    "    response = urllib.request.urlopen(request)\n",
    "    # HTTP 응답 상태코드 확인\n",
    "    rescode = response.getcode()\n",
    "    if(rescode==200):\n",
    "        # HTTP 응답 바디 읽기\n",
    "        response_body = response.read()\n",
    "        response_str = response_body.decode('utf-8')\n",
    "        # JSON 문자열을 Python 객체로 변환\n",
    "        response_json = json.loads(response_str)\n",
    "    else:\n",
    "        print(\"Error Code:\" + rescode)\n",
    "    # 검색 결과 아이템 리스트 반환\n",
    "    return response_json['items']"
   ]
  },
  {
   "cell_type": "code",
   "execution_count": null,
   "id": "1b60657c",
   "metadata": {},
   "outputs": [],
   "source": [
    "def remove_tag(my_str):\n",
    "    ## 태그를 지우는 함수\n",
    "    p = re.compile('(<([^>]+)>)')\n",
    "    return p.sub('', my_str)\n",
    "\n",
    "def sub_html_special_char(my_str):\n",
    "    ## 특수문자를 나타내는 &apos;, &quot를 실제 특수문자로 변환\n",
    "    p1 = re.compile('&lt;')\n",
    "    p2 = re.compile('&gt;')\n",
    "    p3 = re.compile('&amp;')\n",
    "    p4 = re.compile('&apos;')\n",
    "    p5 = re.compile('&quot;')\n",
    "\n",
    "    result = p1.sub('\\<', my_str)\n",
    "    result = p2.sub('\\>', result)\n",
    "    result = p3.sub('\\&', result)\n",
    "    result = p4.sub('\\'', result)\n",
    "    result = p5.sub('\\\"', result)\n",
    "    return result"
   ]
  },
  {
   "cell_type": "markdown",
   "id": "737464e8",
   "metadata": {},
   "source": [
    "### 주제: 미국 - 네이버블로그"
   ]
  },
  {
   "cell_type": "code",
   "execution_count": null,
   "id": "b9e9ff0c",
   "metadata": {},
   "outputs": [],
   "source": [
    "query = '미국'\n",
    "display = 100\n",
    "start = 1000\n",
    "sort = 'sim'\n",
    "\n",
    "result_USA = []\n",
    "for i in range(0,10):\n",
    "    start = 1 + 100*i # (1) 검색 시작 위치 계산\n",
    "    result_usa = getresult(client_id, client_secret, query, display, start, sort) # (2) 검색 결과를 가져오는 함수 \n",
    "    result_USA.append(result_usa)"
   ]
  },
  {
   "cell_type": "code",
   "execution_count": null,
   "id": "257f9e51",
   "metadata": {},
   "outputs": [],
   "source": [
    "# 리스트 컴프리헨션을 사용하여 이중 리스트 풀기\n",
    "result_USA = [item for sublist in result_USA for item in sublist]"
   ]
  },
  {
   "cell_type": "code",
   "execution_count": null,
   "id": "1e709110",
   "metadata": {},
   "outputs": [],
   "source": [
    "len(result_USA)"
   ]
  },
  {
   "cell_type": "markdown",
   "id": "0086e3a9",
   "metadata": {},
   "source": [
    "네이버 블로그 link가 있는 블로그만 검색하기  \n",
    "(10. WebScraping_Practice_answer_배지환님 코드 참고)"
   ]
  },
  {
   "cell_type": "code",
   "execution_count": null,
   "id": "df7f0e05",
   "metadata": {},
   "outputs": [],
   "source": [
    "titles = []\n",
    "links = []\n",
    "descriptions = []\n",
    "\n",
    "p = re.compile('https://blog.naver.com/.+')\n",
    "for item in result_USA:\n",
    "    if p.match(item['link']): ## <link>태그의 문자열이 blog.naver.com/으로 시작하는 결과만 추출\n",
    "        # 제목에 있는 HTML 특수 문자를 제거하고 태그를 제거한 뒤 저장\n",
    "        title = sub_html_special_char(remove_tag(item['title']))\n",
    "        link = item['link']\n",
    "        description = item['description']\n",
    "        links.append(link)\n",
    "        # 링크로부터 웹 페이지의 HTML 가져오기\n",
    "        html = requests.get(link)\n",
    "        bs_obj01 = BeautifulSoup(html.text, 'html.parser')\n",
    "        src_url = \"https://blog.naver.com/\" + bs_obj01.iframe[\"src\"] # (1)\n",
    "        # src URL로부터 웹 페이지의 HTML 가져오기\n",
    "        html = requests.get(src_url)\n",
    "        bs_obj02 = BeautifulSoup(html.text, 'html.parser')\n",
    "        title = bs_obj02.find_all('div', {'class': 'se-module se-module-text se-title-text'})\n",
    "        title = title[0].text.replace('\\n','')\n",
    "        text = bs_obj02.find_all('div', {'class':'se-main-container'})\n",
    "        text = text[0].text.replace('\\n','')\n",
    "        \n",
    "        titles.append(title)\n",
    "        descriptions.append(text)\n",
    "        \n",
    "        time.sleep(1)"
   ]
  },
  {
   "cell_type": "markdown",
   "id": "bb402302",
   "metadata": {},
   "source": [
    "#(1) p에 맞는 링크를 찾기 위한 정규 표현식 패턴 컴파일\n",
    "\n",
    "#(2) 'title'에서 HTML 태그와 특수 문자를 제거한 결과를 저장\n",
    "\n",
    "#(3) iframe 태그의 src URL 생성"
   ]
  },
  {
   "cell_type": "code",
   "execution_count": null,
   "id": "6e13601a",
   "metadata": {},
   "outputs": [],
   "source": [
    "result_dict_USA = {'title': titles, 'link': links, 'description': descriptions}\n",
    "df_USA = pd.DataFrame.from_dict(result_dict_USA)"
   ]
  },
  {
   "cell_type": "raw",
   "id": "99b86b97",
   "metadata": {},
   "source": [
    "# CSV 파일로 저장\n",
    "df_USA.to_csv('미국(블로그)1-988row.csv', index=False)"
   ]
  },
  {
   "cell_type": "raw",
   "id": "c36978f7",
   "metadata": {},
   "source": [
    "# CSV 파일로 저장\n",
    "df_USA.to_csv('미국(블로그)2-987row.csv', index=False)"
   ]
  },
  {
   "cell_type": "raw",
   "id": "4d1460ee",
   "metadata": {},
   "source": [
    "# CSV 파일로 저장\n",
    "df_USA.to_csv('미국(블로그)3-989row.csv', index=False)"
   ]
  },
  {
   "cell_type": "raw",
   "id": "83ea9b06",
   "metadata": {},
   "source": [
    "# CSV 파일로 저장\n",
    "df_USA.to_csv('미국(블로그)4-984row.csv', index=False)"
   ]
  },
  {
   "cell_type": "markdown",
   "id": "88b596c4",
   "metadata": {},
   "source": [
    "**주제: 미국 - 데이터프레임 중복 제거**"
   ]
  },
  {
   "cell_type": "code",
   "execution_count": null,
   "id": "d6ffa0bc",
   "metadata": {},
   "outputs": [],
   "source": [
    "df_USA_1 = pd.read_csv('미국(블로그)1-988row.csv')\n",
    "df_USA_2 = pd.read_csv('미국(블로그)2-987row.csv')\n",
    "df_USA_3 = pd.read_csv('미국(블로그)3-989row.csv')\n",
    "df_USA_4 = pd.read_csv('미국(블로그)4-984row.csv')"
   ]
  },
  {
   "cell_type": "code",
   "execution_count": null,
   "id": "40bd0be4",
   "metadata": {},
   "outputs": [],
   "source": [
    "merged_df_USA = pd.merge(df_USA_1, df_USA_2, on=['title', 'link', 'description'], how='outer')\n",
    "df_USA_12 = merged_df_USA.drop_duplicates()"
   ]
  },
  {
   "cell_type": "code",
   "execution_count": null,
   "id": "24fdbab0",
   "metadata": {},
   "outputs": [],
   "source": [
    "merged_df_USA = pd.merge(df_USA_3, df_USA_4, on=['title', 'link', 'description'], how='outer')\n",
    "df_USA_34 = merged_df_USA.drop_duplicates()"
   ]
  },
  {
   "cell_type": "code",
   "execution_count": null,
   "id": "735f2cc0",
   "metadata": {},
   "outputs": [],
   "source": [
    "merged_df_USA = pd.merge(df_USA_12, df_USA_34, on=['title', 'link', 'description'], how='outer')\n",
    "df_USA = merged_df_USA.drop_duplicates()"
   ]
  },
  {
   "cell_type": "raw",
   "id": "1cc6b6d6",
   "metadata": {},
   "source": [
    "# CSV 파일로 저장\n",
    "df_USA.to_csv('미국(블로그)-1094.csv', index=False)"
   ]
  },
  {
   "cell_type": "markdown",
   "id": "b5c7c8db",
   "metadata": {},
   "source": [
    "### 주제: 여행 - 네이버블로그"
   ]
  },
  {
   "cell_type": "code",
   "execution_count": null,
   "id": "9a37f358",
   "metadata": {},
   "outputs": [],
   "source": [
    "query = '여행'\n",
    "display = 100\n",
    "start = 1\n",
    "sort = 'sim'\n",
    "\n",
    "result_TRIP = []\n",
    "for i in range(0,10):\n",
    "    start = 1 + 100*i # (1) 검색 시작 위치 계산\n",
    "    result_trip = getresult(client_id, client_secret, query, display, start, sort) # (2) 검색 결과를 가져오는 함수 \n",
    "    result_TRIP.append(result_trip)\n"
   ]
  },
  {
   "cell_type": "code",
   "execution_count": null,
   "id": "19cf9cc0",
   "metadata": {},
   "outputs": [],
   "source": [
    "result_TRIP = [item for sublist in result_TRIP for item in sublist]"
   ]
  },
  {
   "cell_type": "code",
   "execution_count": null,
   "id": "cb290930",
   "metadata": {},
   "outputs": [],
   "source": [
    "len(result_TRIP)"
   ]
  },
  {
   "cell_type": "code",
   "execution_count": null,
   "id": "1a200d20",
   "metadata": {},
   "outputs": [],
   "source": [
    "titles = []\n",
    "links = []\n",
    "descriptions = []\n",
    "\n",
    "p = re.compile('https://blog.naver.com/.+')\n",
    "for item in result_TRIP:\n",
    "    if p.match(item['link']): ## <link>태그의 문자열이 blog.naver.com/으로 시작하는 결과만 추출\n",
    "        title = sub_html_special_char(remove_tag(item['title']))\n",
    "        link = item['link']\n",
    "        description = item['description']\n",
    "        links.append(link)\n",
    "        \n",
    "        html = requests.get(link)\n",
    "        bs_obj01 = BeautifulSoup(html.text, 'html.parser')\n",
    "        src_url = \"https://blog.naver.com/\" + bs_obj01.iframe[\"src\"]\n",
    "        \n",
    "        html = requests.get(src_url)\n",
    "        bs_obj02 = BeautifulSoup(html.text, 'html.parser')\n",
    "\n",
    "        title_elements = bs_obj02.find_all('div', {'class': 'se-module se-module-text se-title-text'})\n",
    "        if title_elements:\n",
    "            title = title_elements[0].text.replace('\\n', '')\n",
    "        else:\n",
    "            title = \"No title found\"\n",
    "        \n",
    "        text_elements = bs_obj02.find_all('div', {'class':'se-main-container'})\n",
    "        if text_elements:\n",
    "            text = text_elements[0].text.replace('\\n','')\n",
    "        else: \n",
    "            text = \"No text found\"\n",
    "\n",
    "        # title = bs_obj02.find_all('div', {'class': 'se-module se-module-text se-title-text'})\n",
    "        # title = title[0].text.replace('\\n','')\n",
    "        # text = bs_obj02.find_all('div', {'class':'se-main-container'})\n",
    "        # text = text[0].text.replace('\\n','')\n",
    "        \n",
    "        titles.append(title)\n",
    "        descriptions.append(text)\n",
    "        \n",
    "        time.sleep(1)"
   ]
  },
  {
   "cell_type": "code",
   "execution_count": null,
   "id": "27f3c370",
   "metadata": {},
   "outputs": [],
   "source": [
    "result_dict_TRIP = {'title': titles, 'link': links, 'description': descriptions}\n",
    "df_TRIP = pd.DataFrame.from_dict(result_dict_TRIP)"
   ]
  },
  {
   "cell_type": "raw",
   "id": "13d02b5a",
   "metadata": {},
   "source": [
    "# CSV 파일로 저장\n",
    "df_TRIP.to_csv('여행(블로그)1-990row.csv', index=False)"
   ]
  },
  {
   "cell_type": "raw",
   "id": "72609a68",
   "metadata": {},
   "source": [
    "# CSV 파일로 저장\n",
    "df_TRIP.to_csv('여행(블로그)2-991row.csv', index=False)"
   ]
  },
  {
   "cell_type": "raw",
   "id": "ea0967df",
   "metadata": {},
   "source": [
    "# CSV 파일로 저장\n",
    "df_TRIP.to_csv('여행(블로그)3-993row.csv', index=False)"
   ]
  },
  {
   "cell_type": "markdown",
   "id": "8dc80001",
   "metadata": {},
   "source": [
    "**주제: 여행 - 데이터프레임 중복 제거**"
   ]
  },
  {
   "cell_type": "code",
   "execution_count": null,
   "id": "35eb4d56",
   "metadata": {},
   "outputs": [],
   "source": [
    "df_TRIP_1 = pd.read_csv('여행(블로그)1-990row.csv')\n",
    "df_TRIP_2 = pd.read_csv('여행(블로그)2-991row.csv')\n",
    "df_TRIP_3 = pd.read_csv('여행(블로그)3-993row.csv')"
   ]
  },
  {
   "cell_type": "code",
   "execution_count": null,
   "id": "025c8188",
   "metadata": {},
   "outputs": [],
   "source": [
    "merged_df_TRIP = pd.merge(df_TRIP_1, df_TRIP_2, on=['title', 'link', 'description'], how='outer')\n",
    "df_TRIP_12 = merged_df_TRIP.drop_duplicates()"
   ]
  },
  {
   "cell_type": "code",
   "execution_count": null,
   "id": "ad5724de",
   "metadata": {},
   "outputs": [],
   "source": [
    "merged_df_TRIP = pd.merge(df_TRIP_12, df_TRIP_3, on=['title', 'link', 'description'], how='outer')\n",
    "df_TRIP = merged_df_TRIP.drop_duplicates()"
   ]
  },
  {
   "cell_type": "raw",
   "id": "25a19354",
   "metadata": {},
   "source": [
    "# CSV 파일로 저장\n",
    "df_TRIP.to_csv('여행(블로그)-1098row.csv', index=False)"
   ]
  },
  {
   "cell_type": "markdown",
   "id": "26c1f663",
   "metadata": {},
   "source": [
    "### 주제: 네이버 - 네이버블로그"
   ]
  },
  {
   "cell_type": "code",
   "execution_count": null,
   "id": "50c77268",
   "metadata": {},
   "outputs": [],
   "source": [
    "query = '네이버'\n",
    "display = 100\n",
    "start = 1000\n",
    "sort = 'sim'\n",
    "\n",
    "result_NAVER = []\n",
    "for i in range(0,10):\n",
    "    start = 1 + 100*i # (1) 검색 시작 위치 계산\n",
    "    result_naver = getresult(client_id, client_secret, query, display, start, sort) # (2) 검색 결과를 가져오는 함수 \n",
    "    result_NAVER.append(result_naver)\n"
   ]
  },
  {
   "cell_type": "code",
   "execution_count": null,
   "id": "1b410cce",
   "metadata": {},
   "outputs": [],
   "source": [
    "# 리스트 컴프리헨션을 사용하여 이중 리스트 풀기\n",
    "result_NAVER = [item for sublist in result_NAVER for item in sublist]\n"
   ]
  },
  {
   "cell_type": "code",
   "execution_count": null,
   "id": "4afd10ca",
   "metadata": {},
   "outputs": [],
   "source": [
    "len(result_NAVER)"
   ]
  },
  {
   "cell_type": "code",
   "execution_count": null,
   "id": "bf62c574",
   "metadata": {},
   "outputs": [],
   "source": [
    "titles = []\n",
    "links = []\n",
    "descriptions = []\n",
    "\n",
    "p = re.compile('https://blog.naver.com/.+') # (1)\n",
    "for item in result_NAVER:\n",
    "    if p.match(item['link']): ## <link>태그의 문자열이 blog.naver.com/으로 시작하는 결과만 추출\n",
    "        title = sub_html_special_char(remove_tag(item['title'])) # (2)\n",
    "        link = item['link']\n",
    "        description = item['description']\n",
    "        links.append(link)\n",
    "        \n",
    "        html = requests.get(link)\n",
    "        bs_obj01 = BeautifulSoup(html.text, 'html.parser')\n",
    "        src_url = \"https://blog.naver.com/\" + bs_obj01.iframe[\"src\"] # (3)\n",
    "        \n",
    "        # 블로그 내용 파싱을 위해 src_url을 생성하고 요청을 보냄\n",
    "        html = requests.get(src_url)\n",
    "        bs_obj02 = BeautifulSoup(html.text, 'html.parser')\n",
    "    \n",
    "        # 제목 파싱\n",
    "        title_elements = bs_obj02.find_all('div', {'class': 'se-module se-module-text se-title-text'})\n",
    "        if title_elements:\n",
    "            title = title_elements[0].text.replace('\\n', '')\n",
    "        else:\n",
    "            title = \"No title found\"\n",
    "        \n",
    "        # 본문 내용 파싱\n",
    "        text_elements = bs_obj02.find_all('div', {'class':'se-main-container'})\n",
    "        if text_elements:\n",
    "            text = text_elements[0].text.replace('\\n','')\n",
    "        else: \n",
    "            text = \"No text found\"\n",
    "\n",
    "        # title = bs_obj02.find_all('div', {'class': 'se-module se-module-text se-title-text'})\n",
    "        # title = title[0].text.replace('\\n','')\n",
    "        # text = bs_obj02.find_all('div', {'class':'se-main-container'})\n",
    "        # text = text[0].text.replace('\\n','')\n",
    "        \n",
    "        titles.append(title)\n",
    "        descriptions.append(text)\n",
    "        \n",
    "        time.sleep(1)"
   ]
  },
  {
   "cell_type": "code",
   "execution_count": null,
   "id": "5c8299fc",
   "metadata": {},
   "outputs": [],
   "source": [
    "result_dict_NAVER = {'title': titles, 'link': links, 'description': descriptions}\n",
    "df_NAVER = pd.DataFrame.from_dict(result_dict_NAVER)"
   ]
  },
  {
   "cell_type": "raw",
   "id": "4f87a35c",
   "metadata": {},
   "source": [
    "# CSV 파일로 저장\n",
    "df_NAVER.to_csv('네이버(블로그)1-933row.csv', index=False)"
   ]
  },
  {
   "cell_type": "raw",
   "id": "c724b9ff",
   "metadata": {},
   "source": [
    "# CSV 파일로 저장\n",
    "df_NAVER.to_csv('네이버(블로그)2-932row.csv', index=False)"
   ]
  },
  {
   "cell_type": "raw",
   "id": "4c31ac7a",
   "metadata": {},
   "source": [
    "# CSV 파일로 저장\n",
    "df_NAVER.to_csv('네이버(블로그)3-929row.csv', index=False)"
   ]
  },
  {
   "cell_type": "markdown",
   "id": "82489039",
   "metadata": {},
   "source": [
    "**주제: 네이버 - 데이터프레임 중복 제거**"
   ]
  },
  {
   "cell_type": "code",
   "execution_count": null,
   "id": "02607e26",
   "metadata": {},
   "outputs": [],
   "source": [
    "df_USA_1 = pd.read_csv('네이버(블로그)1-933row.csv')\n",
    "df_USA_2 = pd.read_csv('네이버(블로그)2-932row.csv')\n",
    "df_USA_3 = pd.read_csv('네이버(블로그)3-929row.csv')"
   ]
  },
  {
   "cell_type": "code",
   "execution_count": null,
   "id": "35367fe5",
   "metadata": {},
   "outputs": [],
   "source": [
    "merged_df_NAVER = pd.merge(df_USA_1, df_USA_2, on=['title', 'link', 'description'], how='outer')\n",
    "df_NAVER_12 = merged_df_NAVER.drop_duplicates()"
   ]
  },
  {
   "cell_type": "code",
   "execution_count": null,
   "id": "3aa720e7",
   "metadata": {},
   "outputs": [],
   "source": [
    "merged_df_NAVER = pd.merge(df_USA_12, df_USA_3, on=['title', 'link', 'description'], how='outer')\n",
    "df_NAVER = merged_df_NAVER.drop_duplicates()"
   ]
  },
  {
   "cell_type": "raw",
   "id": "5a79ba3b",
   "metadata": {},
   "source": [
    "# CSV 파일로 저장\n",
    "df_NAVER.to_csv('네이버(블로그)-1944row.csv', index=False)"
   ]
  },
  {
   "cell_type": "markdown",
   "id": "5e30f213",
   "metadata": {},
   "source": [
    "### 주제: 네이버지도 - 네이버블로그"
   ]
  },
  {
   "cell_type": "code",
   "execution_count": null,
   "id": "900872eb",
   "metadata": {},
   "outputs": [],
   "source": [
    "query = '네이버지도'\n",
    "display = 100\n",
    "start = 1000\n",
    "sort = 'sim'\n",
    "\n",
    "result_NAVER_MAP = []\n",
    "for i in range(0,10):\n",
    "    start = 1 + 100*i # (1) 검색 시작 위치 계산\n",
    "    result_naver_MAP = getresult(client_id, client_secret, query, display, start, sort) # (2) 검색 결과를 가져오는 함수 \n",
    "    result_NAVER_MAP.append(result_naver_MAP)\n"
   ]
  },
  {
   "cell_type": "code",
   "execution_count": null,
   "id": "f5bbbdf6",
   "metadata": {},
   "outputs": [],
   "source": [
    "# 리스트 컴프리헨션을 사용하여 이중 리스트 풀기\n",
    "result_NAVER_MAP = [item for sublist in result_NAVER_MAP for item in sublist]\n"
   ]
  },
  {
   "cell_type": "code",
   "execution_count": null,
   "id": "e0803dbd",
   "metadata": {},
   "outputs": [],
   "source": [
    "len(result_NAVER_MAP)"
   ]
  },
  {
   "cell_type": "code",
   "execution_count": null,
   "id": "1bb28425",
   "metadata": {},
   "outputs": [],
   "source": [
    "titles = []\n",
    "links = []\n",
    "descriptions = []\n",
    "\n",
    "p = re.compile('https://blog.naver.com/.+')\n",
    "for item in result_NAVER_MAP:\n",
    "    if p.match(item['link']): ## <link>태그의 문자열이 blog.naver.com/으로 시작하는 결과만 추출\n",
    "        title = sub_html_special_char(remove_tag(item['title']))\n",
    "        link = item['link']\n",
    "        description = item['description']\n",
    "        links.append(link)\n",
    "        \n",
    "        html = requests.get(link)\n",
    "        bs_obj01 = BeautifulSoup(html.text, 'html.parser')\n",
    "        src_url = \"https://blog.naver.com/\" + bs_obj01.iframe[\"src\"]\n",
    "        \n",
    "        html = requests.get(src_url)\n",
    "        bs_obj02 = BeautifulSoup(html.text, 'html.parser')\n",
    "\n",
    "        title_elements = bs_obj02.find_all('div', {'class': 'se-module se-module-text se-title-text'})\n",
    "        if title_elements:\n",
    "            title = title_elements[0].text.replace('\\n', '')\n",
    "        else:\n",
    "            title = \"No title found\"\n",
    "        \n",
    "        text_elements = bs_obj02.find_all('div', {'class':'se-main-container'})\n",
    "        if text_elements:\n",
    "            text = text_elements[0].text.replace('\\n','')\n",
    "        else: \n",
    "            text = \"No text found\"\n",
    "\n",
    "        # title = bs_obj02.find_all('div', {'class': 'se-module se-module-text se-title-text'})\n",
    "        # title = title[0].text.replace('\\n','')\n",
    "        # text = bs_obj02.find_all('div', {'class':'se-main-container'})\n",
    "        # text = text[0].text.replace('\\n','')\n",
    "        \n",
    "        titles.append(title)\n",
    "        descriptions.append(text)\n",
    "        \n",
    "        time.sleep(1)"
   ]
  },
  {
   "cell_type": "code",
   "execution_count": null,
   "id": "56582a31",
   "metadata": {},
   "outputs": [],
   "source": [
    "result_dict_NAVER_MAP = {'title': titles, 'link': links, 'description': descriptions}\n",
    "df_NAVER_MAP = pd.DataFrame.from_dict(result_dict_NAVER_MAP)"
   ]
  },
  {
   "cell_type": "raw",
   "id": "b30d0d70",
   "metadata": {},
   "source": [
    "# CSV 파일로 저장\n",
    "df_NAVER_MAP.to_csv('네이버지도(블로그)1-918row.csv', index=False)"
   ]
  },
  {
   "cell_type": "raw",
   "id": "f3373056",
   "metadata": {},
   "source": [
    "# CSV 파일로 저장\n",
    "df_NAVER_MAP.to_csv('네이버지도(블로그)2-915row.csv', index=False)"
   ]
  },
  {
   "cell_type": "markdown",
   "id": "c4c7bd47",
   "metadata": {},
   "source": [
    "**주제: 네이버지도 - 데이터프레임 중복 제거**"
   ]
  },
  {
   "cell_type": "code",
   "execution_count": null,
   "id": "4182b425",
   "metadata": {},
   "outputs": [],
   "source": [
    "df_NAVER_MAP_1 = pd.read_csv('네이버지도(블로그)-918row.csv')\n",
    "df_NAVER_MAP_2 = pd.read_csv('네이버지도(블로그)2-915row.csv')"
   ]
  },
  {
   "cell_type": "code",
   "execution_count": null,
   "id": "688783d7",
   "metadata": {},
   "outputs": [],
   "source": [
    "merged_df_NAVER_MAP = pd.merge(df_NAVER_MAP_1, df_NAVER_MAP_2, on=['title', 'link', 'description'], how='outer')\n",
    "df_NAVER_MAP = merged_df_NAVER_MAP.drop_duplicates()"
   ]
  },
  {
   "cell_type": "raw",
   "id": "6aa219ac",
   "metadata": {},
   "source": [
    "# CSV 파일로 저장\n",
    "df_NAVER_MAP.to_csv('네이버지도(블로그)-924row.csv', index=False)"
   ]
  },
  {
   "cell_type": "markdown",
   "id": "56ea3889",
   "metadata": {},
   "source": [
    "### 주제: 네이버쇼핑 - 네이버블로그"
   ]
  },
  {
   "cell_type": "code",
   "execution_count": null,
   "id": "f0208190",
   "metadata": {},
   "outputs": [],
   "source": [
    "query = '네이버쇼핑'\n",
    "display = 100\n",
    "start = 1000\n",
    "sort = 'sim'\n",
    "\n",
    "result_NAVER_SHOP = []\n",
    "for i in range(0,10):\n",
    "    start = 1 + 100*i # (1) 검색 시작 위치 계산\n",
    "    result_naver_SHOP = getresult(client_id, client_secret, query, display, start, sort) # (2) 검색 결과를 가져오는 함수 호출\n",
    "    result_NAVER_SHOP.append(result_naver_SHOP)\n"
   ]
  },
  {
   "cell_type": "code",
   "execution_count": null,
   "id": "9fe85578",
   "metadata": {},
   "outputs": [],
   "source": [
    "# 리스트 컴프리헨션을 사용하여 이중 리스트 풀기\n",
    "result_NAVER_SHOP = [item for sublist in result_NAVER_SHOP for item in sublist]\n"
   ]
  },
  {
   "cell_type": "code",
   "execution_count": null,
   "id": "b2ac87af",
   "metadata": {},
   "outputs": [],
   "source": [
    "len(result_NAVER_SHOP)"
   ]
  },
  {
   "cell_type": "code",
   "execution_count": null,
   "id": "2b5cc283",
   "metadata": {},
   "outputs": [],
   "source": [
    "titles = []\n",
    "links = []\n",
    "descriptions = []\n",
    "\n",
    "p = re.compile('https://blog.naver.com/.+')\n",
    "for item in result_NAVER_SHOP:\n",
    "    if p.match(item['link']): ## <link>태그의 문자열이 blog.naver.com/으로 시작하는 결과만 추출\n",
    "        title = sub_html_special_char(remove_tag(item['title']))\n",
    "        link = item['link']\n",
    "        description = item['description']\n",
    "        links.append(link)\n",
    "        \n",
    "        html = requests.get(link)\n",
    "        bs_obj01 = BeautifulSoup(html.text, 'html.parser')\n",
    "        src_url = \"https://blog.naver.com/\" + bs_obj01.iframe[\"src\"]\n",
    "        \n",
    "        html = requests.get(src_url)\n",
    "        bs_obj02 = BeautifulSoup(html.text, 'html.parser')\n",
    "\n",
    "        title_elements = bs_obj02.find_all('div', {'class': 'se-module se-module-text se-title-text'})\n",
    "        if title_elements:\n",
    "            title = title_elements[0].text.replace('\\n', '')\n",
    "        else:\n",
    "            title = \"No title found\"\n",
    "        \n",
    "        text_elements = bs_obj02.find_all('div', {'class':'se-main-container'})\n",
    "        if text_elements:\n",
    "            text = text_elements[0].text.replace('\\n','')\n",
    "        else: \n",
    "            text = \"No text found\"\n",
    "\n",
    "        # title = bs_obj02.find_all('div', {'class': 'se-module se-module-text se-title-text'})\n",
    "        # title = title[0].text.replace('\\n','')\n",
    "        # text = bs_obj02.find_all('div', {'class':'se-main-container'})\n",
    "        # text = text[0].text.replace('\\n','')\n",
    "        \n",
    "        titles.append(title)\n",
    "        descriptions.append(text)\n",
    "        \n",
    "        time.sleep(1)"
   ]
  },
  {
   "cell_type": "code",
   "execution_count": null,
   "id": "735ffb6a",
   "metadata": {},
   "outputs": [],
   "source": [
    "result_dict_NAVER_SHOP = {'title': titles, 'link': links, 'description': descriptions}\n",
    "df_NAVER_SHOP = pd.DataFrame.from_dict(result_dict_NAVER_SHOP)"
   ]
  },
  {
   "cell_type": "raw",
   "id": "3a7239d8",
   "metadata": {},
   "source": [
    "# CSV 파일로 저장\n",
    "df_NAVER_SHOP.to_csv('네이버쇼핑1(블로그)-989row.csv', index=False)"
   ]
  },
  {
   "cell_type": "raw",
   "id": "7350817e",
   "metadata": {},
   "source": [
    "# CSV 파일로 저장\n",
    "df_NAVER_SHOP.to_csv('네이버쇼핑2(블로그)-991row.csv', index=False)"
   ]
  },
  {
   "cell_type": "markdown",
   "id": "bb2c209a",
   "metadata": {},
   "source": [
    "**주제: 네이버쇼핑 - 데이터프레임 중복 제거**"
   ]
  },
  {
   "cell_type": "code",
   "execution_count": null,
   "id": "d23c1877",
   "metadata": {},
   "outputs": [],
   "source": [
    "df_NAVER_SHOP_1 = pd.read_csv('네이버쇼핑1(블로그)-989row.csv')\n",
    "df_NAVER_SHOP_2 = pd.read_csv('네이버쇼핑2(블로그)-991row.csv')"
   ]
  },
  {
   "cell_type": "code",
   "execution_count": null,
   "id": "77dfe708",
   "metadata": {},
   "outputs": [],
   "source": [
    "merged_df_NAVER_SHOP = pd.merge(df_NAVER_SHOP_1, df_NAVER_SHOP_2, on=['title', 'link', 'description'], how='outer')\n",
    "df_NAVER_SHOP = merged_df_NAVER_SHOP.drop_duplicates()"
   ]
  },
  {
   "cell_type": "raw",
   "id": "ed03184f",
   "metadata": {},
   "source": [
    "# CSV 파일로 저장\n",
    "df_NAVER_SHOP.to_csv('네이버쇼핑(블로그)-1000row.csv', index=False)"
   ]
  },
  {
   "cell_type": "markdown",
   "id": "60f02256",
   "metadata": {},
   "source": [
    "### 주제: 네이버블로그 - 네이버블로그"
   ]
  },
  {
   "cell_type": "code",
   "execution_count": null,
   "id": "880b40c3",
   "metadata": {},
   "outputs": [],
   "source": [
    "query = '네이버블로그'\n",
    "display = 100\n",
    "start = 1000\n",
    "sort = 'sim'\n",
    "\n",
    "result_NAVER_BLOG = []\n",
    "for i in range(0,10):\n",
    "    start = 1 + 100*i # (1) 검색 시작 위치 계산\n",
    "    result_naver_BLOG = getresult(client_id, client_secret, query, display, start, sort)# (2) 검색 결과를 가져오는 함수 호출\n",
    "    result_NAVER_BLOG.append(result_naver_BLOG)\n"
   ]
  },
  {
   "cell_type": "code",
   "execution_count": null,
   "id": "8f2294a1",
   "metadata": {},
   "outputs": [],
   "source": [
    "# 리스트 컴프리헨션을 사용하여 이중 리스트 풀기\n",
    "result_NAVER_BLOG = [item for sublist in result_NAVER_BLOG for item in sublist]\n"
   ]
  },
  {
   "cell_type": "code",
   "execution_count": null,
   "id": "459bdf9e",
   "metadata": {},
   "outputs": [],
   "source": [
    "len(result_NAVER_BLOG)"
   ]
  },
  {
   "cell_type": "code",
   "execution_count": null,
   "id": "1cc43af1",
   "metadata": {},
   "outputs": [],
   "source": [
    "titles = []\n",
    "links = []\n",
    "descriptions = []\n",
    "\n",
    "p = re.compile('https://blog.naver.com/.+')\n",
    "for item in result_NAVER_BLOG:\n",
    "    if p.match(item['link']): ## <link>태그의 문자열이 blog.naver.com/으로 시작하는 결과만 추출\n",
    "        title = sub_html_special_char(remove_tag(item['title']))\n",
    "        link = item['link']\n",
    "        description = item['description']\n",
    "        links.append(link)\n",
    "        \n",
    "        html = requests.get(link)\n",
    "        bs_obj01 = BeautifulSoup(html.text, 'html.parser')\n",
    "        src_url = \"https://blog.naver.com/\" + bs_obj01.iframe[\"src\"]\n",
    "        \n",
    "        html = requests.get(src_url)\n",
    "        bs_obj02 = BeautifulSoup(html.text, 'html.parser')\n",
    "\n",
    "        title_elements = bs_obj02.find_all('div', {'class': 'se-module se-module-text se-title-text'})\n",
    "        if title_elements:\n",
    "            title = title_elements[0].text.replace('\\n', '')\n",
    "        else:\n",
    "            title = \"No title found\"\n",
    "        \n",
    "        text_elements = bs_obj02.find_all('div', {'class':'se-main-container'})\n",
    "        if text_elements:\n",
    "            text = text_elements[0].text.replace('\\n','')\n",
    "        else: \n",
    "            text = \"No text found\"\n",
    "\n",
    "        # title = bs_obj02.find_all('div', {'class': 'se-module se-module-text se-title-text'})\n",
    "        # title = title[0].text.replace('\\n','')\n",
    "        # text = bs_obj02.find_all('div', {'class':'se-main-container'})\n",
    "        # text = text[0].text.replace('\\n','')\n",
    "        \n",
    "        titles.append(title)\n",
    "        descriptions.append(text)\n",
    "        \n",
    "        time.sleep(1)"
   ]
  },
  {
   "cell_type": "code",
   "execution_count": null,
   "id": "1ebfca53",
   "metadata": {},
   "outputs": [],
   "source": [
    "result_dict_NAVER_BLOG = {'title': titles, 'link': links, 'description': descriptions}\n",
    "df_NAVER_BLOG = pd.DataFrame.from_dict(result_dict_NAVER_BLOG)"
   ]
  },
  {
   "cell_type": "raw",
   "id": "18adaf75",
   "metadata": {},
   "source": [
    "# CSV 파일로 저장\n",
    "df_NAVER_BLOG.to_csv('네이버블로그(블로그)-975row.csv', index=False)"
   ]
  },
  {
   "cell_type": "markdown",
   "id": "7181af02",
   "metadata": {},
   "source": [
    "**주제: 네이버블로그 - 데이터프레임 중복 제거**"
   ]
  },
  {
   "cell_type": "code",
   "execution_count": null,
   "id": "f3f92425",
   "metadata": {},
   "outputs": [],
   "source": [
    "df_NAVER_BLOG_1 = pd.read_csv('.csv')\n",
    "df_NAVER_BLOG_2 = pd.read_csv('.csv')\n",
    "df_NAVER_BLOG_3 = pd.read_csv('.csv')"
   ]
  },
  {
   "cell_type": "code",
   "execution_count": null,
   "id": "70718c0c",
   "metadata": {},
   "outputs": [],
   "source": [
    "merged_df_NAVER_BLOG = pd.merge(df_NAVER_BLOG_1234, df_NAVER_BLOG_5, on=['title', 'link', 'description'], how='outer')\n",
    "df_NAVER_BLOG = merged_df_NAVER_BLOG.drop_duplicates()"
   ]
  },
  {
   "cell_type": "raw",
   "id": "0fc89f4b",
   "metadata": {},
   "source": [
    "# CSV 파일로 저장\n",
    "df_NAVER_BLOG.to_csv('네이버(블로그)-1944row.csv', index=False)"
   ]
  },
  {
   "cell_type": "markdown",
   "id": "b8e1947e",
   "metadata": {},
   "source": [
    "### 주제: 네이버클라우드 - 네이버뉴스"
   ]
  },
  {
   "cell_type": "code",
   "execution_count": null,
   "id": "0176385f",
   "metadata": {},
   "outputs": [],
   "source": [
    "query = '네이버클라우드'\n",
    "display = 100\n",
    "start = 1000\n",
    "sort = 'sim'\n",
    "\n",
    "result_NAVER_CLOUD = []\n",
    "for i in range(0,10):\n",
    "    start = 1 + 100*i # (1) 검색 시작 위치 계산\n",
    "    result_naver_CLOUD = getresult(client_id, client_secret, query, display, start, sort) # (2) 검색 결과를 가져오는 함수 호출\n",
    "    result_NAVER_CLOUD.append(result_naver_CLOUD)\n"
   ]
  },
  {
   "cell_type": "code",
   "execution_count": null,
   "id": "975f1158",
   "metadata": {},
   "outputs": [],
   "source": [
    "# 리스트 컴프리헨션을 사용하여 이중 리스트 풀기\n",
    "result_NAVER_CLOUD = [item for sublist in result_NAVER_CLOUD for item in sublist]\n"
   ]
  },
  {
   "cell_type": "code",
   "execution_count": null,
   "id": "4edeb2fb",
   "metadata": {},
   "outputs": [],
   "source": [
    "len(result_NAVER_CLOUD)"
   ]
  },
  {
   "cell_type": "code",
   "execution_count": null,
   "id": "299a52ad",
   "metadata": {},
   "outputs": [],
   "source": [
    "titles = []\n",
    "links = []\n",
    "descriptions = []\n",
    "\n",
    "p = re.compile('https://blog.naver.com/.+')\n",
    "for item in result_NAVER_CLOUD:\n",
    "    if p.match(item['link']): ## <link>태그의 문자열이 blog.naver.com/으로 시작하는 결과만 추출\n",
    "        title = sub_html_special_char(remove_tag(item['title']))\n",
    "        link = item['link']\n",
    "        description = item['description']\n",
    "        links.append(link)\n",
    "        \n",
    "        html = requests.get(link)\n",
    "        bs_obj01 = BeautifulSoup(html.text, 'html.parser')\n",
    "        src_url = \"https://blog.naver.com/\" + bs_obj01.iframe[\"src\"]\n",
    "        \n",
    "        html = requests.get(src_url)\n",
    "        bs_obj02 = BeautifulSoup(html.text, 'html.parser')\n",
    "\n",
    "        title_elements = bs_obj02.find_all('div', {'class': 'se-module se-module-text se-title-text'})\n",
    "        if title_elements:\n",
    "            title = title_elements[0].text.replace('\\n', '')\n",
    "        else:\n",
    "            title = \"No title found\"\n",
    "        \n",
    "        text_elements = bs_obj02.find_all('div', {'class':'se-main-container'})\n",
    "        if text_elements:\n",
    "            text = text_elements[0].text.replace('\\n','')\n",
    "        else: \n",
    "            text = \"No text found\"\n",
    "\n",
    "        # title = bs_obj02.find_all('div', {'class': 'se-module se-module-text se-title-text'})\n",
    "        # title = title[0].text.replace('\\n','')\n",
    "        # text = bs_obj02.find_all('div', {'class':'se-main-container'})\n",
    "        # text = text[0].text.replace('\\n','')\n",
    "        \n",
    "        titles.append(title)\n",
    "        descriptions.append(text)\n",
    "        \n",
    "        time.sleep(1)"
   ]
  },
  {
   "cell_type": "code",
   "execution_count": null,
   "id": "58497c85",
   "metadata": {},
   "outputs": [],
   "source": [
    "result_dict_NAVER_CLOUD = {'title': titles, 'link': links, 'description': descriptions}\n",
    "df_NAVER_CLOUD = pd.DataFrame.from_dict(result_dict_NAVER_CLOUD)"
   ]
  },
  {
   "cell_type": "raw",
   "id": "683db9da",
   "metadata": {},
   "source": [
    "# CSV 파일로 저장\n",
    "df_NAVER_CLOUD.to_csv('네이버클라우드(블로그)-927row.csv', index=False)"
   ]
  },
  {
   "cell_type": "code",
   "execution_count": null,
   "id": "61d6ce16",
   "metadata": {},
   "outputs": [],
   "source": []
  },
  {
   "cell_type": "code",
   "execution_count": null,
   "id": "7c4d9f8f",
   "metadata": {},
   "outputs": [],
   "source": []
  },
  {
   "cell_type": "code",
   "execution_count": null,
   "id": "021b3274",
   "metadata": {},
   "outputs": [],
   "source": []
  },
  {
   "cell_type": "code",
   "execution_count": null,
   "id": "bca8f4fa",
   "metadata": {},
   "outputs": [],
   "source": []
  },
  {
   "cell_type": "code",
   "execution_count": null,
   "id": "9d05cce8",
   "metadata": {},
   "outputs": [],
   "source": []
  },
  {
   "cell_type": "code",
   "execution_count": null,
   "id": "30cceead",
   "metadata": {},
   "outputs": [],
   "source": []
  },
  {
   "cell_type": "code",
   "execution_count": null,
   "id": "47038208",
   "metadata": {},
   "outputs": [],
   "source": []
  },
  {
   "cell_type": "code",
   "execution_count": null,
   "id": "7694bf4e",
   "metadata": {},
   "outputs": [],
   "source": []
  },
  {
   "cell_type": "code",
   "execution_count": null,
   "id": "de76a058",
   "metadata": {},
   "outputs": [],
   "source": []
  },
  {
   "cell_type": "code",
   "execution_count": null,
   "id": "507dc718",
   "metadata": {},
   "outputs": [],
   "source": []
  },
  {
   "cell_type": "code",
   "execution_count": null,
   "id": "1047e434",
   "metadata": {},
   "outputs": [],
   "source": []
  },
  {
   "cell_type": "code",
   "execution_count": null,
   "id": "ce35fc38",
   "metadata": {},
   "outputs": [],
   "source": []
  },
  {
   "cell_type": "code",
   "execution_count": null,
   "id": "9835410d",
   "metadata": {},
   "outputs": [],
   "source": []
  },
  {
   "cell_type": "code",
   "execution_count": null,
   "id": "ba6ae6ba",
   "metadata": {},
   "outputs": [],
   "source": []
  },
  {
   "cell_type": "code",
   "execution_count": null,
   "id": "870c6ea9",
   "metadata": {},
   "outputs": [],
   "source": []
  },
  {
   "cell_type": "code",
   "execution_count": null,
   "id": "31b9c56b",
   "metadata": {},
   "outputs": [],
   "source": []
  },
  {
   "cell_type": "code",
   "execution_count": null,
   "id": "caef475f",
   "metadata": {},
   "outputs": [],
   "source": []
  },
  {
   "cell_type": "code",
   "execution_count": null,
   "id": "4a2c7839",
   "metadata": {},
   "outputs": [],
   "source": []
  },
  {
   "cell_type": "code",
   "execution_count": null,
   "id": "95c7e949",
   "metadata": {},
   "outputs": [],
   "source": []
  },
  {
   "cell_type": "code",
   "execution_count": null,
   "id": "c0fb45d2",
   "metadata": {},
   "outputs": [],
   "source": []
  }
 ],
 "metadata": {
  "kernelspec": {
   "display_name": "Python 3 (ipykernel)",
   "language": "python",
   "name": "python3"
  },
  "language_info": {
   "codemirror_mode": {
    "name": "ipython",
    "version": 3
   },
   "file_extension": ".py",
   "mimetype": "text/x-python",
   "name": "python",
   "nbconvert_exporter": "python",
   "pygments_lexer": "ipython3",
   "version": "3.11.5"
  }
 },
 "nbformat": 4,
 "nbformat_minor": 5
}
